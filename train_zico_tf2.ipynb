{
  "cells": [
    {
      "cell_type": "markdown",
      "metadata": {},
      "source": [
        "# TF 2 Rewrite of Zico MNIST [Attempt_2] (Includes test results)"
      ]
    },
    {
      "cell_type": "code",
      "execution_count": 1,
      "metadata": {},
      "outputs": [],
      "source": [
        "import tensorflow as tf"
      ]
    },
    {
      "cell_type": "code",
      "execution_count": 2,
      "metadata": {},
      "outputs": [],
      "source": [
        "(x_train, y_train), (x_test, y_test) = tf.keras.datasets.mnist.load_data()"
      ]
    },
    {
      "cell_type": "markdown",
      "metadata": {},
      "source": [
        "## Tests on Zico MNIST Trained on Clean Examples"
      ]
    },
    {
      "cell_type": "markdown",
      "metadata": {},
      "source": [
        "### Train model with Zico's Architecture"
      ]
    },
    {
      "cell_type": "code",
      "execution_count": 3,
      "metadata": {},
      "outputs": [],
      "source": [
        "# resize x_train and x_test\n",
        "x_train = x_train.reshape(-1, 28, 28, 1)\n",
        "x_test = x_test.reshape(-1, 28, 28, 1)"
      ]
    },
    {
      "cell_type": "code",
      "execution_count": 4,
      "metadata": {},
      "outputs": [
        {
          "name": "stdout",
          "output_type": "stream",
          "text": [
            "Epoch 1/10\n",
            "1875/1875 [==============================] - 17s 8ms/step - loss: 0.3058 - accuracy: 0.9499\n",
            "Epoch 2/10\n",
            "1875/1875 [==============================] - 15s 8ms/step - loss: 0.0674 - accuracy: 0.9804\n",
            "Epoch 3/10\n",
            "1875/1875 [==============================] - 16s 9ms/step - loss: 0.0546 - accuracy: 0.9838\n",
            "Epoch 4/10\n",
            "1875/1875 [==============================] - 17s 9ms/step - loss: 0.0430 - accuracy: 0.9871\n",
            "Epoch 5/10\n",
            "1875/1875 [==============================] - 17s 9ms/step - loss: 0.0394 - accuracy: 0.9890\n",
            "Epoch 6/10\n",
            "1875/1875 [==============================] - 16s 9ms/step - loss: 0.0332 - accuracy: 0.9908\n",
            "Epoch 7/10\n",
            "1875/1875 [==============================] - 16s 8ms/step - loss: 0.0294 - accuracy: 0.9923\n",
            "Epoch 8/10\n",
            "1875/1875 [==============================] - 16s 8ms/step - loss: 0.0265 - accuracy: 0.9932\n",
            "Epoch 9/10\n",
            "1875/1875 [==============================] - 16s 9ms/step - loss: 0.0310 - accuracy: 0.9933\n",
            "Epoch 10/10\n",
            "1875/1875 [==============================] - 16s 9ms/step - loss: 0.0264 - accuracy: 0.9948\n",
            "313/313 [==============================] - 2s 5ms/step - loss: 0.1868 - accuracy: 0.9803\n"
          ]
        },
        {
          "data": {
            "text/plain": [
              "[0.18679848313331604, 0.9803000092506409]"
            ]
          },
          "execution_count": 4,
          "metadata": {},
          "output_type": "execute_result"
        }
      ],
      "source": [
        "# sequential model with conv2d 16, padding valid, relu -> conv2d 32, padding valid, relu -> softmax\n",
        "model = tf.keras.Sequential([\n",
        "    tf.keras.layers.Conv2D(16, kernel_size=4, padding='valid', activation='relu', input_shape=(28, 28, 1)),\n",
        "    tf.keras.layers.Conv2D(32, kernel_size=4, padding='valid', activation='relu'),\n",
        "    tf.keras.layers.Flatten(),\n",
        "    tf.keras.layers.Dense(10, activation='softmax')\n",
        "])\n",
        "\n",
        "# train on mnist\n",
        "model.compile(optimizer='adam',\n",
        "                loss='sparse_categorical_crossentropy',\n",
        "                metrics=['accuracy'])\n",
        "model.fit(x_train, y_train, epochs=10)\n",
        "model.evaluate(x_test, y_test)\n"
      ]
    },
    {
      "cell_type": "code",
      "execution_count": 7,
      "metadata": {},
      "outputs": [],
      "source": [
        "# load clean model\n",
        "model = tf.keras.models.load_model('assets/models/mnist_zico.h5')"
      ]
    },
    {
      "cell_type": "code",
      "execution_count": null,
      "metadata": {},
      "outputs": [],
      "source": [
        "# save mnist_zico\n",
        "model.save('assets/models/mnist_zico.h5')\n"
      ]
    },
    {
      "cell_type": "markdown",
      "metadata": {},
      "source": [
        "### Test Zico's Model against Clean Examples"
      ]
    },
    {
      "cell_type": "code",
      "execution_count": 27,
      "metadata": {},
      "outputs": [
        {
          "data": {
            "text/plain": [
              "[0.21455569696724378, 0.9771]"
            ]
          },
          "execution_count": 27,
          "metadata": {},
          "output_type": "execute_result"
        }
      ],
      "source": [
        "model.evaluate(x_test, y_test)"
      ]
    },
    {
      "cell_type": "markdown",
      "metadata": {},
      "source": [
        "### Test Zico's model against Unrestricted Adversarial Examples"
      ]
    },
    {
      "cell_type": "code",
      "execution_count": 16,
      "metadata": {},
      "outputs": [
        {
          "data": {
            "image/png": "[encoded data removed]",
            "text/plain": [
              "<Figure size 432x288 with 1 Axes>"
            ]
          },
          "metadata": {
            "needs_background": "light"
          },
          "output_type": "display_data"
        },
        {
          "name": "stdout",
          "output_type": "stream",
          "text": [
            "(94372, 28, 28, 1)\n",
            "(94372,)\n"
          ]
        }
      ],
      "source": [
        "import numpy as np \n",
        "import matplotlib.pyplot as plt\n",
        "\n",
        "# load mnist_adv dataset\n",
        "# adv_path = 'assets/data/mnist_adv/'\n",
        "adv_path = 'mnist_zico_defense_by_attack_with_z0/'\n",
        "adv_files = []\n",
        "X_adv = []\n",
        "y_adv = []\n",
        "\n",
        "# for loop to load all the images\n",
        "for source in range(10):\n",
        "    for target in range(10):\n",
        "        if(source != target):\n",
        "          file = np.load(adv_path + 'from' + str(source) + 'to' + str(target) + '.npz')\n",
        "          adv_files.append(file)\n",
        "          y_adv.extend(np.full(len(file['adv_imgs']), source).tolist())\n",
        "\n",
        "keys = adv_files[0].files\n",
        "\n",
        "for file in adv_files:\n",
        "  with file as data:\n",
        "      X_adv.extend(data[keys[0]])\n",
        "\n",
        "X_adv = np.array(X_adv)\n",
        "y_adv = np.array(y_adv)\n",
        "y_one_hot = np.take(np.eye(10), y_adv, axis=0)\n",
        "\n",
        "plt.imshow(X_adv[0], cmap='gray')\n",
        "plt.show()\n",
        "print(X_adv.shape)\n",
        "print(y_adv.shape)"
      ]
    },
    {
      "cell_type": "code",
      "execution_count": 10,
      "metadata": {},
      "outputs": [
        {
          "data": {
            "text/plain": [
              "[2.5970321695068814, 0.16358666]"
            ]
          },
          "execution_count": 10,
          "metadata": {},
          "output_type": "execute_result"
        }
      ],
      "source": [
        "model.evaluate(X_adv, y_adv)"
      ]
    },
    {
      "cell_type": "code",
      "execution_count": 11,
      "metadata": {},
      "outputs": [
        {
          "data": {
            "text/plain": [
              "[0.21455569696724378, 0.9771]"
            ]
          },
          "execution_count": 11,
          "metadata": {},
          "output_type": "execute_result"
        }
      ],
      "source": [
        "model.evaluate(x_test, y_test)"
      ]
    },
    {
      "cell_type": "markdown",
      "metadata": {},
      "source": [
        "## Tests on model_adv (trained on Unrestricted Adversarial Examples)"
      ]
    },
    {
      "cell_type": "markdown",
      "metadata": {},
      "source": [
        "### Test model_adv against Unrestricted Adversarial Examples"
      ]
    },
    {
      "cell_type": "code",
      "execution_count": 22,
      "metadata": {},
      "outputs": [],
      "source": [
        "# load model_adv\n",
        "model_adv = tf.keras.models.load_model('assets/models/mnist_adv_model.h5')"
      ]
    },
    {
      "cell_type": "code",
      "execution_count": 17,
      "metadata": {},
      "outputs": [
        {
          "name": "stderr",
          "output_type": "stream",
          "text": [
            "c:\\Users\\Hisku\\AppData\\Local\\Programs\\Python\\Python39\\lib\\site-packages\\keras\\engine\\training_v1.py:2057: UserWarning: `Model.state_updates` will be removed in a future version. This property should not be used in TensorFlow 2.0, as `updates` are applied automatically.\n",
            "  updates = self.state_updates\n"
          ]
        },
        {
          "data": {
            "text/plain": [
              "[0.002769992194468266, 0.9991947]"
            ]
          },
          "execution_count": 17,
          "metadata": {},
          "output_type": "execute_result"
        }
      ],
      "source": [
        "model_adv.evaluate(X_adv, y_adv)"
      ]
    },
    {
      "cell_type": "markdown",
      "metadata": {},
      "source": [
        "### Test model_adv against Clean Examples"
      ]
    },
    {
      "cell_type": "code",
      "execution_count": 16,
      "metadata": {},
      "outputs": [],
      "source": [
        "import tensorflow_datasets as tfds\n",
        "\n",
        "(ds_train, ds_test), ds_info = tfds.load(\n",
        "    'mnist',\n",
        "    split=['train', 'test'],\n",
        "    shuffle_files=True,\n",
        "    as_supervised=True,\n",
        "    with_info=True,\n",
        ")\n",
        "\n",
        "def normalize_img(image, label):\n",
        "  \"\"\"Normalizes images: `uint8` -> `float32`.\"\"\"\n",
        "  return tf.cast(image, tf.float32) / 255., label\n",
        "\n",
        "ds_test = ds_test.map(\n",
        "    normalize_img, num_parallel_calls=tf.data.AUTOTUNE)\n",
        "ds_test = ds_test.batch(128)\n",
        "ds_test = ds_test.cache()\n",
        "ds_test = ds_test.prefetch(tf.data.AUTOTUNE)"
      ]
    },
    {
      "cell_type": "code",
      "execution_count": 26,
      "metadata": {},
      "outputs": [
        {
          "data": {
            "text/plain": [
              "[0.056600362118267265, 0.9858]"
            ]
          },
          "execution_count": 26,
          "metadata": {},
          "output_type": "execute_result"
        }
      ],
      "source": [
        "model_adv.evaluate(ds_test)"
      ]
    },
    {
      "cell_type": "code",
      "execution_count": 43,
      "metadata": {},
      "outputs": [
        {
          "name": "stdout",
          "output_type": "stream",
          "text": [
            "1875/1875 [==============================] - 7s 4ms/step - loss: 879.6095 - sparse_categorical_accuracy: 0.7211\n"
          ]
        },
        {
          "data": {
            "text/plain": [
              "[879.6094970703125, 0.7210833430290222]"
            ]
          },
          "execution_count": 43,
          "metadata": {},
          "output_type": "execute_result"
        }
      ],
      "source": [
        "model_adv.evaluate(x_train, y_train)"
      ]
    },
    {
      "cell_type": "markdown",
      "metadata": {},
      "source": [
        "## Train Zico MNIST on Adversarial Examples"
      ]
    },
    {
      "cell_type": "markdown",
      "metadata": {},
      "source": [
        "### Import libraries and load dataset"
      ]
    },
    {
      "cell_type": "code",
      "execution_count": 3,
      "metadata": {},
      "outputs": [],
      "source": [
        "# Import the attack\n",
        "import tensorflow as tf\n",
        "import numpy as np\n",
        "import matplotlib.pyplot as plt"
      ]
    },
    {
      "cell_type": "markdown",
      "metadata": {},
      "source": [
        "### Generate SPSA for Zico MNIST"
      ]
    },
    {
      "cell_type": "code",
      "execution_count": 8,
      "metadata": {},
      "outputs": [],
      "source": [
        "from cleverhans.tf2.attacks.spsa import spsa\n",
        "\n",
        "#The attack requires the model to ouput the logits\n",
        "logits_model = tf.keras.Model(model.input,model.layers[-1].output)"
      ]
    },
    {
      "cell_type": "code",
      "execution_count": 9,
      "metadata": {},
      "outputs": [],
      "source": [
        "# load mnist\n",
        "mnist = tf.keras.datasets.mnist\n",
        "(train_images, train_labels), (test_images, test_labels) = mnist.load_data()\n",
        "\n",
        "train_images = train_images / 255.0\n",
        "test_images = test_images / 255.0\n",
        "\n",
        "num_classes = 10"
      ]
    },
    {
      "cell_type": "code",
      "execution_count": 16,
      "metadata": {},
      "outputs": [
        {
          "ename": "AttributeError",
          "evalue": "'numpy.ndarray' object has no attribute 'get_shape'",
          "output_type": "error",
          "traceback": [
            "\u001b[1;31m---------------------------------------------------------------------------\u001b[0m",
            "\u001b[1;31mAttributeError\u001b[0m                            Traceback (most recent call last)",
            "\u001b[1;32m~\\AppData\\Local\\Temp/ipykernel_7236/3446962531.py\u001b[0m in \u001b[0;36m<module>\u001b[1;34m\u001b[0m\n\u001b[0;32m      1\u001b[0m \u001b[1;31m# perform spsa on train_images\u001b[0m\u001b[1;33m\u001b[0m\u001b[1;33m\u001b[0m\u001b[1;33m\u001b[0m\u001b[0m\n\u001b[1;32m----> 2\u001b[1;33m \u001b[0mattack\u001b[0m \u001b[1;33m=\u001b[0m \u001b[0mspsa\u001b[0m\u001b[1;33m(\u001b[0m\u001b[0mlogits_model\u001b[0m\u001b[1;33m,\u001b[0m \u001b[0mx\u001b[0m \u001b[1;33m=\u001b[0m \u001b[0mtrain_images\u001b[0m\u001b[1;33m,\u001b[0m \u001b[0my\u001b[0m \u001b[1;33m=\u001b[0m \u001b[0mtrain_labels\u001b[0m\u001b[1;33m,\u001b[0m \u001b[0meps\u001b[0m \u001b[1;33m=\u001b[0m \u001b[1;36m0.3\u001b[0m\u001b[1;33m,\u001b[0m \u001b[0mnb_iter\u001b[0m \u001b[1;33m=\u001b[0m \u001b[1;36m10\u001b[0m\u001b[1;33m)\u001b[0m\u001b[1;33m\u001b[0m\u001b[1;33m\u001b[0m\u001b[0m\n\u001b[0m\u001b[0;32m      3\u001b[0m \u001b[1;33m\u001b[0m\u001b[0m\n\u001b[0;32m      4\u001b[0m \u001b[1;33m\u001b[0m\u001b[0m\n\u001b[0;32m      5\u001b[0m \u001b[1;31m# perform the attack\u001b[0m\u001b[1;33m\u001b[0m\u001b[1;33m\u001b[0m\u001b[1;33m\u001b[0m\u001b[0m\n",
            "\u001b[1;32mc:\\Users\\Hisku\\AppData\\Local\\Programs\\Python\\Python39\\lib\\site-packages\\cleverhans\\tf2\\attacks\\spsa.py\u001b[0m in \u001b[0;36mspsa\u001b[1;34m(model_fn, x, y, eps, nb_iter, clip_min, clip_max, targeted, early_stop_loss_threshold, learning_rate, delta, spsa_samples, spsa_iters, is_debug)\u001b[0m\n\u001b[0;32m     48\u001b[0m     \u001b[1;33m:\u001b[0m\u001b[0mparam\u001b[0m \u001b[0mis_debug\u001b[0m\u001b[1;33m:\u001b[0m \u001b[0mIf\u001b[0m \u001b[1;32mTrue\u001b[0m\u001b[1;33m,\u001b[0m \u001b[0mprint\u001b[0m \u001b[0mthe\u001b[0m \u001b[0madversarial\u001b[0m \u001b[0mloss\u001b[0m \u001b[0mafter\u001b[0m \u001b[0meach\u001b[0m \u001b[0mupdate\u001b[0m\u001b[1;33m.\u001b[0m\u001b[1;33m\u001b[0m\u001b[1;33m\u001b[0m\u001b[0m\n\u001b[0;32m     49\u001b[0m     \"\"\"\n\u001b[1;32m---> 50\u001b[1;33m     \u001b[1;32mif\u001b[0m \u001b[0mx\u001b[0m\u001b[1;33m.\u001b[0m\u001b[0mget_shape\u001b[0m\u001b[1;33m(\u001b[0m\u001b[1;33m)\u001b[0m\u001b[1;33m.\u001b[0m\u001b[0mas_list\u001b[0m\u001b[1;33m(\u001b[0m\u001b[1;33m)\u001b[0m\u001b[1;33m[\u001b[0m\u001b[1;36m0\u001b[0m\u001b[1;33m]\u001b[0m \u001b[1;33m!=\u001b[0m \u001b[1;36m1\u001b[0m\u001b[1;33m:\u001b[0m\u001b[1;33m\u001b[0m\u001b[1;33m\u001b[0m\u001b[0m\n\u001b[0m\u001b[0;32m     51\u001b[0m         \u001b[1;32mraise\u001b[0m \u001b[0mValueError\u001b[0m\u001b[1;33m(\u001b[0m\u001b[1;34m\"For SPSA, input tensor x must have batch_size of 1.\"\u001b[0m\u001b[1;33m)\u001b[0m\u001b[1;33m\u001b[0m\u001b[1;33m\u001b[0m\u001b[0m\n\u001b[0;32m     52\u001b[0m \u001b[1;33m\u001b[0m\u001b[0m\n",
            "\u001b[1;31mAttributeError\u001b[0m: 'numpy.ndarray' object has no attribute 'get_shape'"
          ]
        }
      ],
      "source": [
        "# perform spsa on train_images\n",
        "attack = spsa(logits_model, x = train_images, y = train_labels, eps = 0.3, nb_iter = 10)\n",
        "\n",
        "# perform the attack\n",
        "adv_images = attack.generate(train_images)\n"
      ]
    },
    {
      "cell_type": "markdown",
      "metadata": {},
      "source": [
        "### Generate FGSM for Zico MNIST"
      ]
    },
    {
      "cell_type": "code",
      "execution_count": 6,
      "metadata": {},
      "outputs": [],
      "source": [
        "from cleverhans.tf2.attacks.fast_gradient_method import fast_gradient_method\n",
        "\n",
        "#The attack requires the model to ouput the logits\n",
        "logits_model = tf.keras.Model(model.input,model.layers[-1].output)"
      ]
    },
    {
      "cell_type": "code",
      "execution_count": 7,
      "metadata": {},
      "outputs": [],
      "source": [
        "# load mnist\n",
        "mnist = tf.keras.datasets.mnist\n",
        "(train_images, train_labels), (test_images, test_labels) = mnist.load_data()\n",
        "\n",
        "train_images = train_images / 255.0\n",
        "test_images = test_images / 255.0\n",
        "\n",
        "num_classes = 10"
      ]
    },
    {
      "cell_type": "code",
      "execution_count": 8,
      "metadata": {},
      "outputs": [],
      "source": [
        "\n",
        "random_index = np.random.randint(test_images.shape[0])\n",
        "\n",
        "original_image = test_images[random_index]\n",
        "original_image = tf.convert_to_tensor(original_image.reshape((1,28,28))) #The .reshape just gives it the proper form to input into the model, a batch of 1 a.k.a a tensor\n",
        "\n",
        "original_label = test_labels[random_index]\n",
        "original_label = np.reshape(original_label, (1,)).astype('int64') # Give label proper shape and type for cleverhans"
      ]
    },
    {
      "cell_type": "code",
      "execution_count": 14,
      "metadata": {},
      "outputs": [
        {
          "name": "stdout",
          "output_type": "stream",
          "text": [
            "0.1\n",
            "0.2\n",
            "0.30000000000000004\n",
            "0.4\n",
            "0.5\n",
            "0.6\n",
            "0.7000000000000001\n",
            "0.8\n",
            "0.9\n",
            "1.0\n",
            "1.1\n",
            "1.2000000000000002\n",
            "1.3000000000000003\n",
            "1.4000000000000001\n",
            "[ 0  1  2  3  4  5  6  7  8  9 10 11 12 13]\n",
            "[ 0  1  2  3  4  5  6  7  8  9 10 11 12 13]\n"
          ]
        }
      ],
      "source": [
        "# calculate error rate for FGSM attack on both clean and adv model with varying epsilon values\n",
        "\n",
        "# iterate from 0.1 to 1.5 with 0.1 step size\n",
        "epsilon_values = np.arange(0.1, 1.5, 0.1)\n",
        "fgsm_images = []\n",
        "fgsm_labels = []\n",
        "model_adv_missclassifications = np.arange(0, len(epsilon_values))\n",
        "model_missclassifications = np.arange(0, len(epsilon_values))\n",
        "\n",
        "\n",
        "for index, epsilon in enumerate(epsilon_values):\n",
        "    print(epsilon)\n",
        "\n",
        "    # original image and original label\n",
        "\n",
        "    for i in range(test_images.shape[0]):\n",
        "\n",
        "        original_image = test_images[i]\n",
        "        original_image = tf.convert_to_tensor(original_image.reshape((1,28,28))) #The .reshape just gives it the proper form to input into the model, a batch of 1 a.k.a a tensor\n",
        "\n",
        "        original_label = test_labels[i]\n",
        "        original_label = np.reshape(original_label, (1,)).astype('int64') # Give label proper shape and type for cleverhans\n",
        "\n",
        "        adv_example_untargeted_label = fast_gradient_method(logits_model, original_image, epsilon, np.inf, targeted=False)\n",
        "\n",
        "        # adv_example_untargeted_label_pred = model.predict(adv_example_untargeted_label)\n",
        "        # adv_example_untargeted_label_pred_adv_model = model_adv.predict(adv_example_untargeted_label)\n",
        "        \n",
        "        # add fgsm image to list\n",
        "        fgsm_images.append(adv_example_untargeted_label)\n",
        "        fgsm_labels.append(original_label)\n",
        "\n",
        "        # if np.argmax(adv_example_untargeted_label_pred) != original_label[0]:\n",
        "        #     model_missclassifications[index] += 1\n",
        "        # if np.argmax(adv_example_untargeted_label_pred_adv_model) != original_label[0]:\n",
        "        #     model_adv_missclassifications[index] += 1\n",
        "        \n",
        "    \n",
        "print(model_missclassifications)\n",
        "print(model_adv_missclassifications)\n",
        "\n",
        "np.savez('fgsm_images_zico', images=fgsm_images, labels=fgsm_labels)"
      ]
    },
    {
      "cell_type": "markdown",
      "metadata": {},
      "source": [
        "### Generate PGD for Zico MNIST"
      ]
    },
    {
      "cell_type": "code",
      "execution_count": 16,
      "metadata": {},
      "outputs": [],
      "source": [
        "from cleverhans.tf2.attacks.projected_gradient_descent import projected_gradient_descent\n",
        "\n",
        "#The attack requires the model to ouput the logits\n",
        "logits_model = tf.keras.Model(model.input,model.layers[-1].output)"
      ]
    },
    {
      "cell_type": "code",
      "execution_count": 17,
      "metadata": {},
      "outputs": [
        {
          "name": "stdout",
          "output_type": "stream",
          "text": [
            "0.1\n",
            "0.2\n",
            "0.30000000000000004\n",
            "0.4\n",
            "0.5\n",
            "0.6\n",
            "0.7000000000000001\n",
            "0.8\n",
            "0.9\n",
            "1.0\n",
            "1.1\n",
            "1.2000000000000002\n",
            "1.3000000000000003\n",
            "1.4000000000000001\n",
            "[ 0  1  2  3  4  5  6  7  8  9 10 11 12 13]\n",
            "[ 0  1  2  3  4  5  6  7  8  9 10 11 12 13]\n"
          ]
        }
      ],
      "source": [
        "# calculate error rate for PGD attack on both clean and adv model with varying epsilon values\n",
        "\n",
        "# iterate from 0.1 to 1.5 with 0.1 step size\n",
        "epsilon_values = np.arange(0.1, 1.5, 0.1)\n",
        "pgd_images = []\n",
        "pgd_labels = []\n",
        "model_adv_missclassifications = np.arange(0, len(epsilon_values))\n",
        "model_missclassifications = np.arange(0, len(epsilon_values))\n",
        "\n",
        "for index, epsilon in enumerate(epsilon_values):\n",
        "    print(epsilon)\n",
        "\n",
        "    # original image and original label\n",
        "\n",
        "    for i in range(test_images.shape[0]):\n",
        "\n",
        "        original_image = test_images[i]\n",
        "        original_image = tf.convert_to_tensor(original_image.reshape((1,28,28)), dtype=tf.float32) #The .reshape just gives it the proper form to input into the model, a batch of 1 a.k.a a tensor\n",
        "\n",
        "        original_label = test_labels[i]\n",
        "        original_label = np.reshape(original_label, (1,)).astype('int64') # Give label proper shape and type for cleverhans\n",
        "\n",
        "        adv_example_untargeted_label = projected_gradient_descent(model_fn=logits_model, x=original_image, eps=epsilon, eps_iter=0.01, targeted=False, nb_iter=200, norm=2)\n",
        "\n",
        "        # adv_example_untargeted_label_pred = model.predict(adv_example_untargeted_label)\n",
        "        # adv_example_untargeted_label_pred_adv_model = model_adv.predict(adv_example_untargeted_label)\n",
        "        \n",
        "        # add pgd image to list\n",
        "        pgd_images.append(adv_example_untargeted_label)\n",
        "        pgd_labels.append(original_label)\n",
        "\n",
        "        # if np.argmax(adv_example_untargeted_label_pred) != original_label[0]:\n",
        "        #     model_missclassifications[index] += 1\n",
        "        # if np.argmax(adv_example_untargeted_label_pred_adv_model) != original_label[0]:\n",
        "        #     model_adv_missclassifications[index] += 1\n",
        "        \n",
        "    \n",
        "print(model_missclassifications)\n",
        "print(model_adv_missclassifications)\n",
        "\n",
        "np.savez('pgd_images_zico', images=pgd_images, labels=pgd_labels)\n"
      ]
    },
    {
      "cell_type": "markdown",
      "metadata": {},
      "source": [
        "### Test model_adv on Zico MNIST based FGSM and PGD adversarial examples"
      ]
    },
    {
      "cell_type": "code",
      "execution_count": 4,
      "metadata": {},
      "outputs": [
        {
          "name": "stdout",
          "output_type": "stream",
          "text": [
            "(140000, 28, 28, 1)\n",
            "(140000, 1)\n",
            "(140000, 28, 28, 1)\n",
            "(140000, 1)\n"
          ]
        }
      ],
      "source": [
        "# load fgsm and pgd images and labels\n",
        "# import fgsm and pgd adversarial sampels\n",
        "pgd_images_zico = np.load('pgd_images_zico.npz')['images']\n",
        "pgd_labels_zico = np.load('pgd_images_zico.npz')['labels']\n",
        "\n",
        "fgsm_images_zico = np.load('fgsm_images_zico.npz')['images']\n",
        "fgsm_labels_zico = np.load('fgsm_images_zico.npz')['labels']\n",
        "\n",
        "# reshape pgd and fgsm images to 28, 28, 1\n",
        "pgd_images_zico = np.reshape(pgd_images_zico, (len(pgd_images_zico), 28, 28, 1))\n",
        "fgsm_images_zico = np.reshape(fgsm_images_zico, (len(fgsm_images_zico), 28, 28, 1))\n",
        "\n",
        "print(pgd_images_zico.shape)\n",
        "print(pgd_labels_zico.shape)\n",
        "print(fgsm_images_zico.shape)\n",
        "print(fgsm_labels_zico.shape)"
      ]
    },
    {
      "cell_type": "code",
      "execution_count": 5,
      "metadata": {},
      "outputs": [
        {
          "data": {
            "image/png": "[encoded data removed]",
            "text/plain": [
              "<Figure size 432x288 with 1 Axes>"
            ]
          },
          "metadata": {
            "needs_background": "light"
          },
          "output_type": "display_data"
        },
        {
          "name": "stdout",
          "output_type": "stream",
          "text": [
            "[[    0     1     2     3     4     5     6     7     8     9]\n",
            " [13720 15890 14448 14140 13748 12488 13412 14392 13636 14126]]\n"
          ]
        }
      ],
      "source": [
        "plt.imshow(fgsm_images_zico[10000], cmap='gray')\n",
        "plt.show()\n",
        "\n",
        "# show the first 1000 unique labels and counts\n",
        "unique, counts = np.unique(fgsm_labels_zico, return_counts=True)\n",
        "print(np.asarray((unique, counts)))\n",
        "\n",
        "# take the first 1000 labels and images because higher epsilon values make the image unrecognizable\n",
        "fgsm_images_zico = fgsm_images_zico[:1000]\n",
        "fgsm_labels_zico = fgsm_labels_zico[:1000]\n",
        "\n",
        "# squeeze fgsm_labels_zico and pgd_labels_zico to remove the extra dimension\n",
        "fgsm_labels_zico = np.squeeze(fgsm_labels_zico)\n",
        "pgd_labels_zico = np.squeeze(pgd_labels_zico)"
      ]
    },
    {
      "cell_type": "code",
      "execution_count": 25,
      "metadata": {},
      "outputs": [
        {
          "name": "stdout",
          "output_type": "stream",
          "text": [
            "4375/4375 [==============================] - 24s 5ms/step - loss: 0.0620 - sparse_categorical_accuracy: 0.9854\n"
          ]
        },
        {
          "data": {
            "text/plain": [
              "[0.061959680169820786, 0.9854142665863037]"
            ]
          },
          "execution_count": 25,
          "metadata": {},
          "output_type": "execute_result"
        }
      ],
      "source": [
        "model_adv.evaluate(pgd_images_zico, pgd_labels_zico)"
      ]
    },
    {
      "cell_type": "code",
      "execution_count": 18,
      "metadata": {},
      "outputs": [
        {
          "name": "stdout",
          "output_type": "stream",
          "text": [
            "32/32 [==============================] - 1s 21ms/step - loss: 0.1551 - sparse_categorical_accuracy: 0.9700\n"
          ]
        },
        {
          "data": {
            "text/plain": [
              "[0.15510913729667664, 0.9700000286102295]"
            ]
          },
          "execution_count": 18,
          "metadata": {},
          "output_type": "execute_result"
        }
      ],
      "source": [
        "model_adv.evaluate(fgsm_images_zico, fgsm_labels_zico)"
      ]
    },
    {
      "cell_type": "markdown",
      "metadata": {},
      "source": [
        "#### Test PGD and FGSM on Clean Model"
      ]
    },
    {
      "cell_type": "code",
      "execution_count": 26,
      "metadata": {},
      "outputs": [
        {
          "name": "stdout",
          "output_type": "stream",
          "text": [
            "4375/4375 [==============================] - 44s 10ms/step - loss: 2.2076 - accuracy: 0.2195\n"
          ]
        },
        {
          "data": {
            "text/plain": [
              "[2.2075695991516113, 0.21951428055763245]"
            ]
          },
          "execution_count": 26,
          "metadata": {},
          "output_type": "execute_result"
        }
      ],
      "source": [
        "model.evaluate(pgd_images_zico, pgd_labels_zico)"
      ]
    },
    {
      "cell_type": "code",
      "execution_count": 27,
      "metadata": {},
      "outputs": [
        {
          "name": "stdout",
          "output_type": "stream",
          "text": [
            "32/32 [==============================] - 1s 31ms/step - loss: 2.2860 - accuracy: 0.1530\n"
          ]
        },
        {
          "data": {
            "text/plain": [
              "[2.2860004901885986, 0.15299999713897705]"
            ]
          },
          "execution_count": 27,
          "metadata": {},
          "output_type": "execute_result"
        }
      ],
      "source": [
        "model.evaluate(fgsm_images_zico, fgsm_labels_zico)"
      ]
    },
    {
      "cell_type": "markdown",
      "metadata": {},
      "source": [
        "### Train Zico MNIST on Adversarial Examples"
      ]
    },
    {
      "cell_type": "code",
      "execution_count": 9,
      "metadata": {},
      "outputs": [],
      "source": [
        "# divide pgd images to train and test\n",
        "from sklearn.model_selection import train_test_split\n",
        "\n",
        "pgd_images_zico_train, pgd_images_zico_test, pgd_labels_zico_train, pgd_labels_zico_test = train_test_split(pgd_images_zico, pgd_labels_zico, test_size=0.2, random_state=42)"
      ]
    },
    {
      "cell_type": "code",
      "execution_count": 12,
      "metadata": {},
      "outputs": [
        {
          "name": "stdout",
          "output_type": "stream",
          "text": [
            "(112000, 28, 28, 1)\n",
            "(28000, 28, 28, 1)\n",
            "(112000, 1)\n",
            "(28000, 1)\n"
          ]
        }
      ],
      "source": [
        "# print shapes\n",
        "print(pgd_images_zico_train.shape)\n",
        "print(pgd_images_zico_test.shape)\n",
        "print(pgd_labels_zico_train.shape)\n",
        "print(pgd_labels_zico_test.shape)"
      ]
    },
    {
      "cell_type": "code",
      "execution_count": 28,
      "metadata": {},
      "outputs": [],
      "source": [
        "# sequential model with conv2d 16, padding valid, relu -> conv2d 32, padding valid, relu -> softmax\n",
        "model_madry = tf.keras.Sequential([\n",
        "    tf.keras.layers.Conv2D(16, kernel_size=4, padding='valid', activation='relu', input_shape=(28, 28, 1)),\n",
        "    tf.keras.layers.Conv2D(32, kernel_size=4, padding='valid', activation='relu'),\n",
        "    tf.keras.layers.Flatten(),\n",
        "    tf.keras.layers.Dense(10, activation='softmax')\n",
        "])"
      ]
    },
    {
      "cell_type": "code",
      "execution_count": 29,
      "metadata": {},
      "outputs": [
        {
          "name": "stdout",
          "output_type": "stream",
          "text": [
            "Epoch 1/10\n",
            "3500/3500 [==============================] - 95s 27ms/step - loss: 0.0457 - accuracy: 0.9862\n",
            "Epoch 2/10\n",
            "3500/3500 [==============================] - 72s 20ms/step - loss: 0.0043 - accuracy: 0.9985\n",
            "Epoch 3/10\n",
            "3500/3500 [==============================] - 27s 8ms/step - loss: 1.5566e-05 - accuracy: 1.0000\n",
            "Epoch 4/10\n",
            "3500/3500 [==============================] - 27s 8ms/step - loss: 1.9017e-06 - accuracy: 1.0000\n",
            "Epoch 5/10\n",
            "3500/3500 [==============================] - 27s 8ms/step - loss: 3.0125e-07 - accuracy: 1.0000\n",
            "Epoch 6/10\n",
            "3500/3500 [==============================] - 27s 8ms/step - loss: 4.8230e-08 - accuracy: 1.0000\n",
            "Epoch 7/10\n",
            "3500/3500 [==============================] - 27s 8ms/step - loss: 8.5767e-09 - accuracy: 1.0000\n",
            "Epoch 8/10\n",
            "3500/3500 [==============================] - 27s 8ms/step - loss: 1.5997e-09 - accuracy: 1.0000\n",
            "Epoch 9/10\n",
            "3500/3500 [==============================] - 28s 8ms/step - loss: 4.2575e-10 - accuracy: 1.0000\n",
            "Epoch 10/10\n",
            "3500/3500 [==============================] - 27s 8ms/step - loss: 1.9265e-10 - accuracy: 1.0000\n",
            "313/313 [==============================] - 2s 5ms/step - loss: 0.0000e+00 - accuracy: 1.0000\n"
          ]
        },
        {
          "data": {
            "text/plain": [
              "[0.0, 1.0]"
            ]
          },
          "execution_count": 29,
          "metadata": {},
          "output_type": "execute_result"
        }
      ],
      "source": [
        "# train on mnist\n",
        "model_madry.compile(optimizer='adam',\n",
        "                loss='sparse_categorical_crossentropy',\n",
        "                metrics=['accuracy'])\n",
        "model_madry.fit(\n",
        "    x = pgd_images_zico_train,\n",
        "    y = pgd_labels_zico_train,\n",
        "    epochs=10\n",
        ")\n",
        "model_madry.evaluate(x_test, y_test)"
      ]
    },
    {
      "cell_type": "code",
      "execution_count": 30,
      "metadata": {},
      "outputs": [],
      "source": [
        "# save mnist_madry_zico_model\n",
        "model_adv.save('assets/models/mnist_madry_zico_model.h5')"
      ]
    },
    {
      "cell_type": "code",
      "execution_count": null,
      "metadata": {},
      "outputs": [],
      "source": [
        "# load mnist_madry_zico_model\n",
        "model_adv = tf.keras.models.load_model('assets/models/mnist_madry_zico_model.h5')"
      ]
    },
    {
      "cell_type": "code",
      "execution_count": 31,
      "metadata": {},
      "outputs": [
        {
          "name": "stdout",
          "output_type": "stream",
          "text": [
            "32/32 [==============================] - 1s 18ms/step - loss: 1.8350e-06 - accuracy: 1.0000\n"
          ]
        },
        {
          "data": {
            "text/plain": [
              "[1.8349696802033577e-06, 1.0]"
            ]
          },
          "execution_count": 31,
          "metadata": {},
          "output_type": "execute_result"
        }
      ],
      "source": [
        "model_madry.evaluate(fgsm_images_zico, fgsm_labels_zico)"
      ]
    },
    {
      "cell_type": "code",
      "execution_count": 32,
      "metadata": {},
      "outputs": [
        {
          "name": "stdout",
          "output_type": "stream",
          "text": [
            "875/875 [==============================] - 15s 17ms/step - loss: 6.0456e-10 - accuracy: 1.0000\n"
          ]
        },
        {
          "data": {
            "text/plain": [
              "[6.045612899185926e-10, 1.0]"
            ]
          },
          "execution_count": 32,
          "metadata": {},
          "output_type": "execute_result"
        }
      ],
      "source": [
        "model_madry.evaluate(pgd_images_zico_test, pgd_labels_zico_test)"
      ]
    },
    {
      "cell_type": "code",
      "execution_count": 41,
      "metadata": {},
      "outputs": [
        {
          "name": "stdout",
          "output_type": "stream",
          "text": [
            "1875/1875 [==============================] - 24s 13ms/step - loss: 101.2565 - accuracy: 0.9734\n"
          ]
        },
        {
          "data": {
            "text/plain": [
              "[101.25652313232422, 0.9734333157539368]"
            ]
          },
          "execution_count": 41,
          "metadata": {},
          "output_type": "execute_result"
        }
      ],
      "source": [
        "model_madry.evaluate(x_train, y_train)"
      ]
    },
    {
      "cell_type": "code",
      "execution_count": 46,
      "metadata": {},
      "outputs": [
        {
          "name": "stdout",
          "output_type": "stream",
          "text": [
            "2950/2950 [==============================] - 43s 14ms/step - loss: 0.6487 - accuracy: 0.9387\n"
          ]
        },
        {
          "data": {
            "text/plain": [
              "[0.6487031579017639, 0.9386576414108276]"
            ]
          },
          "execution_count": 46,
          "metadata": {},
          "output_type": "execute_result"
        }
      ],
      "source": [
        "model_madry.evaluate(X_adv, y_adv)"
      ]
    },
    {
      "cell_type": "markdown",
      "metadata": {},
      "source": [
        "### Test against TF Adversarial Regularization (Neural Structured Learning)"
      ]
    },
    {
      "cell_type": "code",
      "execution_count": 18,
      "metadata": {},
      "outputs": [],
      "source": [
        "import neural_structured_learning as nsl"
      ]
    },
    {
      "cell_type": "code",
      "execution_count": 21,
      "metadata": {},
      "outputs": [],
      "source": [
        "adv_config = nsl.configs.make_adv_reg_config(multiplier=0.2, adv_step_size=0.05)\n",
        "adv_model = nsl.keras.AdversarialRegularization(model, adv_config=adv_config)"
      ]
    },
    {
      "cell_type": "code",
      "execution_count": 22,
      "metadata": {},
      "outputs": [],
      "source": [
        "adv_model.compile(optimizer='adam', loss='sparse_categorical_crossentropy', metrics=['accuracy'])"
      ]
    },
    {
      "cell_type": "code",
      "execution_count": 26,
      "metadata": {},
      "outputs": [],
      "source": [
        "tf.config.experimental_run_functions_eagerly(True)"
      ]
    },
    {
      "cell_type": "code",
      "execution_count": null,
      "metadata": {},
      "outputs": [],
      "source": [
        "tf.compat.v1.logging.set_verbosity(tf.compat.v1.logging.ERROR)\n",
        "adv_model.fit({'feature': x_train, 'label': y_train}, epochs=10)"
      ]
    },
    {
      "cell_type": "code",
      "execution_count": 77,
      "metadata": {},
      "outputs": [
        {
          "name": "stdout",
          "output_type": "stream",
          "text": [
            "313/313 [==============================] - 23s 74ms/step - loss: 0.9171 - sparse_categorical_crossentropy: 0.7642 - sparse_categorical_accuracy: 0.9845 - scaled_adversarial_loss: 0.1528 17s - loss: 1.3784 - sparse_categorical_crossentropy: 1.1486 - sparse_cate - ETA: 12s - loss: 1.2796 - sparse_categorical_crossentropy: 1.0663 - sparse - ETA: 4s - loss: 0.9585 - sparse_categorical_crossentropy: 0.7988 - sparse_categorical_accuracy: 0.9829 - scal - ETA: 1s - loss: 0.8696 - sparse_categorical_crossentropy: 0.7246 - sparse_categorical_accuracy: 0.9847 - scaled_adversarial_los\n"
          ]
        },
        {
          "data": {
            "text/plain": [
              "[0.9170763492584229, 0.7642301321029663, 0.984499990940094, 0.1528460681438446]"
            ]
          },
          "execution_count": 77,
          "metadata": {},
          "output_type": "execute_result"
        }
      ],
      "source": [
        "adv_model.evaluate({'feature': x_test, 'label': y_test})"
      ]
    },
    {
      "cell_type": "code",
      "execution_count": 78,
      "metadata": {},
      "outputs": [
        {
          "name": "stdout",
          "output_type": "stream",
          "text": [
            "2950/2950 [==============================] - 160s 54ms/step - loss: 8.4431 - sparse_categorical_crossentropy: 6.9755 - sparse_categorical_accuracy: 0.2718 - scaled_adversarial_loss: 1.4676: 2:21 - loss: 11.4720 - sparse_categorical_crossentropy: 9.4846 - sparse_categorical_accuracy: 0.09 - ETA: 2:33 - loss: 9.8290 - sparse_categorical_crossentropy: 8.1198 - sparse_categorical_accuracy: 0.1380 - scaled_adversarial_loss: 1.70 - ETA: 2:32 - loss: 9.7401 - sparse_categorical_crossentropy: 8 - ETA: 2:15 - loss: 8.5072 - sparse_categorical_crossentropy: 7. - ETA: 2:12 - loss: 8 - ETA: 2:05 - loss: 5.0784 - sparse_categorical_crossentropy: 4.1903 - sparse_categorical_accuracy: 0.47 - ETA: 2:01 - loss: 4.5721 - sparse_categorical_crossentropy: 3.7725 - sparse_categorical_accuracy: 0.5313 - scaled_adversarial_loss: - ETA: 2:01 - loss: 4.4895 - sparse_categorical_crossentropy: 3.7043 - sparse_categor - ETA: 1:57 - loss: 4.8442 - sparse_categorical_crossentropy: 3.9990 - sparse_categorical_accuracy: 0.5301 - scaled_adversarial_loss: 0.845 - ETA: 1:57 - lo - ETA: 1:47 - loss: 6.5094 - sparse_categorical_crossentropy: 5.3769 - sparse_categorical_accuracy: 0.4240 - scaled_adversarial_loss: 1.1 - ETA: 1:47 - loss: 6.5497 - sparse_categorical_crossentropy: 5.4103 - sparse_categorical_a - ETA: 1:44 - loss: 6.9851 - sparse_categorical_crossentropy: 5.7707 - sparse_categorical_accuracy: 0.3954 - scaled_adver - ETA: 1:44 - loss: 6.9723 - sparse_categorical_crossentropy: 5.7599 - sparse_categorical_accura - ETA: 1:43 - loss: 7.0550 - sparse_categorical_crossentropy: 5.8280 - sparse_categorical_accuracy: 0.3825 - scaled_adversarial_l - ETA: 1:43 - loss: 7.0596 - sparse_categorical_crossentropy: 5.8317 - sparse - ETA: 1:42 - loss: 7.0607 - sparse_categorical_crossentropy: 5.8320  - ETA: 1:37 - loss: 7.3419 - sparse_categorical_crossentropy: 6.0643 - sparse_categorical_accurac - ETA - ETA: 1:29 - loss: 7.8294 - sparse_catego - ETA: 19s - loss: 8.7634 - s - ETA: 10s - loss: 8.7187 - sparse_categorical_crossentropy: 7.2041 - sparse_categorical_accuracy: 0.2643 - scaled_adversarial_l - ETA: 9s - loss: 8.6997 - sparse_categorical_crossentropy: 7.1884 - sparse_categorical_accuracy: 0.2652 - scaled_adversarial_loss: 1. - ETA: 9s - loss: 8.6837 - sparse_c\n"
          ]
        },
        {
          "data": {
            "text/plain": [
              "[8.443138122558594, 6.975502014160156, 0.27180731296539307, 1.467640995979309]"
            ]
          },
          "execution_count": 78,
          "metadata": {},
          "output_type": "execute_result"
        }
      ],
      "source": [
        "adv_model.evaluate({'feature': X_adv, 'label': y_adv})"
      ]
    },
    {
      "cell_type": "code",
      "execution_count": 79,
      "metadata": {},
      "outputs": [
        {
          "name": "stdout",
          "output_type": "stream",
          "text": [
            "875/875 [==============================] - 46s 52ms/step - loss: 5.6673 - sparse_categorical_crossentropy: 4.6687 - sparse_categorical_accuracy: 0.3579 - scaled_adversarial_loss: 0.9985 45s - loss: 5.6486 - sparse_categorical_crossentropy: 4.6521 - sparse_catego - ETA - ETA: 30s - loss: 5.7177 - sparse_categorical_crossentropy:  - ETA: 14s - loss: 5.7078 - sparse_categorical_crossentropy: 4.7023 - sparse_categorical_ac - ETA: 12s - loss: 5.7005  - ETA: 5s - loss: 5.6930 - sparse_categorical_crossentropy: 4.6899 - sparse_categorical_accuracy: 0.3542 - sca - ETA: 3s - loss: 5.6829 - sparse_categorical_crossentropy: 4.6816 - sparse_categorical_accuracy: 0.3557 -  - ETA: 0s - loss: 5.6677 - sparse_categorical_crossentropy: 4.6691 - sparse_categorical_accuracy: 0.3575 - scaled_adversarial_loss: 0\n"
          ]
        },
        {
          "data": {
            "text/plain": [
              "[5.667283535003662, 4.668737888336182, 0.35789287090301514, 0.9985463619232178]"
            ]
          },
          "execution_count": 79,
          "metadata": {},
          "output_type": "execute_result"
        }
      ],
      "source": [
        "adv_model.evaluate({'feature': pgd_images_zico_test, 'label': pgd_labels_zico_test})"
      ]
    },
    {
      "cell_type": "code",
      "execution_count": 80,
      "metadata": {},
      "outputs": [
        {
          "name": "stdout",
          "output_type": "stream",
          "text": [
            "32/32 [==============================] - 2s 48ms/step - loss: 5.4841 - sparse_categorical_crossentropy: 4.5147 - sparse_categorical_accuracy: 0.3620 - scaled_adversarial_loss: 0.9694\n"
          ]
        },
        {
          "data": {
            "text/plain": [
              "[5.4841108322143555, 4.514726638793945, 0.3619999885559082, 0.9693836569786072]"
            ]
          },
          "execution_count": 80,
          "metadata": {},
          "output_type": "execute_result"
        }
      ],
      "source": [
        "adv_model.evaluate({'feature': fgsm_images_zico, 'label': fgsm_labels_zico})"
      ]
    },
    {
      "cell_type": "markdown",
      "metadata": {},
      "source": [
        "### ART Based Adversarial Classifier"
      ]
    },
    {
      "cell_type": "markdown",
      "metadata": {},
      "source": [
        "#### Custom ART Adversarial Classifier"
      ]
    },
    {
      "cell_type": "code",
      "execution_count": 1,
      "metadata": {},
      "outputs": [],
      "source": [
        "import warnings\n",
        "warnings.filterwarnings('ignore')\n",
        "from keras.models import load_model\n",
        "\n",
        "from art import config\n",
        "from art.utils import load_dataset, get_file\n",
        "from art.estimators.classification import KerasClassifier\n",
        "from art.attacks.evasion import FastGradientMethod\n",
        "from art.attacks.evasion import BasicIterativeMethod\n",
        "from art.defences.trainer import AdversarialTrainer\n",
        "\n",
        "import numpy as np\n",
        "\n",
        "%matplotlib inline\n",
        "import matplotlib.pyplot as plt"
      ]
    },
    {
      "cell_type": "code",
      "execution_count": 8,
      "metadata": {},
      "outputs": [],
      "source": [
        "(x_art_train, y_art_train), (x_art_test, y_art_test), min_, max_ = load_dataset('mnist')"
      ]
    },
    {
      "cell_type": "code",
      "execution_count": 15,
      "metadata": {},
      "outputs": [],
      "source": [
        "tf.compat.v1.disable_eager_execution()"
      ]
    },
    {
      "cell_type": "code",
      "execution_count": 16,
      "metadata": {},
      "outputs": [],
      "source": [
        "# load clean model\n",
        "model = tf.keras.models.load_model('assets/models/mnist_zico.h5')\n",
        "robust_classifier = KerasClassifier(model=model, use_logits=False)"
      ]
    },
    {
      "cell_type": "code",
      "execution_count": 19,
      "metadata": {},
      "outputs": [
        {
          "name": "stdout",
          "output_type": "stream",
          "text": [
            "Model: \"sequential\"\n",
            "_________________________________________________________________\n",
            " Layer (type)                Output Shape              Param #   \n",
            "=================================================================\n",
            " conv2d (Conv2D)             (None, 25, 25, 16)        272       \n",
            "                                                                 \n",
            " conv2d_1 (Conv2D)           (None, 22, 22, 32)        8224      \n",
            "                                                                 \n",
            " flatten (Flatten)           (None, 15488)             0         \n",
            "                                                                 \n",
            " dense (Dense)               (None, 10)                154890    \n",
            "                                                                 \n",
            "=================================================================\n",
            "Total params: 163,386\n",
            "Trainable params: 163,386\n",
            "Non-trainable params: 0\n",
            "_________________________________________________________________\n"
          ]
        }
      ],
      "source": [
        "model.summary()"
      ]
    },
    {
      "cell_type": "code",
      "execution_count": 20,
      "metadata": {},
      "outputs": [],
      "source": [
        "attacks = BasicIterativeMethod(robust_classifier, eps=0.3, eps_step=0.01, max_iter=40)"
      ]
    },
    {
      "cell_type": "code",
      "execution_count": 26,
      "metadata": {},
      "outputs": [
        {
          "data": {
            "application/vnd.jupyter.widget-view+json": {
              "model_id": "7c754abc455949069b86f5f17012d94b",
              "version_major": 2,
              "version_minor": 0
            },
            "text/plain": [
              "Precompute adv samples:   0%|          | 0/1 [00:00<?, ?it/s]"
            ]
          },
          "metadata": {},
          "output_type": "display_data"
        },
        {
          "data": {
            "application/vnd.jupyter.widget-view+json": {
              "model_id": "835eb3086e9c4039bae674ca3c025246",
              "version_major": 2,
              "version_minor": 0
            },
            "text/plain": [
              "Adversarial training epochs:   0%|          | 0/10 [00:00<?, ?it/s]"
            ]
          },
          "metadata": {},
          "output_type": "display_data"
        }
      ],
      "source": [
        "trainer = AdversarialTrainer(robust_classifier, attacks, ratio=1.0)\n",
        "trainer.fit(x_art_train, y_art_train, nb_epochs=10, batch_size=50)"
      ]
    },
    {
      "cell_type": "code",
      "execution_count": 29,
      "metadata": {},
      "outputs": [],
      "source": [
        "madry_art_zico = trainer.get_classifier()"
      ]
    },
    {
      "cell_type": "code",
      "execution_count": null,
      "metadata": {},
      "outputs": [],
      "source": [
        "# test trainer on x_art_test\n",
        "y_art_pred = madry_art_zico.predict(x_art_test)\n",
        "y_art_pred = np.argmax(y_art_pred, axis=1)\n",
        "y_art_test = np.argmax(y_art_test, axis=1)  \n",
        "\n",
        "# print accuracy\n",
        "print(np.sum(y_art_pred == y_art_test) / len(y_art_test))"
      ]
    },
    {
      "cell_type": "markdown",
      "metadata": {},
      "source": [
        "#### Pretrained ART Classifier"
      ]
    },
    {
      "cell_type": "code",
      "execution_count": 6,
      "metadata": {},
      "outputs": [],
      "source": [
        "tf.compat.v1.disable_eager_execution()"
      ]
    },
    {
      "cell_type": "code",
      "execution_count": 9,
      "metadata": {},
      "outputs": [],
      "source": [
        "path = get_file('mnist_cnn_robust.h5', extract=False, path=config.ART_DATA_PATH,\n",
        "                url='https://www.dropbox.com/s/yutsncaniiy5uy8/mnist_cnn_robust.h5?dl=1')\n",
        "robust_classifier_model = load_model(path)\n",
        "robust_classifier = KerasClassifier(clip_values=(min_, max_), model=robust_classifier_model, use_logits=False)"
      ]
    },
    {
      "cell_type": "code",
      "execution_count": 10,
      "metadata": {},
      "outputs": [
        {
          "name": "stdout",
          "output_type": "stream",
          "text": [
            "Model: \"sequential_1\"\n",
            "_________________________________________________________________\n",
            " Layer (type)                Output Shape              Param #   \n",
            "=================================================================\n",
            " conv2d_3 (Conv2D)           (None, 26, 26, 32)        320       \n",
            "                                                                 \n",
            " max_pooling2d_3 (MaxPooling  (None, 13, 13, 32)       0         \n",
            " 2D)                                                             \n",
            "                                                                 \n",
            " conv2d_4 (Conv2D)           (None, 11, 11, 64)        18496     \n",
            "                                                                 \n",
            " max_pooling2d_4 (MaxPooling  (None, 5, 5, 64)         0         \n",
            " 2D)                                                             \n",
            "                                                                 \n",
            " flatten_2 (Flatten)         (None, 1600)              0         \n",
            "                                                                 \n",
            " dense_3 (Dense)             (None, 1024)              1639424   \n",
            "                                                                 \n",
            " dense_4 (Dense)             (None, 10)                10250     \n",
            "                                                                 \n",
            "=================================================================\n",
            "Total params: 1,668,490\n",
            "Trainable params: 1,668,490\n",
            "Non-trainable params: 0\n",
            "_________________________________________________________________\n"
          ]
        }
      ],
      "source": [
        "robust_classifier_model.summary()"
      ]
    },
    {
      "cell_type": "code",
      "execution_count": 11,
      "metadata": {},
      "outputs": [
        {
          "name": "stdout",
          "output_type": "stream",
          "text": [
            "0.9911\n"
          ]
        }
      ],
      "source": [
        "# Test against x_art_test\n",
        "y_art_pred = robust_classifier.predict(x_art_test)\n",
        "y_art_pred = np.argmax(y_art_pred, axis=1)\n",
        "y_art_test = np.argmax(y_art_test, axis=1)\n",
        "\n",
        "# print accuracy\n",
        "print(np.sum(y_art_pred == y_art_test) / len(y_art_test))"
      ]
    },
    {
      "cell_type": "code",
      "execution_count": 12,
      "metadata": {},
      "outputs": [
        {
          "name": "stdout",
          "output_type": "stream",
          "text": [
            "0.9910785714285715\n"
          ]
        }
      ],
      "source": [
        "# Test against PGD\n",
        "x_test_robust_pred = np.argmax(robust_classifier_model.predict(pgd_images_zico), axis=1)\n",
        "nb_correct_robust_pred = np.sum(x_test_robust_pred == pgd_labels_zico)\n",
        "\n",
        "# print accuracy in percentage\n",
        "print(np.sum(x_test_robust_pred == pgd_labels_zico) / len(pgd_labels_zico))"
      ]
    },
    {
      "cell_type": "code",
      "execution_count": 14,
      "metadata": {},
      "outputs": [
        {
          "name": "stdout",
          "output_type": "stream",
          "text": [
            "0.981\n"
          ]
        }
      ],
      "source": [
        "# Test against FGSM\n",
        "x_test_robust_pred = np.argmax(robust_classifier_model.predict(fgsm_images_zico), axis=1)\n",
        "nb_correct_robust_pred = np.sum(x_test_robust_pred == fgsm_labels_zico)\n",
        "\n",
        "# print accuracy in percentage\n",
        "print(np.sum(x_test_robust_pred == fgsm_labels_zico) / len(fgsm_labels_zico))"
      ]
    },
    {
      "cell_type": "code",
      "execution_count": 17,
      "metadata": {},
      "outputs": [
        {
          "name": "stdout",
          "output_type": "stream",
          "text": [
            "0.9494129614716229\n"
          ]
        }
      ],
      "source": [
        "# Test against X_adv\n",
        "x_test_robust_pred = np.argmax(robust_classifier_model.predict(X_adv), axis=1)\n",
        "nb_correct_robust_pred = np.sum(x_test_robust_pred == np.argmax(y_adv))\n",
        "\n",
        "# print accuracy in percentage\n",
        "print(np.sum(x_test_robust_pred == y_adv) / len(y_adv))"
      ]
    }
  ],
  "metadata": {
    "colab": {
      "collapsed_sections": [],
      "name": "Untitled1.ipynb",
      "provenance": []
    },
    "kernelspec": {
      "display_name": "Python 3.9.0 64-bit",
      "language": "python",
      "name": "python3"
    },
    "language_info": {
      "codemirror_mode": {
        "name": "ipython",
        "version": 3
      },
      "file_extension": ".py",
      "mimetype": "text/x-python",
      "name": "python",
      "nbconvert_exporter": "python",
      "pygments_lexer": "ipython3",
      "version": "3.9.0"
    },
    "vscode": {
      "interpreter": {
        "hash": "4d32610e65d0ba547d20b5ddccd11b31c7d91644470808fb362c82b58c120951"
      }
    }
  },
  "nbformat": 4,
  "nbformat_minor": 0
}
