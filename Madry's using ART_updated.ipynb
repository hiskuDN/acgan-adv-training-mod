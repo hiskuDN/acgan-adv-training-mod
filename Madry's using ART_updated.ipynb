{
 "cells": [
  {
   "cell_type": "code",
   "execution_count": 1,
   "metadata": {},
   "outputs": [
    {
     "name": "stdout",
     "output_type": "stream",
     "text": [
      "Requirement already satisfied: adversarial-robustness-toolbox in /usr/local/lib/python3.8/dist-packages (1.11.0)\n",
      "Requirement already satisfied: six in /usr/lib/python3/dist-packages (from adversarial-robustness-toolbox) (1.14.0)\n",
      "Requirement already satisfied: numba>=0.53.1 in /usr/local/lib/python3.8/dist-packages (from adversarial-robustness-toolbox) (0.55.2)\n",
      "Requirement already satisfied: tqdm in /usr/local/lib/python3.8/dist-packages (from adversarial-robustness-toolbox) (4.64.0)\n",
      "Requirement already satisfied: numpy>=1.18.0 in /usr/local/lib/python3.8/dist-packages (from adversarial-robustness-toolbox) (1.22.1)\n",
      "Requirement already satisfied: scipy>=1.4.1 in /usr/local/lib/python3.8/dist-packages (from adversarial-robustness-toolbox) (1.8.1)\n",
      "Requirement already satisfied: setuptools in /usr/local/lib/python3.8/dist-packages (from adversarial-robustness-toolbox) (60.7.0)\n",
      "Requirement already satisfied: scikit-learn<1.1.0,>=0.22.2 in /usr/local/lib/python3.8/dist-packages (from adversarial-robustness-toolbox) (1.0.2)\n",
      "Requirement already satisfied: llvmlite<0.39,>=0.38.0rc1 in /usr/local/lib/python3.8/dist-packages (from numba>=0.53.1->adversarial-robustness-toolbox) (0.38.1)\n",
      "Requirement already satisfied: joblib>=0.11 in /usr/local/lib/python3.8/dist-packages (from scikit-learn<1.1.0,>=0.22.2->adversarial-robustness-toolbox) (1.1.0)\n",
      "Requirement already satisfied: threadpoolctl>=2.0.0 in /usr/local/lib/python3.8/dist-packages (from scikit-learn<1.1.0,>=0.22.2->adversarial-robustness-toolbox) (3.1.0)\n",
      "\u001b[33mWARNING: You are using pip version 20.2.4; however, version 22.2 is available.\n",
      "You should consider upgrading via the '/usr/bin/python3 -m pip install --upgrade pip' command.\u001b[0m\n"
     ]
    }
   ],
   "source": [
    "!pip install adversarial-robustness-toolbox"
   ]
  },
  {
   "cell_type": "code",
   "execution_count": 318,
   "metadata": {},
   "outputs": [],
   "source": [
    "import warnings\n",
    "warnings.filterwarnings('ignore')\n",
    "from keras.models import load_model\n",
    "import tensorflow as tf\n",
    "\n",
    "from art import config\n",
    "from art.utils import load_dataset, get_file\n",
    "from art.estimators.classification import KerasClassifier\n",
    "from art.attacks.evasion import FastGradientMethod\n",
    "from art.attacks.evasion import BasicIterativeMethod\n",
    "from art.defences.trainer import AdversarialTrainer\n",
    "from art.defences.trainer import AdversarialTrainerMadryPGD\n",
    "from art.estimators.classification import KerasClassifier\n",
    "\n",
    "import numpy as np\n",
    "\n",
    "%matplotlib inline\n",
    "import matplotlib.pyplot as plt"
   ]
  },
  {
   "cell_type": "code",
   "execution_count": 3,
   "metadata": {},
   "outputs": [],
   "source": [
    "(x_art_train, y_art_train), (x_art_test, y_art_test), min_, max_ = load_dataset('mnist')"
   ]
  },
  {
   "cell_type": "code",
   "execution_count": 4,
   "metadata": {},
   "outputs": [],
   "source": [
    "(x_train, y_train), (x_test, y_test) = tf.keras.datasets.mnist.load_data()"
   ]
  },
  {
   "cell_type": "code",
   "execution_count": 5,
   "metadata": {},
   "outputs": [],
   "source": [
    "# resize x_train and x_test\n",
    "x_train = x_train.reshape(-1, 28, 28, 1)\n",
    "x_test = x_test.reshape(-1, 28, 28, 1)"
   ]
  },
  {
   "cell_type": "code",
   "execution_count": 6,
   "metadata": {},
   "outputs": [],
   "source": [
    "tf.compat.v1.disable_eager_execution()"
   ]
  },
  {
   "cell_type": "code",
   "execution_count": 112,
   "metadata": {},
   "outputs": [],
   "source": [
    "path = get_file('mnist_cnn_robust.h5', extract=False, path=config.ART_DATA_PATH,\n",
    "                url='https://www.dropbox.com/s/yutsncaniiy5uy8/mnist_cnn_robust.h5?dl=1')\n",
    "robust_classifier_model = load_model(path)\n",
    "robust_classifier = KerasClassifier(clip_values=(min_, max_), model=robust_classifier_model, use_logits=False)"
   ]
  },
  {
   "cell_type": "code",
   "execution_count": 123,
   "metadata": {},
   "outputs": [
    {
     "data": {
      "text/plain": [
       "1.0"
      ]
     },
     "execution_count": 123,
     "metadata": {},
     "output_type": "execute_result"
    }
   ],
   "source": [
    "max_"
   ]
  },
  {
   "cell_type": "code",
   "execution_count": 114,
   "metadata": {},
   "outputs": [
    {
     "name": "stdout",
     "output_type": "stream",
     "text": [
      "Model: \"sequential_3\"\n",
      "_________________________________________________________________\n",
      " Layer (type)                Output Shape              Param #   \n",
      "=================================================================\n",
      " conv2d_3 (Conv2D)           (None, 26, 26, 32)        320       \n",
      "                                                                 \n",
      " max_pooling2d_3 (MaxPooling  (None, 13, 13, 32)       0         \n",
      " 2D)                                                             \n",
      "                                                                 \n",
      " conv2d_4 (Conv2D)           (None, 11, 11, 64)        18496     \n",
      "                                                                 \n",
      " max_pooling2d_4 (MaxPooling  (None, 5, 5, 64)         0         \n",
      " 2D)                                                             \n",
      "                                                                 \n",
      " flatten_2 (Flatten)         (None, 1600)              0         \n",
      "                                                                 \n",
      " dense_3 (Dense)             (None, 1024)              1639424   \n",
      "                                                                 \n",
      " dense_4 (Dense)             (None, 10)                10250     \n",
      "                                                                 \n",
      "=================================================================\n",
      "Total params: 1,668,490\n",
      "Trainable params: 1,668,490\n",
      "Non-trainable params: 0\n",
      "_________________________________________________________________\n"
     ]
    }
   ],
   "source": [
    "robust_classifier_model.summary()"
   ]
  },
  {
   "cell_type": "code",
   "execution_count": 165,
   "metadata": {},
   "outputs": [
    {
     "name": "stdout",
     "output_type": "stream",
     "text": [
      "Original test data: 10000\n",
      "Correctly classified: 9911\n",
      "Incorrectly classified: 89\n",
      "Accuracy percentage: 0.9911\n"
     ]
    }
   ],
   "source": [
    "x_test_robust_pred = np.argmax(robust_classifier_model.predict(x_art_test), axis=1)\n",
    "nb_correct_robust_pred = np.sum(x_test_robust_pred == np.argmax(y_art_test, axis=1))\n",
    "\n",
    "print(\"Original test data: {}\".format(y_art_test.shape[0]))\n",
    "print(\"Correctly classified: {}\".format(nb_correct_robust_pred))\n",
    "print(\"Incorrectly classified: {}\".format(y_art_test.shape[0] - nb_correct_robust_pred))\n",
    "print(\"Accuracy percentage: {}\".format(nb_correct_robust_pred / y_art_test.shape[0]))"
   ]
  },
  {
   "cell_type": "code",
   "execution_count": 166,
   "metadata": {},
   "outputs": [
    {
     "name": "stdout",
     "output_type": "stream",
     "text": [
      "0.9910857142857142\n"
     ]
    }
   ],
   "source": [
    "# Test against PGD\n",
    "x_test_robust_pred = np.argmax(robust_classifier_model.predict(pgd_images_zico), axis=1)\n",
    "nb_correct_robust_pred = np.sum(x_test_robust_pred == pgd_labels_zico)\n",
    "\n",
    "# print accuracy in percentage\n",
    "print(np.sum(x_test_robust_pred == pgd_labels_zico) / len(pgd_labels_zico))"
   ]
  },
  {
   "cell_type": "code",
   "execution_count": 167,
   "metadata": {},
   "outputs": [
    {
     "name": "stdout",
     "output_type": "stream",
     "text": [
      "0.9873\n"
     ]
    }
   ],
   "source": [
    "# Test against FGSM\n",
    "x_test_robust_pred = np.argmax(robust_classifier_model.predict(fgsm_images_zico), axis=1)\n",
    "nb_correct_robust_pred = np.sum(x_test_robust_pred == fgsm_labels_zico)\n",
    "\n",
    "# print accuracy in percentage\n",
    "print(np.sum(x_test_robust_pred == fgsm_labels_zico) / len(fgsm_labels_zico))"
   ]
  },
  {
   "cell_type": "code",
   "execution_count": 168,
   "metadata": {},
   "outputs": [
    {
     "name": "stdout",
     "output_type": "stream",
     "text": [
      "0.99\n"
     ]
    }
   ],
   "source": [
    "# Test against SPSA\n",
    "x_test_robust_pred = np.argmax(robust_classifier_model.predict(spsa_images_zico), axis=1)\n",
    "nb_correct_robust_pred = np.sum(x_test_robust_pred == spsa_labels_zico)\n",
    "\n",
    "# print accuracy in percentage\n",
    "print(np.sum(x_test_robust_pred == spsa_labels_zico) / len(spsa_labels_zico))"
   ]
  },
  {
   "cell_type": "markdown",
   "metadata": {},
   "source": [
    "# Train a clean model and retrain it using Madry's Model"
   ]
  },
  {
   "cell_type": "code",
   "execution_count": 30,
   "metadata": {},
   "outputs": [],
   "source": [
    "# sequential model with conv2d 16, padding valid, relu -> conv2d 32, padding valid, relu -> softmax\n",
    "model_madry = tf.keras.Sequential([\n",
    "    tf.keras.layers.Conv2D(16, kernel_size=4, padding='valid', activation='relu', input_shape=(28, 28, 1)),\n",
    "    tf.keras.layers.Conv2D(32, kernel_size=4, padding='valid', activation='relu'),\n",
    "    tf.keras.layers.Flatten(),\n",
    "    tf.keras.layers.Dense(10, activation='softmax')\n",
    "])\n",
    "\n",
    "# train on mnist\n",
    "model_madry.compile(optimizer='adam',\n",
    "                loss='sparse_categorical_crossentropy',\n",
    "                metrics=['accuracy'])"
   ]
  },
  {
   "cell_type": "code",
   "execution_count": 31,
   "metadata": {
    "scrolled": true
   },
   "outputs": [
    {
     "name": "stdout",
     "output_type": "stream",
     "text": [
      "Model: \"sequential\"\n",
      "_________________________________________________________________\n",
      " Layer (type)                Output Shape              Param #   \n",
      "=================================================================\n",
      " conv2d (Conv2D)             (None, 25, 25, 16)        272       \n",
      "                                                                 \n",
      " conv2d_1 (Conv2D)           (None, 22, 22, 32)        8224      \n",
      "                                                                 \n",
      " flatten (Flatten)           (None, 15488)             0         \n",
      "                                                                 \n",
      " dense (Dense)               (None, 10)                154890    \n",
      "                                                                 \n",
      "=================================================================\n",
      "Total params: 163,386\n",
      "Trainable params: 163,386\n",
      "Non-trainable params: 0\n",
      "_________________________________________________________________\n"
     ]
    }
   ],
   "source": [
    "model_madry.summary()"
   ]
  },
  {
   "cell_type": "code",
   "execution_count": 72,
   "metadata": {},
   "outputs": [],
   "source": [
    "# resize x_train and x_test\n",
    "x_train = x_train.reshape(-1, 28, 28, 1)\n",
    "x_test = x_test.reshape(-1, 28, 28, 1)"
   ]
  },
  {
   "cell_type": "code",
   "execution_count": 211,
   "metadata": {},
   "outputs": [
    {
     "data": {
      "text/plain": [
       "array([0., 0., 0., 0., 0., 1., 0., 0., 0., 0.], dtype=float32)"
      ]
     },
     "execution_count": 211,
     "metadata": {},
     "output_type": "execute_result"
    }
   ],
   "source": [
    "y_art_train[0]"
   ]
  },
  {
   "cell_type": "code",
   "execution_count": 212,
   "metadata": {},
   "outputs": [
    {
     "name": "stdout",
     "output_type": "stream",
     "text": [
      "Train on 60000 samples\n",
      "Epoch 1/10\n",
      "60000/60000 [==============================] - 8s 135us/sample - loss: 0.3476 - accuracy: 0.9524\n",
      "Epoch 2/10\n",
      "60000/60000 [==============================] - 8s 134us/sample - loss: 0.0594 - accuracy: 0.9820\n",
      "Epoch 3/10\n",
      "60000/60000 [==============================] - 8s 134us/sample - loss: 0.0486 - accuracy: 0.9851\n",
      "Epoch 4/10\n",
      "60000/60000 [==============================] - 8s 135us/sample - loss: 0.0387 - accuracy: 0.9886\n",
      "Epoch 5/10\n",
      "60000/60000 [==============================] - 8s 134us/sample - loss: 0.0382 - accuracy: 0.9897\n",
      "Epoch 6/10\n",
      "60000/60000 [==============================] - 8s 136us/sample - loss: 0.0365 - accuracy: 0.9904\n",
      "Epoch 7/10\n",
      "60000/60000 [==============================] - 8s 135us/sample - loss: 0.0273 - accuracy: 0.9928\n",
      "Epoch 8/10\n",
      "60000/60000 [==============================] - 8s 136us/sample - loss: 0.0349 - accuracy: 0.9922\n",
      "Epoch 9/10\n",
      "60000/60000 [==============================] - 8s 135us/sample - loss: 0.0270 - accuracy: 0.9942\n",
      "Epoch 10/10\n",
      "60000/60000 [==============================] - 8s 136us/sample - loss: 0.0310 - accuracy: 0.9942\n"
     ]
    },
    {
     "data": {
      "text/plain": [
       "[0.21660316208218805, 0.9785]"
      ]
     },
     "execution_count": 212,
     "metadata": {},
     "output_type": "execute_result"
    }
   ],
   "source": [
    "# sequential model with conv2d 16, padding valid, relu -> conv2d 32, padding valid, relu -> softmax\n",
    "model_clean = tf.keras.Sequential([\n",
    "    tf.keras.layers.Conv2D(16, kernel_size=4, padding='valid', activation='relu', input_shape=(28, 28, 1)),\n",
    "    tf.keras.layers.Conv2D(32, kernel_size=4, padding='valid', activation='relu'),\n",
    "    tf.keras.layers.Flatten(),\n",
    "    tf.keras.layers.Dense(10, activation='softmax')\n",
    "])\n",
    "\n",
    "# train on mnist\n",
    "model_clean.compile(optimizer='adam',\n",
    "                loss='sparse_categorical_crossentropy',\n",
    "                metrics=['accuracy'])\n",
    "model_clean.fit(x_train, y_train, epochs=10)\n",
    "model_clean.evaluate(x_test, y_test)\n"
   ]
  },
  {
   "cell_type": "code",
   "execution_count": 214,
   "metadata": {},
   "outputs": [],
   "source": [
    "robust_classifier_2 = KerasClassifier(clip_values=(min_, max_), model=model_clean, use_logits=False)"
   ]
  },
  {
   "cell_type": "code",
   "execution_count": 215,
   "metadata": {},
   "outputs": [],
   "source": [
    "attacks_2 = BasicIterativeMethod(robust_classifier_2, eps=0.3, eps_step=0.01, max_iter=40)"
   ]
  },
  {
   "cell_type": "code",
   "execution_count": 243,
   "metadata": {
    "scrolled": false
   },
   "outputs": [
    {
     "data": {
      "application/vnd.jupyter.widget-view+json": {
       "model_id": "9db81e5733ae4e4fa0738edcc62a99db",
       "version_major": 2,
       "version_minor": 0
      },
      "text/plain": [
       "Precompute adv samples:   0%|          | 0/1 [00:00<?, ?it/s]"
      ]
     },
     "metadata": {},
     "output_type": "display_data"
    },
    {
     "data": {
      "application/vnd.jupyter.widget-view+json": {
       "model_id": "cfff6b01ec0b4e6b80147ae07a43df62",
       "version_major": 2,
       "version_minor": 0
      },
      "text/plain": [
       "Adversarial training epochs:   0%|          | 0/10 [00:00<?, ?it/s]"
      ]
     },
     "metadata": {},
     "output_type": "display_data"
    }
   ],
   "source": [
    "trainer_2 = AdversarialTrainer(robust_classifier_2, attacks_2, ratio=1.0)\n",
    "trainer_2.fit(x_train.astype(np.float32), y_train, nb_epochs=10, batch_size=50)"
   ]
  },
  {
   "cell_type": "code",
   "execution_count": 270,
   "metadata": {},
   "outputs": [
    {
     "name": "stdout",
     "output_type": "stream",
     "text": [
      "Original test data: 10000\n",
      "Correctly classified: 9826\n",
      "Incorrectly classified: 174\n",
      "Accuracy percentage: 0.9826\n"
     ]
    }
   ],
   "source": [
    "x_test_robust_pred = np.argmax(trainer_2.predict(x_test.astype(np.float32)), axis=1)\n",
    "nb_correct_robust_pred = np.sum(x_test_robust_pred == y_test)\n",
    "        \n",
    "print(\"Original test data: {}\".format(y_test.shape[0]))\n",
    "print(\"Correctly classified: {}\".format(nb_correct_robust_pred))\n",
    "print(\"Incorrectly classified: {}\".format(y_test.shape[0] - nb_correct_robust_pred))\n",
    "print(\"Accuracy percentage: {}\".format(nb_correct_robust_pred / y_test.shape[0]))"
   ]
  },
  {
   "cell_type": "code",
   "execution_count": 309,
   "metadata": {
    "scrolled": true
   },
   "outputs": [
    {
     "name": "stdout",
     "output_type": "stream",
     "text": [
      "(140000, 28, 28, 1)\n",
      "(140000, 1)\n",
      "(140000, 28, 28, 1)\n",
      "(140000, 1)\n",
      "(400, 28, 28, 1)\n",
      "(400, 1)\n"
     ]
    }
   ],
   "source": [
    "# load fgsm and pgd images and labels\n",
    "# import fgsm and pgd adversarial sampels\n",
    "pgd_images_zico = np.load('pgd_images_zico.npz')['images']\n",
    "pgd_labels_zico = np.load('pgd_images_zico.npz')['labels']\n",
    "\n",
    "fgsm_images_zico = np.load('fgsm_images_zico.npz')['images']\n",
    "fgsm_labels_zico = np.load('fgsm_images_zico.npz')['labels']\n",
    "\n",
    "spsa_images_zico = np.load('spsa_images_zico.npz')['images']\n",
    "spsa_labels_zico = np.load('spsa_images_zico.npz')['labels']\n",
    "\n",
    "# reshape pgd and fgsm images to 28, 28, 1\n",
    "pgd_images_zico = np.reshape(pgd_images_zico, (len(pgd_images_zico), 28, 28, 1))\n",
    "fgsm_images_zico = np.reshape(fgsm_images_zico, (len(fgsm_images_zico), 28, 28, 1))\n",
    "spsa_images_zico = np.reshape(spsa_images_zico, (len(spsa_images_zico), 28, 28, 1))\n",
    "\n",
    "print(pgd_images_zico.shape)\n",
    "print(pgd_labels_zico.shape)\n",
    "print(fgsm_images_zico.shape)\n",
    "print(fgsm_labels_zico.shape)   \n",
    "print(spsa_images_zico.shape)\n",
    "print(spsa_labels_zico.shape)"
   ]
  },
  {
   "cell_type": "code",
   "execution_count": 310,
   "metadata": {},
   "outputs": [
    {
     "data": {
      "image/png": "[encoded data removed]",
      "text/plain": [
       "<Figure size 432x288 with 1 Axes>"
      ]
     },
     "metadata": {
      "needs_background": "light"
     },
     "output_type": "display_data"
    },
    {
     "name": "stdout",
     "output_type": "stream",
     "text": [
      "[[    0     1     2     3     4     5     6     7     8     9]\n",
      " [13720 15890 14448 14140 13748 12488 13412 14392 13636 14126]]\n"
     ]
    }
   ],
   "source": [
    "plt.imshow(fgsm_images_zico[10000], cmap='gray')\n",
    "plt.show()\n",
    "\n",
    "# show the first 1000 unique labels and counts\n",
    "unique, counts = np.unique(fgsm_labels_zico, return_counts=True)\n",
    "print(np.asarray((unique, counts)))\n",
    "\n",
    "# take the first 10000 labels and images because higher epsilon values make the image unrecognizable\n",
    "fgsm_images_zico = fgsm_images_zico[:10000]\n",
    "fgsm_labels_zico = fgsm_labels_zico[:10000]\n",
    "\n",
    "# squeeze fgsm_labels_zico and pgd_labels_zico to remove the extra dimension\n",
    "fgsm_labels_zico = np.squeeze(fgsm_labels_zico)\n",
    "pgd_labels_zico = np.squeeze(pgd_labels_zico)\n",
    "spsa_labels_zico = np.squeeze(spsa_labels_zico)"
   ]
  },
  {
   "cell_type": "code",
   "execution_count": 311,
   "metadata": {},
   "outputs": [
    {
     "name": "stdout",
     "output_type": "stream",
     "text": [
      "0.1135\n"
     ]
    }
   ],
   "source": [
    "# Test against PGD\n",
    "prediction = trainer_2.predict(pgd_images_zico.astype(np.float32))\n",
    "x_test_robust_pred = np.argmax(trainer_2.predict(pgd_images_zico), axis=1)\n",
    "nb_correct_robust_pred = np.sum(x_test_robust_pred == pgd_labels_zico)\n",
    "\n",
    "# print accuracy in percentage\n",
    "print(np.sum(x_test_robust_pred == pgd_labels_zico) / len(pgd_labels_zico))"
   ]
  },
  {
   "cell_type": "code",
   "execution_count": 246,
   "metadata": {},
   "outputs": [
    {
     "name": "stdout",
     "output_type": "stream",
     "text": [
      "0.1135\n"
     ]
    }
   ],
   "source": [
    "# Test against FGSM\n",
    "x_test_robust_pred = np.argmax(trainer_2.predict(fgsm_images_zico), axis=1)\n",
    "nb_correct_robust_pred = np.sum(x_test_robust_pred == fgsm_labels_zico)\n",
    "\n",
    "# print accuracy in percentage\n",
    "print(np.sum(x_test_robust_pred == fgsm_labels_zico) / len(fgsm_labels_zico))"
   ]
  },
  {
   "cell_type": "code",
   "execution_count": 247,
   "metadata": {},
   "outputs": [
    {
     "name": "stdout",
     "output_type": "stream",
     "text": [
      "0.14\n"
     ]
    }
   ],
   "source": [
    "# Test against SPSA\n",
    "x_test_robust_pred = np.argmax(trainer_2.predict(spsa_images_zico), axis=1)\n",
    "nb_correct_robust_pred = np.sum(x_test_robust_pred == spsa_labels_zico)\n",
    "\n",
    "# print accuracy in percentage\n",
    "print(np.sum(x_test_robust_pred == spsa_labels_zico) / len(spsa_labels_zico))"
   ]
  },
  {
   "cell_type": "markdown",
   "metadata": {},
   "source": [
    "## Adversarial Training using AdversarialTrainerMadryPGD "
   ]
  },
  {
   "cell_type": "code",
   "execution_count": null,
   "metadata": {
    "scrolled": true
   },
   "outputs": [
    {
     "data": {
      "application/vnd.jupyter.widget-view+json": {
       "model_id": "07d405008c8a41d4a619ba88b481ab1c",
       "version_major": 2,
       "version_minor": 0
      },
      "text/plain": [
       "Precompute adv samples:   0%|          | 0/1 [00:00<?, ?it/s]"
      ]
     },
     "metadata": {},
     "output_type": "display_data"
    },
    {
     "data": {
      "application/vnd.jupyter.widget-view+json": {
       "model_id": "d55bafeb3c524f8bbaf13d78b7972c3a",
       "version_major": 2,
       "version_minor": 0
      },
      "text/plain": [
       "Adversarial training epochs:   0%|          | 0/83 [00:00<?, ?it/s]"
      ]
     },
     "metadata": {},
     "output_type": "display_data"
    }
   ],
   "source": [
    "trainer_3 = AdversarialTrainerMadryPGD(KerasClassifier(model_clean), nb_epochs=83, eps=0.3,eps_step=0.001)\n",
    "trainer_3.fit(x_train.astype(np.float32), y_train)"
   ]
  },
  {
   "cell_type": "code",
   "execution_count": 322,
   "metadata": {},
   "outputs": [],
   "source": [
    "trainer_3_classifier = trainer_3.get_classifier()"
   ]
  },
  {
   "cell_type": "code",
   "execution_count": 324,
   "metadata": {},
   "outputs": [
    {
     "name": "stdout",
     "output_type": "stream",
     "text": [
      "Original test data: 10000\n",
      "Correctly classified: 9837\n",
      "Incorrectly classified: 163\n",
      "Accuracy percentage: 0.9837\n"
     ]
    }
   ],
   "source": [
    "x_test_robust_pred = np.argmax(trainer_3_classifier.predict(x_test.astype(np.float32)), axis=1)\n",
    "nb_correct_robust_pred = np.sum(x_test_robust_pred == y_test)\n",
    "        \n",
    "print(\"Original test data: {}\".format(y_test.shape[0]))\n",
    "print(\"Correctly classified: {}\".format(nb_correct_robust_pred))\n",
    "print(\"Incorrectly classified: {}\".format(y_test.shape[0] - nb_correct_robust_pred))\n",
    "print(\"Accuracy percentage: {}\".format(nb_correct_robust_pred / y_test.shape[0]))"
   ]
  },
  {
   "cell_type": "code",
   "execution_count": 325,
   "metadata": {},
   "outputs": [
    {
     "name": "stdout",
     "output_type": "stream",
     "text": [
      "0.1135\n"
     ]
    }
   ],
   "source": [
    "# Test against PGD\n",
    "x_test_robust_pred = np.argmax(trainer_3_classifier.predict(pgd_images_zico), axis=1)\n",
    "nb_correct_robust_pred = np.sum(x_test_robust_pred == pgd_labels_zico)\n",
    "\n",
    "# print accuracy in percentage\n",
    "print(np.sum(x_test_robust_pred == pgd_labels_zico) / len(pgd_labels_zico))"
   ]
  },
  {
   "cell_type": "code",
   "execution_count": 326,
   "metadata": {},
   "outputs": [
    {
     "name": "stdout",
     "output_type": "stream",
     "text": [
      "0.1135\n"
     ]
    }
   ],
   "source": [
    "# Test against FGSM\n",
    "x_test_robust_pred = np.argmax(trainer_3_classifier.predict(fgsm_images_zico), axis=1)\n",
    "nb_correct_robust_pred = np.sum(x_test_robust_pred == fgsm_labels_zico)\n",
    "\n",
    "# print accuracy in percentage\n",
    "print(np.sum(x_test_robust_pred == fgsm_labels_zico) / len(fgsm_labels_zico))"
   ]
  },
  {
   "cell_type": "code",
   "execution_count": 327,
   "metadata": {},
   "outputs": [
    {
     "name": "stdout",
     "output_type": "stream",
     "text": [
      "0.14\n"
     ]
    }
   ],
   "source": [
    "# Test against SPSA\n",
    "x_test_robust_pred = np.argmax(trainer_3_classifier.predict(spsa_images_zico), axis=1)\n",
    "nb_correct_robust_pred = np.sum(x_test_robust_pred == spsa_labels_zico)\n",
    "\n",
    "# print accuracy in percentage\n",
    "print(np.sum(x_test_robust_pred == spsa_labels_zico) / len(spsa_labels_zico))"
   ]
  },
  {
   "cell_type": "code",
   "execution_count": 79,
   "metadata": {},
   "outputs": [
    {
     "data": {
      "image/png": "[encoded data removed]",
      "text/plain": [
       "<Figure size 432x288 with 1 Axes>"
      ]
     },
     "metadata": {
      "needs_background": "light"
     },
     "output_type": "display_data"
    },
    {
     "name": "stdout",
     "output_type": "stream",
     "text": [
      "(94372, 28, 28, 1)\n",
      "(94372,)\n"
     ]
    }
   ],
   "source": [
    "import numpy as np \n",
    "import matplotlib.pyplot as plt\n",
    "\n",
    "# load mnist_adv dataset\n",
    "# adv_path = 'assets/data/mnist_adv/'\n",
    "adv_path = 'mnist_zico_defense_by_attack_with_z0/'\n",
    "adv_files = []\n",
    "X_adv = []\n",
    "y_adv = []\n",
    "\n",
    "# for loop to load all the images\n",
    "for source in range(10):\n",
    "    for target in range(10):\n",
    "        if(source != target):\n",
    "            file = np.load(adv_path + 'from' + str(source) + 'to' + str(target) + '.npz')\n",
    "            adv_files.append(file)\n",
    "            y_adv.extend(np.full(len(file['adv_imgs']), source).tolist())\n",
    "\n",
    "keys = adv_files[0].files\n",
    "\n",
    "for file in adv_files:\n",
    "    with file as data:\n",
    "        X_adv.extend(data[keys[0]])\n",
    "\n",
    "X_adv = np.array(X_adv)\n",
    "y_adv = np.array(y_adv)\n",
    "y_one_hot = np.take(np.eye(10), y_adv, axis=0)\n",
    "\n",
    "plt.imshow(X_adv[0], cmap='gray')\n",
    "plt.show()\n",
    "print(X_adv.shape)\n",
    "print(y_adv.shape)"
   ]
  },
  {
   "cell_type": "code",
   "execution_count": 80,
   "metadata": {},
   "outputs": [
    {
     "name": "stdout",
     "output_type": "stream",
     "text": [
      "0.9201881914127071\n"
     ]
    }
   ],
   "source": [
    "# Test against X_adv\n",
    "x_test_robust_pred = np.argmax(trainer_2.predict(X_adv), axis=1)\n",
    "nb_correct_robust_pred = np.sum(x_test_robust_pred == np.argmax(y_adv))\n",
    "\n",
    "# print accuracy in percentage\n",
    "print(np.sum(x_test_robust_pred == y_adv) / len(y_adv))"
   ]
  },
  {
   "cell_type": "markdown",
   "metadata": {},
   "source": [
    "## Perofrming SPSA on Madry's Model"
   ]
  },
  {
   "cell_type": "code",
   "execution_count": 108,
   "metadata": {
    "scrolled": true
   },
   "outputs": [
    {
     "name": "stdout",
     "output_type": "stream",
     "text": [
      "Collecting cleverhans==3.1.0\n",
      "  Downloading cleverhans-3.1.0-py3-none-any.whl (320 kB)\n",
      "\u001b[K     |████████████████████████████████| 320 kB 12.0 MB/s eta 0:00:01\n",
      "\u001b[?25hRequirement already satisfied: nose in /usr/local/lib/python3.8/dist-packages (from cleverhans==3.1.0) (1.3.7)\n",
      "Requirement already satisfied: pycodestyle in /usr/local/lib/python3.8/dist-packages (from cleverhans==3.1.0) (2.8.0)\n",
      "Requirement already satisfied: mnist~=0.2 in /usr/local/lib/python3.8/dist-packages (from cleverhans==3.1.0) (0.2.2)\n",
      "Requirement already satisfied: matplotlib in /usr/local/lib/python3.8/dist-packages (from cleverhans==3.1.0) (3.5.1)\n",
      "Requirement already satisfied: numpy in /usr/local/lib/python3.8/dist-packages (from cleverhans==3.1.0) (1.22.1)\n",
      "Requirement already satisfied: scipy in /usr/local/lib/python3.8/dist-packages (from cleverhans==3.1.0) (1.8.1)\n",
      "Requirement already satisfied: tensorflow-probability in /usr/local/lib/python3.8/dist-packages (from cleverhans==3.1.0) (0.17.0)\n",
      "Requirement already satisfied: joblib in /usr/local/lib/python3.8/dist-packages (from cleverhans==3.1.0) (1.1.0)\n",
      "Requirement already satisfied: fonttools>=4.22.0 in /usr/local/lib/python3.8/dist-packages (from matplotlib->cleverhans==3.1.0) (4.29.1)\n",
      "Requirement already satisfied: kiwisolver>=1.0.1 in /usr/local/lib/python3.8/dist-packages (from matplotlib->cleverhans==3.1.0) (1.3.2)\n",
      "Requirement already satisfied: pillow>=6.2.0 in /usr/local/lib/python3.8/dist-packages (from matplotlib->cleverhans==3.1.0) (9.0.0)\n",
      "Requirement already satisfied: packaging>=20.0 in /usr/local/lib/python3.8/dist-packages (from matplotlib->cleverhans==3.1.0) (21.3)\n",
      "Requirement already satisfied: pyparsing>=2.2.1 in /usr/local/lib/python3.8/dist-packages (from matplotlib->cleverhans==3.1.0) (3.0.7)\n",
      "Requirement already satisfied: cycler>=0.10 in /usr/local/lib/python3.8/dist-packages (from matplotlib->cleverhans==3.1.0) (0.11.0)\n",
      "Requirement already satisfied: python-dateutil>=2.7 in /usr/local/lib/python3.8/dist-packages (from matplotlib->cleverhans==3.1.0) (2.8.2)\n",
      "Requirement already satisfied: gast>=0.3.2 in /usr/local/lib/python3.8/dist-packages (from tensorflow-probability->cleverhans==3.1.0) (0.5.3)\n",
      "Requirement already satisfied: decorator in /usr/local/lib/python3.8/dist-packages (from tensorflow-probability->cleverhans==3.1.0) (5.1.1)\n",
      "Requirement already satisfied: absl-py in /usr/local/lib/python3.8/dist-packages (from tensorflow-probability->cleverhans==3.1.0) (1.0.0)\n",
      "Requirement already satisfied: cloudpickle>=1.3 in /usr/local/lib/python3.8/dist-packages (from tensorflow-probability->cleverhans==3.1.0) (2.1.0)\n",
      "Requirement already satisfied: dm-tree in /usr/local/lib/python3.8/dist-packages (from tensorflow-probability->cleverhans==3.1.0) (0.1.7)\n",
      "Requirement already satisfied: six>=1.10.0 in /usr/lib/python3/dist-packages (from tensorflow-probability->cleverhans==3.1.0) (1.14.0)\n",
      "Installing collected packages: cleverhans\n",
      "  Attempting uninstall: cleverhans\n",
      "    Found existing installation: cleverhans 4.0.0\n",
      "    Uninstalling cleverhans-4.0.0:\n",
      "      Successfully uninstalled cleverhans-4.0.0\n",
      "Successfully installed cleverhans-3.1.0\n",
      "\u001b[33mWARNING: You are using pip version 20.2.4; however, version 22.1.2 is available.\n",
      "You should consider upgrading via the '/usr/bin/python3 -m pip install --upgrade pip' command.\u001b[0m\n"
     ]
    }
   ],
   "source": [
    "!pip install cleverhans==3.1.0"
   ]
  },
  {
   "cell_type": "code",
   "execution_count": 18,
   "metadata": {},
   "outputs": [
    {
     "name": "stdout",
     "output_type": "stream",
     "text": [
      "WARNING:tensorflow:From /usr/local/lib/python3.8/dist-packages/tensorflow/python/compat/v2_compat.py:107: disable_resource_variables (from tensorflow.python.ops.variable_scope) is deprecated and will be removed in a future version.\n",
      "Instructions for updating:\n",
      "non-resource variables are not supported in the long term\n"
     ]
    }
   ],
   "source": [
    "from cleverhans.tf2.attacks.spsa import spsa\n",
    "import tensorflow.compat.v1 as tf\n",
    "\n",
    "tf.disable_v2_behavior()\n",
    "\n",
    "#The attack requires the model to ouput the logits\n",
    "logits_model = tf.keras.Model(model.input,model.layers[-1].output)"
   ]
  },
  {
   "cell_type": "code",
   "execution_count": 19,
   "metadata": {},
   "outputs": [],
   "source": [
    "# load mnist\n",
    "mnist = tf.keras.datasets.mnist\n",
    "(train_images, train_labels), (test_images, test_labels) = mnist.load_data()\n",
    "\n",
    "train_images = train_images / 255.0\n",
    "test_images = test_images / 255.0\n",
    "\n",
    "num_classes = 10"
   ]
  },
  {
   "cell_type": "code",
   "execution_count": 13,
   "metadata": {},
   "outputs": [],
   "source": [
    "x_0 = tf.convert_to_tensor(np.array([train_images[0]]), dtype='float32')\n",
    "y_0 = tf.convert_to_tensor(np.array(train_labels[0]), dtype='float32')"
   ]
  },
  {
   "cell_type": "code",
   "execution_count": 16,
   "metadata": {},
   "outputs": [
    {
     "data": {
      "text/plain": [
       "TensorShape([1, 28, 28])"
      ]
     },
     "execution_count": 16,
     "metadata": {},
     "output_type": "execute_result"
    }
   ],
   "source": [
    "x_0.get_shape()"
   ]
  },
  {
   "cell_type": "code",
   "execution_count": 20,
   "metadata": {},
   "outputs": [
    {
     "name": "stdout",
     "output_type": "stream",
     "text": [
      "WARNING:tensorflow:From /usr/local/lib/python3.8/dist-packages/cleverhans/tf2/attacks/spsa.py:394: calling while_loop_v2 (from tensorflow.python.ops.control_flow_ops) with back_prop=False is deprecated and will be removed in a future version.\n",
      "Instructions for updating:\n",
      "back_prop=False is deprecated. Consider using tf.stop_gradient instead.\n",
      "Instead of:\n",
      "results = tf.while_loop(c, b, vars, back_prop=False)\n",
      "Use:\n",
      "results = tf.nest.map_structure(tf.stop_gradient, tf.while_loop(c, b, vars))\n"
     ]
    }
   ],
   "source": [
    "# perform spsa on train_images\n",
    "attack = spsa(logits_model, x = x_0, y = y_0, eps = 0.3, nb_iter = 10, clip_min=0.0, clip_max=1.0)"
   ]
  },
  {
   "cell_type": "code",
   "execution_count": 21,
   "metadata": {},
   "outputs": [],
   "source": [
    "adv_x = tf.stop_gradient(attack)"
   ]
  },
  {
   "cell_type": "code",
   "execution_count": 22,
   "metadata": {},
   "outputs": [
    {
     "name": "stdout",
     "output_type": "stream",
     "text": [
      "Predicted Label:  5\n",
      "Correct Label:  5.0\n"
     ]
    }
   ],
   "source": [
    "preds_adv = model(adv_x)\n",
    "print(\"Predicted Label: \", tf.keras.backend.get_value(tf.argmax(preds_adv, axis=-1))[0])\n",
    "print(\"Correct Label: \", tf.keras.backend.get_value(y_0))"
   ]
  },
  {
   "cell_type": "code",
   "execution_count": 44,
   "metadata": {},
   "outputs": [
    {
     "name": "stdout",
     "output_type": "stream",
     "text": [
      "Predicted Label:  3\n",
      "Correct Label:  5.0\n"
     ]
    }
   ],
   "source": [
    "preds_adv_madry = model_madry(adv_x)\n",
    "print(\"Predicted Label: \", tf.keras.backend.get_value(tf.argmax(preds_adv_madry, axis=-1))[0])\n",
    "print(\"Correct Label: \", tf.keras.backend.get_value(y_0))"
   ]
  },
  {
   "cell_type": "code",
   "execution_count": 24,
   "metadata": {},
   "outputs": [],
   "source": [
    "adv_x_image = tf.keras.backend.get_value(adv_x)\n",
    "adv_x_image = np.reshape(adv_x_image, (28, 28, 1))"
   ]
  },
  {
   "cell_type": "code",
   "execution_count": 25,
   "metadata": {
    "scrolled": true
   },
   "outputs": [
    {
     "data": {
      "image/png": "[encoded data removed]",
      "text/plain": [
       "<Figure size 432x288 with 1 Axes>"
      ]
     },
     "metadata": {
      "needs_background": "light"
     },
     "output_type": "display_data"
    },
    {
     "data": {
      "text/plain": [
       "5.0"
      ]
     },
     "execution_count": 25,
     "metadata": {},
     "output_type": "execute_result"
    }
   ],
   "source": [
    "plt.imshow(adv_x_image, cmap='gray')\n",
    "plt.show()\n",
    "tf.keras.backend.get_value(y_0)"
   ]
  },
  {
   "cell_type": "markdown",
   "metadata": {},
   "source": [
    "## Perofrming SPSA on model_adv "
   ]
  },
  {
   "cell_type": "code",
   "execution_count": 62,
   "metadata": {},
   "outputs": [],
   "source": [
    "# load model_adv\n",
    "model_adv = tf.keras.models.load_model('mnist_adv_model.h5')"
   ]
  },
  {
   "cell_type": "code",
   "execution_count": 27,
   "metadata": {},
   "outputs": [],
   "source": [
    "preds_adv_2 = model_adv(adv_x)"
   ]
  },
  {
   "cell_type": "code",
   "execution_count": 28,
   "metadata": {},
   "outputs": [
    {
     "data": {
      "text/plain": [
       "3"
      ]
     },
     "execution_count": 28,
     "metadata": {},
     "output_type": "execute_result"
    }
   ],
   "source": [
    "tf.keras.backend.get_value(tf.argmax(preds_adv_2, axis=-1))[0]"
   ]
  },
  {
   "cell_type": "code",
   "execution_count": 29,
   "metadata": {},
   "outputs": [
    {
     "data": {
      "text/plain": [
       "(10000, 28, 28)"
      ]
     },
     "execution_count": 29,
     "metadata": {},
     "output_type": "execute_result"
    }
   ],
   "source": [
    "test_images.shape"
   ]
  },
  {
   "cell_type": "code",
   "execution_count": 32,
   "metadata": {},
   "outputs": [
    {
     "name": "stdout",
     "output_type": "stream",
     "text": [
      "[[ 0  1  2  3  4  5  6  7  8  9]\n",
      " [ 8 14  8 11 14  7 10 15  2 11]]\n"
     ]
    }
   ],
   "source": [
    "test_images_gen = test_images[:100]\n",
    "test_labels_gen = test_labels[:100]\n",
    "unique, counts = np.unique(test_labels_gen, return_counts=True)\n",
    "print(np.asarray((unique, counts)))"
   ]
  },
  {
   "cell_type": "code",
   "execution_count": 33,
   "metadata": {},
   "outputs": [
    {
     "data": {
      "text/plain": [
       "(100, 28, 28)"
      ]
     },
     "execution_count": 33,
     "metadata": {},
     "output_type": "execute_result"
    }
   ],
   "source": [
    "test_images_gen.shape"
   ]
  },
  {
   "cell_type": "code",
   "execution_count": null,
   "metadata": {},
   "outputs": [],
   "source": [
    "type(test_labels[0])"
   ]
  },
  {
   "cell_type": "markdown",
   "metadata": {},
   "source": [
    "## Generate Large Scale Adversarial Examples using SPSA"
   ]
  },
  {
   "cell_type": "code",
   "execution_count": 76,
   "metadata": {},
   "outputs": [
    {
     "name": "stdout",
     "output_type": "stream",
     "text": [
      "(100, 28, 28)\n",
      "0.1\n",
      "0.0 %\n",
      "0.2\n",
      "0.0 %\n",
      "0.30000000000000004\n",
      "0.0 %\n",
      "0.4\n",
      "0.0 %\n"
     ]
    }
   ],
   "source": [
    "# calculate error rate for FGSM attack on both clean and adv model with varying epsilon values\n",
    "\n",
    "# iterate from 0.1 to 1.5 with 0.1 step size\n",
    "epsilon_values = np.arange(0.1, 0.4, 0.1)\n",
    "spsa_images = []\n",
    "spsa_labels = []\n",
    "\n",
    "print(test_images_gen.shape)\n",
    "\n",
    "for index, epsilon in enumerate(epsilon_values):\n",
    "    print(epsilon)\n",
    "\n",
    "    # original image and original label\n",
    "\n",
    "    for i in range(test_images_gen.shape[0]): \n",
    "        original_image = test_images_gen[i]\n",
    "        original_image = tf.convert_to_tensor(original_image.reshape((1,28,28)), dtype='float32') #The .reshape just gives it the proper form to input into the model, a batch of 1 a.k.a a tensor\n",
    "\n",
    "        original_label = test_labels_gen[i]\n",
    "        original_label = np.reshape(original_label, (1,)).astype('float32') # Give label proper shape and type for cleverhans\n",
    "\n",
    "        \n",
    "        # perform spsa on train_images\n",
    "        adv_example = spsa(logits_model, x = original_image, y = original_label, eps = epsilon, nb_iter = 10, clip_min=0.0, clip_max=1.0)\n",
    "        adv_example = tf.keras.backend.get_value(adv_example)\n",
    "        \n",
    "        # add fgsm image to list\n",
    "        spsa_images.append(adv_example)\n",
    "        spsa_labels.append(original_label)\n",
    "\n",
    "np.savez('spsa_images_zico', images=spsa_images, labels=spsa_labels)"
   ]
  },
  {
   "cell_type": "code",
   "execution_count": 77,
   "metadata": {},
   "outputs": [],
   "source": [
    "spsa_labels = np.array(spsa_labels)\n",
    "spsa_images = np.array(spsa_images)\n",
    "\n",
    "spsa_images = np.reshape(spsa_images, (-1, 28, 28, 1))\n",
    "spsa_labels = np.squeeze(spsa_labels)"
   ]
  },
  {
   "cell_type": "code",
   "execution_count": 78,
   "metadata": {},
   "outputs": [
    {
     "data": {
      "text/plain": [
       "(400, 28, 28, 1)"
      ]
     },
     "execution_count": 78,
     "metadata": {},
     "output_type": "execute_result"
    }
   ],
   "source": [
    "spsa_images.shape"
   ]
  },
  {
   "cell_type": "code",
   "execution_count": 79,
   "metadata": {},
   "outputs": [
    {
     "data": {
      "text/plain": [
       "(400,)"
      ]
     },
     "execution_count": 79,
     "metadata": {},
     "output_type": "execute_result"
    }
   ],
   "source": [
    "spsa_labels.shape"
   ]
  },
  {
   "cell_type": "code",
   "execution_count": 81,
   "metadata": {},
   "outputs": [
    {
     "data": {
      "image/png": "[encoded data removed]",
      "text/plain": [
       "<Figure size 432x288 with 1 Axes>"
      ]
     },
     "metadata": {
      "needs_background": "light"
     },
     "output_type": "display_data"
    },
    {
     "name": "stdout",
     "output_type": "stream",
     "text": [
      "6.0\n"
     ]
    }
   ],
   "source": [
    "plt.imshow(spsa_images[50], cmap='gray')\n",
    "plt.show()\n",
    "print(spsa_labels[50])"
   ]
  },
  {
   "cell_type": "code",
   "execution_count": 46,
   "metadata": {},
   "outputs": [
    {
     "name": "stdout",
     "output_type": "stream",
     "text": [
      "45.47\n"
     ]
    }
   ],
   "source": [
    "# Test against X_adv\n",
    "x_test_robust_pred = np.argmax(model_madry.predict(spsa_images_zico), axis=1)\n",
    "nb_correct_robust_pred = np.sum(x_test_robust_pred == np.argmax(spsa_labels_zico))\n",
    "\n",
    "# print accuracy in percentage\n",
    "print(np.sum(x_test_robust_pred == spsa_labels_zico) / len(spsa_labels_zico))"
   ]
  },
  {
   "cell_type": "code",
   "execution_count": 85,
   "metadata": {},
   "outputs": [
    {
     "name": "stdout",
     "output_type": "stream",
     "text": [
      "0.965\n"
     ]
    }
   ],
   "source": [
    "# Test against X_adv\n",
    "x_test_robust_pred = np.argmax(model_adv.predict(spsa_images), axis=1)\n",
    "nb_correct_robust_pred = np.sum(x_test_robust_pred == np.argmax(spsa_labels))\n",
    "\n",
    "# print accuracy in percentage\n",
    "print(np.sum(x_test_robust_pred == spsa_labels) / len(spsa_labels))"
   ]
  }
 ],
 "metadata": {
  "kernelspec": {
   "display_name": "Python 3.9.0 64-bit",
   "language": "python",
   "name": "python3"
  },
  "language_info": {
   "codemirror_mode": {
    "name": "ipython",
    "version": 3
   },
   "file_extension": ".py",
   "mimetype": "text/x-python",
   "name": "python",
   "nbconvert_exporter": "python",
   "pygments_lexer": "ipython3",
   "version": "3.9.0"
  },
  "vscode": {
   "interpreter": {
    "hash": "4d32610e65d0ba547d20b5ddccd11b31c7d91644470808fb362c82b58c120951"
   }
  }
 },
 "nbformat": 4,
 "nbformat_minor": 2
}
