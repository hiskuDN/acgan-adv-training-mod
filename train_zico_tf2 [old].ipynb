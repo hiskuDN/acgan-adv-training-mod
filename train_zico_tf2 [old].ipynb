{
  "cells": [
    {
      "cell_type": "markdown",
      "metadata": {},
      "source": [
        "# Old"
      ]
    },
    {
      "cell_type": "markdown",
      "metadata": {},
      "source": [
        "## TF 2 Rewrite of Zico MNIST [Attempt_1] "
      ]
    },
    {
      "cell_type": "code",
      "execution_count": 1,
      "metadata": {
        "id": "jZyrRyKKNM6k"
      },
      "outputs": [],
      "source": [
        "import tensorflow as tf\n",
        "import tensorflow.keras as keras\n",
        "import numpy as np\n",
        "import matplotlib.pyplot as plt"
      ]
    },
    {
      "cell_type": "code",
      "execution_count": 2,
      "metadata": {
        "colab": {
          "base_uri": "https://localhost:8080/",
          "height": 356
        },
        "id": "8dgt98KqNPeD",
        "outputId": "c138d1d2-9145-486b-a1dc-167cd2ffeb6f"
      },
      "outputs": [],
      "source": [
        "model = keras.Sequential([\n",
        "    keras.layers.Conv2D(32, (3, 3), activation='relu', input_shape=(28, 28, 1), padding='valid', strides=(1, 2)),\n",
        "    keras.layers.Conv2D(64, (3, 3), activation='relu', padding='valid', strides=(1, 2)),\n",
        "    keras.layers.Flatten(),\n",
        "    keras.layers.Dense(128, activation='relu'),\n",
        "    keras.layers.Dense(10, activation='softmax')\n",
        "])\n",
        "\n",
        "model.compile(\n",
        "    optimizer=keras.optimizers.Adam(0.001),\n",
        "    loss=keras.losses.SparseCategoricalCrossentropy(from_logits=True),\n",
        "    metrics=[keras.metrics.SparseCategoricalAccuracy()],\n",
        ")"
      ]
    },
    {
      "cell_type": "code",
      "execution_count": 7,
      "metadata": {},
      "outputs": [],
      "source": [
        "mnist = tf.keras.datasets.mnist\n",
        "(train_images, train_labels), (test_images, test_labels) = mnist.load_data()"
      ]
    },
    {
      "cell_type": "code",
      "execution_count": 9,
      "metadata": {},
      "outputs": [
        {
          "name": "stdout",
          "output_type": "stream",
          "text": [
            "Epoch 1/10\n"
          ]
        },
        {
          "name": "stderr",
          "output_type": "stream",
          "text": [
            "c:\\Users\\Hisku\\AppData\\Local\\Programs\\Python\\Python39\\lib\\site-packages\\tensorflow\\python\\util\\dispatch.py:1096: UserWarning: \"`sparse_categorical_crossentropy` received `from_logits=True`, but the `output` argument was produced by a sigmoid or softmax activation and thus does not represent logits. Was this intended?\"\n",
            "  return dispatch_target(*args, **kwargs)\n"
          ]
        },
        {
          "name": "stdout",
          "output_type": "stream",
          "text": [
            "1500/1500 [==============================] - 60s 31ms/step - loss: 0.2838 - sparse_categorical_accuracy: 0.9488 - val_loss: 0.1039 - val_sparse_categorical_accuracy: 0.9703\n",
            "Epoch 2/10\n",
            "1500/1500 [==============================] - 42s 28ms/step - loss: 0.0613 - sparse_categorical_accuracy: 0.9814 - val_loss: 0.0715 - val_sparse_categorical_accuracy: 0.9793\n",
            "Epoch 3/10\n",
            "1500/1500 [==============================] - 40s 27ms/step - loss: 0.0451 - sparse_categorical_accuracy: 0.9857 - val_loss: 0.0915 - val_sparse_categorical_accuracy: 0.9768\n",
            "Epoch 4/10\n",
            "1500/1500 [==============================] - 28s 18ms/step - loss: 0.0369 - sparse_categorical_accuracy: 0.9889 - val_loss: 0.0821 - val_sparse_categorical_accuracy: 0.9793\n",
            "Epoch 5/10\n",
            "1500/1500 [==============================] - 15s 10ms/step - loss: 0.0285 - sparse_categorical_accuracy: 0.9910 - val_loss: 0.0977 - val_sparse_categorical_accuracy: 0.9807\n",
            "Epoch 6/10\n",
            "1500/1500 [==============================] - 15s 10ms/step - loss: 0.0236 - sparse_categorical_accuracy: 0.9926 - val_loss: 0.0853 - val_sparse_categorical_accuracy: 0.9814\n",
            "Epoch 7/10\n",
            "1500/1500 [==============================] - 15s 10ms/step - loss: 0.0207 - sparse_categorical_accuracy: 0.9936 - val_loss: 0.1100 - val_sparse_categorical_accuracy: 0.9817\n",
            "Epoch 8/10\n",
            "1500/1500 [==============================] - 15s 10ms/step - loss: 0.0193 - sparse_categorical_accuracy: 0.9942 - val_loss: 0.1173 - val_sparse_categorical_accuracy: 0.9795\n",
            "Epoch 9/10\n",
            "1500/1500 [==============================] - 15s 10ms/step - loss: 0.0164 - sparse_categorical_accuracy: 0.9956 - val_loss: 0.1326 - val_sparse_categorical_accuracy: 0.9808\n",
            "Epoch 10/10\n",
            "1500/1500 [==============================] - 15s 10ms/step - loss: 0.0181 - sparse_categorical_accuracy: 0.9956 - val_loss: 0.1172 - val_sparse_categorical_accuracy: 0.9840\n"
          ]
        },
        {
          "data": {
            "text/plain": [
              "<keras.callbacks.History at 0x1f57ea93490>"
            ]
          },
          "execution_count": 9,
          "metadata": {},
          "output_type": "execute_result"
        }
      ],
      "source": [
        "model.fit(train_images, train_labels, epochs=10, validation_split=0.2)"
      ]
    },
    {
      "cell_type": "code",
      "execution_count": 11,
      "metadata": {},
      "outputs": [
        {
          "name": "stderr",
          "output_type": "stream",
          "text": [
            "c:\\Users\\Hisku\\AppData\\Local\\Programs\\Python\\Python39\\lib\\site-packages\\tensorflow\\python\\util\\dispatch.py:1096: UserWarning: \"`sparse_categorical_crossentropy` received `from_logits=True`, but the `output` argument was produced by a sigmoid or softmax activation and thus does not represent logits. Was this intended?\"\n",
            "  return dispatch_target(*args, **kwargs)\n"
          ]
        },
        {
          "name": "stdout",
          "output_type": "stream",
          "text": [
            "313/313 - 2s - loss: 0.1029 - sparse_categorical_accuracy: 0.9836 - 2s/epoch - 7ms/step\n"
          ]
        },
        {
          "data": {
            "text/plain": [
              "[0.10291782021522522, 0.9836000204086304]"
            ]
          },
          "execution_count": 11,
          "metadata": {},
          "output_type": "execute_result"
        }
      ],
      "source": [
        "model.evaluate(test_images, test_labels, verbose=2)"
      ]
    },
    {
      "cell_type": "markdown",
      "metadata": {},
      "source": [
        "### Evaluating against PGD images"
      ]
    },
    {
      "cell_type": "code",
      "execution_count": 24,
      "metadata": {},
      "outputs": [],
      "source": [
        "# import fgsm and pgd adversarial sampels\n",
        "pgd_images = np.load('pgd_images.npz')['images']\n",
        "pgd_labels = np.load('pgd_images.npz')['labels']\n",
        "\n",
        "pgd_images = np.reshape(pgd_images, (len(pgd_images), 28, 28, 1))"
      ]
    },
    {
      "cell_type": "code",
      "execution_count": 18,
      "metadata": {},
      "outputs": [
        {
          "name": "stderr",
          "output_type": "stream",
          "text": [
            "c:\\Users\\Hisku\\AppData\\Local\\Programs\\Python\\Python39\\lib\\site-packages\\tensorflow\\python\\util\\dispatch.py:1096: UserWarning: \"`sparse_categorical_crossentropy` received `from_logits=True`, but the `output` argument was produced by a sigmoid or softmax activation and thus does not represent logits. Was this intended?\"\n",
            "  return dispatch_target(*args, **kwargs)\n"
          ]
        },
        {
          "name": "stdout",
          "output_type": "stream",
          "text": [
            "4375/4375 - 46s - loss: 2.2921 - sparse_categorical_accuracy: 0.1348 - 46s/epoch - 11ms/step\n"
          ]
        },
        {
          "data": {
            "text/plain": [
              "[2.292105197906494, 0.1348285675048828]"
            ]
          },
          "execution_count": 18,
          "metadata": {},
          "output_type": "execute_result"
        }
      ],
      "source": [
        "model.evaluate(pgd_images, pgd_labels, verbose=2)\n"
      ]
    },
    {
      "cell_type": "markdown",
      "metadata": {},
      "source": [
        "### Evaluating against Unrestricted Adversarial Images"
      ]
    },
    {
      "cell_type": "code",
      "execution_count": 25,
      "metadata": {},
      "outputs": [
        {
          "data": {
            "image/png": "[encoded data removed]",
            "text/plain": [
              "<Figure size 432x288 with 1 Axes>"
            ]
          },
          "metadata": {
            "needs_background": "light"
          },
          "output_type": "display_data"
        },
        {
          "name": "stdout",
          "output_type": "stream",
          "text": [
            "1\n",
            "(94372, 28, 28, 1)\n",
            "(94372,)\n"
          ]
        }
      ],
      "source": [
        "# load mnist_adv dataset\n",
        "# adv_path = 'assets/data/mnist_adv/'\n",
        "adv_path = 'mnist_zico_defense_by_attack_with_z0/'\n",
        "adv_files = []\n",
        "X = []\n",
        "y = []\n",
        "\n",
        "# for loop to load all the images\n",
        "for source in range(10):\n",
        "    for target in range(10):\n",
        "        if(source != target):\n",
        "          file = np.load(adv_path + 'from' + str(source) + 'to' + str(target) + '.npz')\n",
        "          adv_files.append(file)\n",
        "          y.extend(np.full(len(file['adv_imgs']), source).tolist())\n",
        "\n",
        "keys = adv_files[0].files\n",
        "\n",
        "for file in adv_files:\n",
        "  with file as data:\n",
        "      X.extend(data[keys[0]])\n",
        "\n",
        "X = np.array(X)\n",
        "y = np.array(y)\n",
        "y_one_hot = np.take(np.eye(10), y, axis=0)\n",
        "\n",
        "plt.imshow(X[10000], cmap='gray')\n",
        "plt.show()\n",
        "print(y[10000])\n",
        "print(X.shape)\n",
        "print(y.shape)"
      ]
    },
    {
      "cell_type": "code",
      "execution_count": 20,
      "metadata": {},
      "outputs": [
        {
          "name": "stderr",
          "output_type": "stream",
          "text": [
            "c:\\Users\\Hisku\\AppData\\Local\\Programs\\Python\\Python39\\lib\\site-packages\\tensorflow\\python\\util\\dispatch.py:1096: UserWarning: \"`sparse_categorical_crossentropy` received `from_logits=True`, but the `output` argument was produced by a sigmoid or softmax activation and thus does not represent logits. Was this intended?\"\n",
            "  return dispatch_target(*args, **kwargs)\n"
          ]
        },
        {
          "name": "stdout",
          "output_type": "stream",
          "text": [
            "2950/2950 - 42s - loss: 2.2948 - sparse_categorical_accuracy: 0.1162 - 42s/epoch - 14ms/step\n"
          ]
        },
        {
          "data": {
            "text/plain": [
              "[2.294790744781494, 0.11616793274879456]"
            ]
          },
          "execution_count": 20,
          "metadata": {},
          "output_type": "execute_result"
        }
      ],
      "source": [
        "model.evaluate(X, y, verbose=2)"
      ]
    },
    {
      "cell_type": "markdown",
      "metadata": {},
      "source": [
        "### Training model_adv on Unrestricted Adversarial Images"
      ]
    },
    {
      "cell_type": "code",
      "execution_count": 26,
      "metadata": {},
      "outputs": [],
      "source": [
        "model_adv = keras.Sequential([\n",
        "    keras.layers.Conv2D(32, (3, 3), activation='relu', input_shape=(28, 28, 1), padding='valid', strides=(1, 2)),\n",
        "    keras.layers.Conv2D(64, (3, 3), activation='relu', padding='valid', strides=(1, 2)),\n",
        "    keras.layers.Flatten(),\n",
        "    keras.layers.Dense(128, activation='relu'),\n",
        "    keras.layers.Dense(10, activation='softmax')\n",
        "])\n",
        "\n",
        "model_adv.compile(\n",
        "    optimizer=keras.optimizers.Adam(0.001),\n",
        "    loss=keras.losses.SparseCategoricalCrossentropy(from_logits=True),\n",
        "    metrics=[keras.metrics.SparseCategoricalAccuracy()],\n",
        ")"
      ]
    },
    {
      "cell_type": "code",
      "execution_count": 27,
      "metadata": {},
      "outputs": [],
      "source": [
        "# shuffle x and y\n",
        "X, y = X[np.random.permutation(len(X))], y[np.random.permutation(len(y))]\n",
        "# divde x and y into train and test with 0.3 test size\n",
        "X_train, X_test, y_train, y_test = X[:int(0.7*len(X))], X[int(0.7*len(X)):], y[:int(0.7*len(y))], y[int(0.7*len(y)):]"
      ]
    },
    {
      "cell_type": "code",
      "execution_count": 16,
      "metadata": {},
      "outputs": [
        {
          "name": "stdout",
          "output_type": "stream",
          "text": [
            "[6664 6594 6700 6670 6624 6551 6556 6513 6628 6560]\n",
            "[2788 2731 2736 2792 2861 2886 2857 2861 2937 2863]\n"
          ]
        }
      ],
      "source": [
        "# check if data is balanced\n",
        "print(np.bincount(y_train))\n",
        "print(np.bincount(y_test))"
      ]
    },
    {
      "cell_type": "code",
      "execution_count": 17,
      "metadata": {},
      "outputs": [
        {
          "name": "stdout",
          "output_type": "stream",
          "text": [
            "(66060, 28, 28, 1)\n",
            "(66060,)\n",
            "(28312, 28, 28, 1)\n",
            "(28312,)\n"
          ]
        }
      ],
      "source": [
        "print(X_train.shape)\n",
        "print(y_train.shape)\n",
        "print(X_test.shape)\n",
        "print(y_test.shape)"
      ]
    },
    {
      "cell_type": "markdown",
      "metadata": {},
      "source": [
        "#### Evaluate with Unrestricted Adversarial Examples"
      ]
    },
    {
      "cell_type": "code",
      "execution_count": 19,
      "metadata": {},
      "outputs": [
        {
          "name": "stdout",
          "output_type": "stream",
          "text": [
            "885/885 - 12s - loss: 2.9395 - sparse_categorical_accuracy: 0.0986 - 12s/epoch - 14ms/step\n"
          ]
        },
        {
          "data": {
            "text/plain": [
              "[2.939526081085205, 0.09858010709285736]"
            ]
          },
          "execution_count": 19,
          "metadata": {},
          "output_type": "execute_result"
        }
      ],
      "source": [
        "model_adv.evaluate(X_test, y_test, verbose=2)"
      ]
    },
    {
      "cell_type": "markdown",
      "metadata": {},
      "source": [
        "#### Evaluate with PGD Samples"
      ]
    },
    {
      "cell_type": "code",
      "execution_count": null,
      "metadata": {},
      "outputs": [],
      "source": [
        "model_adv.evaluate(pgd_images, pgd_labels, verbose=2)"
      ]
    },
    {
      "cell_type": "markdown",
      "metadata": {},
      "source": [
        "## Run Train Zico without changing code"
      ]
    },
    {
      "cell_type": "code",
      "execution_count": null,
      "metadata": {},
      "outputs": [],
      "source": [
        "!tf_upgrade_v2 --infile train_zico.py --outfile train_zico_v2.py"
      ]
    },
    {
      "cell_type": "code",
      "execution_count": 2,
      "metadata": {},
      "outputs": [
        {
          "name": "stdout",
          "output_type": "stream",
          "text": [
            "INFO line 9:0: Not upgrading symbols because `tensorflow.compat.v1` was directly imported as `tf`.\n",
            "INFO line 10:0: Renamed 'tf.disable_v2_behavior' to 'tf.compat.v1.disable_v2_behavior'\n",
            "WARNING line 15:13: tf.get_variable requires manual check. tf.get_variable returns ResourceVariables by default in 2.0, which have well-defined semantics and are stricter about shapes. You can disable this behavior by passing use_resource=False, or by calling tf.compat.v1.disable_resource_variables().\n",
            "INFO line 15:13: Renamed 'tf.get_variable' to 'tf.compat.v1.get_variable'\n",
            "WARNING line 16:13: tf.get_variable requires manual check. tf.get_variable returns ResourceVariables by default in 2.0, which have well-defined semantics and are stricter about shapes. You can disable this behavior by passing use_resource=False, or by calling tf.compat.v1.disable_resource_variables().\n",
            "INFO line 16:13: Renamed 'tf.get_variable' to 'tf.compat.v1.get_variable'\n",
            "WARNING line 17:13: tf.get_variable requires manual check. tf.get_variable returns ResourceVariables by default in 2.0, which have well-defined semantics and are stricter about shapes. You can disable this behavior by passing use_resource=False, or by calling tf.compat.v1.disable_resource_variables().\n",
            "INFO line 17:13: Renamed 'tf.get_variable' to 'tf.compat.v1.get_variable'\n",
            "WARNING line 18:13: tf.get_variable requires manual check. tf.get_variable returns ResourceVariables by default in 2.0, which have well-defined semantics and are stricter about shapes. You can disable this behavior by passing use_resource=False, or by calling tf.compat.v1.disable_resource_variables().\n",
            "INFO line 18:13: Renamed 'tf.get_variable' to 'tf.compat.v1.get_variable'\n",
            "WARNING line 19:13: tf.get_variable requires manual check. tf.get_variable returns ResourceVariables by default in 2.0, which have well-defined semantics and are stricter about shapes. You can disable this behavior by passing use_resource=False, or by calling tf.compat.v1.disable_resource_variables().\n",
            "INFO line 19:13: Renamed 'tf.get_variable' to 'tf.compat.v1.get_variable'\n",
            "WARNING line 20:13: tf.get_variable requires manual check. tf.get_variable returns ResourceVariables by default in 2.0, which have well-defined semantics and are stricter about shapes. You can disable this behavior by passing use_resource=False, or by calling tf.compat.v1.disable_resource_variables().\n",
            "INFO line 20:13: Renamed 'tf.get_variable' to 'tf.compat.v1.get_variable'\n",
            "WARNING line 21:13: tf.get_variable requires manual check. tf.get_variable returns ResourceVariables by default in 2.0, which have well-defined semantics and are stricter about shapes. You can disable this behavior by passing use_resource=False, or by calling tf.compat.v1.disable_resource_variables().\n",
            "INFO line 21:13: Renamed 'tf.get_variable' to 'tf.compat.v1.get_variable'\n",
            "WARNING line 22:13: tf.get_variable requires manual check. tf.get_variable returns ResourceVariables by default in 2.0, which have well-defined semantics and are stricter about shapes. You can disable this behavior by passing use_resource=False, or by calling tf.compat.v1.disable_resource_variables().\n",
            "INFO line 22:13: Renamed 'tf.get_variable' to 'tf.compat.v1.get_variable'\n",
            "INFO line 24:12: Added keywords to args of function 'tf.pad'\n",
            "INFO line 25:12: Added keywords to args of function 'tf.nn.conv2d'\n",
            "INFO line 25:12: Renamed keyword argument for tf.nn.conv2d from filter to filters\n",
            "INFO line 28:12: Added keywords to args of function 'tf.pad'\n",
            "INFO line 29:12: Added keywords to args of function 'tf.nn.conv2d'\n",
            "INFO line 29:12: Renamed keyword argument for tf.nn.conv2d from filter to filters\n",
            "INFO line 32:12: Added keywords to args of function 'tf.transpose'\n",
            "INFO line 33:27: Added keywords to args of function 'tf.shape'\n",
            "TensorFlow 2.0 Upgrade Script\n",
            "-----------------------------\n",
            "Converted 1 files\n",
            "Detected 8 issues that require attention\n",
            "--------------------------------------------------------------------------------\n",
            "--------------------------------------------------------------------------------\n",
            "File: models/zico_mnist.py\n",
            "--------------------------------------------------------------------------------\n",
            "models/zico_mnist.py:15:13: WARNING: tf.get_variable requires manual check. tf.get_variable returns ResourceVariables by default in 2.0, which have well-defined semantics and are stricter about shapes. You can disable this behavior by passing use_resource=False, or by calling tf.compat.v1.disable_resource_variables().\n",
            "models/zico_mnist.py:16:13: WARNING: tf.get_variable requires manual check. tf.get_variable returns ResourceVariables by default in 2.0, which have well-defined semantics and are stricter about shapes. You can disable this behavior by passing use_resource=False, or by calling tf.compat.v1.disable_resource_variables().\n",
            "models/zico_mnist.py:17:13: WARNING: tf.get_variable requires manual check. tf.get_variable returns ResourceVariables by default in 2.0, which have well-defined semantics and are stricter about shapes. You can disable this behavior by passing use_resource=False, or by calling tf.compat.v1.disable_resource_variables().\n",
            "models/zico_mnist.py:18:13: WARNING: tf.get_variable requires manual check. tf.get_variable returns ResourceVariables by default in 2.0, which have well-defined semantics and are stricter about shapes. You can disable this behavior by passing use_resource=False, or by calling tf.compat.v1.disable_resource_variables().\n",
            "models/zico_mnist.py:19:13: WARNING: tf.get_variable requires manual check. tf.get_variable returns ResourceVariables by default in 2.0, which have well-defined semantics and are stricter about shapes. You can disable this behavior by passing use_resource=False, or by calling tf.compat.v1.disable_resource_variables().\n",
            "models/zico_mnist.py:20:13: WARNING: tf.get_variable requires manual check. tf.get_variable returns ResourceVariables by default in 2.0, which have well-defined semantics and are stricter about shapes. You can disable this behavior by passing use_resource=False, or by calling tf.compat.v1.disable_resource_variables().\n",
            "models/zico_mnist.py:21:13: WARNING: tf.get_variable requires manual check. tf.get_variable returns ResourceVariables by default in 2.0, which have well-defined semantics and are stricter about shapes. You can disable this behavior by passing use_resource=False, or by calling tf.compat.v1.disable_resource_variables().\n",
            "models/zico_mnist.py:22:13: WARNING: tf.get_variable requires manual check. tf.get_variable returns ResourceVariables by default in 2.0, which have well-defined semantics and are stricter about shapes. You can disable this behavior by passing use_resource=False, or by calling tf.compat.v1.disable_resource_variables().\n",
            "\n",
            "\n",
            "Make sure to read the detailed log 'report.txt'\n",
            "\n"
          ]
        }
      ],
      "source": [
        "!tf_upgrade_v2 --infile models/zico_mnist.py --outfile test_zico_v2.py"
      ]
    },
    {
      "cell_type": "code",
      "execution_count": 1,
      "metadata": {},
      "outputs": [
        {
          "name": "stdout",
          "output_type": "stream",
          "text": [
            "WARNING:tensorflow:From c:\\Users\\Hisku\\AppData\\Local\\Programs\\Python\\Python39\\lib\\site-packages\\tensorflow\\python\\compat\\v2_compat.py:111: disable_resource_variables (from tensorflow.python.ops.variable_scope) is deprecated and will be removed in a future version.\n",
            "Instructions for updating:\n",
            "non-resource variables are not supported in the long term\n"
          ]
        }
      ],
      "source": [
        "import tensorflow as tf\n",
        "tf.compat.v1.enable_eager_execution()\n",
        "tf.compat.v1.disable_v2_behavior()\n",
        "\n",
        "\n",
        "(x_train, y_train), (x_test, y_test) = tf.keras.datasets.mnist.load_data()\n"
      ]
    },
    {
      "cell_type": "code",
      "execution_count": 3,
      "metadata": {},
      "outputs": [],
      "source": [
        "# create train and test datasets\n",
        "train_ds = tf.data.Dataset.from_tensor_slices((x_train, y_train))\n",
        "\n",
        "test_ds = tf.data.Dataset.from_tensor_slices((x_test, y_test))"
      ]
    },
    {
      "cell_type": "code",
      "execution_count": 3,
      "metadata": {},
      "outputs": [
        {
          "name": "stdout",
          "output_type": "stream",
          "text": [
            "WARNING:tensorflow:From c:\\Users\\Hisku\\AppData\\Local\\Programs\\Python\\Python39\\lib\\site-packages\\tensorflow\\python\\training\\moving_averages.py:552: Variable.initialized_value (from tensorflow.python.ops.variables) is deprecated and will be removed in a future version.\n",
            "Instructions for updating:\n",
            "Use Variable.read_value. Variables in 2.X are initialized automatically both in eager and graph (inside tf.defun) contexts.\n",
            "WARNING:tensorflow:From c:\\Users\\Hisku\\AppData\\Local\\Programs\\Python\\Python39\\lib\\site-packages\\tensorflow\\python\\util\\tf_should_use.py:247: initialize_all_variables (from tensorflow.python.ops.variables) is deprecated and will be removed after 2017-03-02.\n",
            "Instructions for updating:\n",
            "Use `tf.global_variables_initializer` instead.\n",
            "After 0 training steps, loss on training  batch is 23073.7.\n"
          ]
        },
        {
          "ename": "",
          "evalue": "",
          "output_type": "error",
          "traceback": [
            "\u001b[1;31mCanceled future for execute_request message before replies were done"
          ]
        },
        {
          "ename": "",
          "evalue": "",
          "output_type": "error",
          "traceback": [
            "\u001b[1;31mThe Kernel crashed while executing code in the the current cell or a previous cell. Please review the code in the cell(s) to identify a possible cause of the failure. Click <a href='https://aka.ms/vscodeJupyterKernelCrash'>here</a> for more info. View Jupyter <a href='command:jupyter.viewOutput'>log</a> for further details."
          ]
        }
      ],
      "source": [
        "from __future__ import absolute_import\n",
        "from __future__ import division\n",
        "from __future__ import print_function\n",
        "import os\n",
        "# from tensorflow.examples.tutorials.mnist import input_data\n",
        "import numpy as np\n",
        "\n",
        "class ZicoMNIST():\n",
        "    def __init__(self):\n",
        "        self.batch_size = 100\n",
        "        self.learning_rate_base = 0.8\n",
        "        self.learning_rate_decay = 0.99\n",
        "        self.ragularatztion_rate = 0.0001\n",
        "        self.traning_steps = 30000\n",
        "        self.moving_average_decay = 0.99\n",
        "        self.model_save_path = \"./model_2\"\n",
        "        self.model_name = \"model.ckpt\"\n",
        "\n",
        "    @tf.function\n",
        "    def next_batch(self):\n",
        "        xs, ys = next(iter(train_ds.batch(self.batch_size)))\n",
        "        xs = tf.reshape(xs, [-1, 28, 28, 1])\n",
        "        ys = tf.one_hot(ys, depth=10)\n",
        "        return xs, ys\n",
        "\n",
        "    def  train(self):\n",
        "      with tf.compat.v1.variable_scope('net'):\n",
        "        W0 = tf.compat.v1.get_variable('W0', dtype=tf.float32, shape=(4, 4, 1, 16))\n",
        "        B0 = tf.compat.v1.get_variable('B0', dtype=tf.float32, shape=(16,))\n",
        "        W2 = tf.compat.v1.get_variable('W2', dtype=tf.float32, shape=(4, 4, 16, 32))\n",
        "        B2 = tf.compat.v1.get_variable('B2', dtype=tf.float32, shape=(32,))\n",
        "        W5 = tf.compat.v1.get_variable('W5', dtype=tf.float32, shape=(1568, 100))\n",
        "        B5 = tf.compat.v1.get_variable('B5', dtype=tf.float32, shape=(100,))\n",
        "        W7 = tf.compat.v1.get_variable('W7', dtype=tf.float32, shape=(100, 10))\n",
        "        B7 = tf.compat.v1.get_variable('B7', dtype=tf.float32, shape=(10,))\n",
        "        x = tf.compat.v1.placeholder(\n",
        "            tf.float32,[None,28,28,1], name='x-input')\n",
        "        y_ = tf.compat.v1.placeholder(\n",
        "            tf.float32,[None,10], name='y-input')\n",
        "        y = tf.pad(tensor=x, paddings=[[0, 0], [1, 1], [1, 1], [0, 0]])\n",
        "        y = tf.nn.conv2d(input=y, filters=W0, strides=[1, 2, 2, 1], padding='VALID')\n",
        "        y = tf.nn.bias_add(y, B0)\n",
        "        y = tf.nn.relu(y)\n",
        "        y = tf.pad(tensor=y, paddings=[[0, 0], [1, 1], [1, 1], [0, 0]])\n",
        "        y = tf.nn.conv2d(input=y, filters=W2, strides=[1, 2, 2, 1], padding=\"VALID\")\n",
        "        y = tf.nn.bias_add(y, B2)\n",
        "        y = tf.nn.relu(y)\n",
        "        y = tf.transpose(a=y, perm=[0, 3, 1, 2])\n",
        "        y = tf.reshape(y, [tf.shape(input=y)[0], -1])\n",
        "        y = tf.tensordot(y, W5 + B5, 1)\n",
        "        y = tf.nn.relu(y)\n",
        "        y = tf.tensordot(y, W7 + B7, 1)\n",
        "\n",
        "        global_step = tf.Variable(0, trainable=False)\n",
        "        variable_average = tf.train.ExponentialMovingAverage(\n",
        "            self.moving_average_decay, global_step)\n",
        "        variable_average_op = variable_average.apply(tf.compat.v1.trainable_variables())\n",
        "        cross_entropy = tf.nn.sparse_softmax_cross_entropy_with_logits(logits=y, labels=tf.argmax(input=y_, axis=1))\n",
        "        cross_entropy_mean = tf.reduce_mean(input_tensor=cross_entropy)\n",
        "        loss = cross_entropy_mean \n",
        "        learning_rate = tf.compat.v1.train.exponential_decay(\n",
        "            self.learning_rate_base,\n",
        "            global_step,\n",
        "            x_train.shape[0]/self.batch_size,\n",
        "            self.learning_rate_decay)\n",
        "        train_step = tf.compat.v1.train.GradientDescentOptimizer(learning_rate)\\\n",
        "                        .minimize(loss, global_step = global_step)\n",
        "        with tf.control_dependencies([train_step, variable_average_op]):\n",
        "            train_op = tf.no_op(name='train')\n",
        "\n",
        "        saver = tf.compat.v1.train.Saver()\n",
        "        with tf.compat.v1.Session() as sess:\n",
        "            tf.compat.v1.initialize_all_variables().run()\n",
        "\n",
        "            for i in range(self.traning_steps):\n",
        "                # xs, ys = mnist.train.next_batch(self.batch_size)\n",
        "                # get batch from train_ds.batch using batch_size tf2\n",
        "                xs, ys = self.next_batch()\n",
        "                _, loss_value, step  = sess.run([train_op, loss, global_step],\n",
        "                                                feed_dict={x: xs.eval(), y_: ys.eval()})\n",
        "                if i % 1000 ==0:\n",
        "                    print(\"After %d training steps, loss on training \"\n",
        "                        \" batch is %g.\"%(step, loss_value))\n",
        "                    saver.save(\n",
        "                        sess, os.path.join(self.model_save_path,self.model_name),\n",
        "                        global_step=global_step)\n",
        "                        \n",
        "# mnist = input_data.read_data_sets(\"./data/\", one_hot=True)\n",
        "zico = ZicoMNIST()\n",
        "zico.train()"
      ]
    },
    {
      "cell_type": "code",
      "execution_count": null,
      "metadata": {},
      "outputs": [],
      "source": [
        "def zico_template(images):\n",
        "    model = ZicoMNIST(images)\n",
        "    return model.logits"
      ]
    },
    {
      "cell_type": "code",
      "execution_count": null,
      "metadata": {},
      "outputs": [],
      "source": [
        "net = tf.make_template('net', zico_template)"
      ]
    },
    {
      "cell_type": "markdown",
      "metadata": {},
      "source": [
        "# TF 2 Rewrite of Zico MNIST [Attempt_2] (Includes test results)"
      ]
    },
    {
      "cell_type": "code",
      "execution_count": 1,
      "metadata": {},
      "outputs": [],
      "source": [
        "import tensorflow as tf\n",
        "\n",
        "(x_train, y_train), (x_test, y_test) = tf.keras.datasets.mnist.load_data()"
      ]
    },
    {
      "cell_type": "markdown",
      "metadata": {},
      "source": [
        "## Tests on Zico MNIST Trained on Clean Examples"
      ]
    },
    {
      "cell_type": "markdown",
      "metadata": {},
      "source": [
        "### Train model with Zico's Architecture"
      ]
    },
    {
      "cell_type": "code",
      "execution_count": 2,
      "metadata": {},
      "outputs": [],
      "source": [
        "# resize x_train and x_test\n",
        "x_train = x_train.reshape(-1, 28, 28, 1)\n",
        "x_test = x_test.reshape(-1, 28, 28, 1)"
      ]
    },
    {
      "cell_type": "code",
      "execution_count": 4,
      "metadata": {},
      "outputs": [
        {
          "name": "stdout",
          "output_type": "stream",
          "text": [
            "Epoch 1/10\n",
            "1875/1875 [==============================] - 17s 8ms/step - loss: 0.3058 - accuracy: 0.9499\n",
            "Epoch 2/10\n",
            "1875/1875 [==============================] - 15s 8ms/step - loss: 0.0674 - accuracy: 0.9804\n",
            "Epoch 3/10\n",
            "1875/1875 [==============================] - 16s 9ms/step - loss: 0.0546 - accuracy: 0.9838\n",
            "Epoch 4/10\n",
            "1875/1875 [==============================] - 17s 9ms/step - loss: 0.0430 - accuracy: 0.9871\n",
            "Epoch 5/10\n",
            "1875/1875 [==============================] - 17s 9ms/step - loss: 0.0394 - accuracy: 0.9890\n",
            "Epoch 6/10\n",
            "1875/1875 [==============================] - 16s 9ms/step - loss: 0.0332 - accuracy: 0.9908\n",
            "Epoch 7/10\n",
            "1875/1875 [==============================] - 16s 8ms/step - loss: 0.0294 - accuracy: 0.9923\n",
            "Epoch 8/10\n",
            "1875/1875 [==============================] - 16s 8ms/step - loss: 0.0265 - accuracy: 0.9932\n",
            "Epoch 9/10\n",
            "1875/1875 [==============================] - 16s 9ms/step - loss: 0.0310 - accuracy: 0.9933\n",
            "Epoch 10/10\n",
            "1875/1875 [==============================] - 16s 9ms/step - loss: 0.0264 - accuracy: 0.9948\n",
            "313/313 [==============================] - 2s 5ms/step - loss: 0.1868 - accuracy: 0.9803\n"
          ]
        },
        {
          "data": {
            "text/plain": [
              "[0.18679848313331604, 0.9803000092506409]"
            ]
          },
          "execution_count": 4,
          "metadata": {},
          "output_type": "execute_result"
        }
      ],
      "source": [
        "# sequential model with conv2d 16, padding valid, relu -> conv2d 32, padding valid, relu -> softmax\n",
        "model = tf.keras.Sequential([\n",
        "    tf.keras.layers.Conv2D(16, kernel_size=4, padding='valid', activation='relu', input_shape=(28, 28, 1)),\n",
        "    tf.keras.layers.Conv2D(32, kernel_size=4, padding='valid', activation='relu'),\n",
        "    tf.keras.layers.Flatten(),\n",
        "    tf.keras.layers.Dense(10, activation='softmax')\n",
        "])\n",
        "\n",
        "# train on mnist\n",
        "model.compile(optimizer='adam',\n",
        "                loss='sparse_categorical_crossentropy',\n",
        "                metrics=['accuracy'])\n",
        "model.fit(x_train, y_train, epochs=10)\n",
        "model.evaluate(x_test, y_test)\n"
      ]
    },
    {
      "cell_type": "code",
      "execution_count": 5,
      "metadata": {},
      "outputs": [],
      "source": [
        "# save mnist_zico\n",
        "model.save('assets/models/mnist_zico.h5')\n"
      ]
    },
    {
      "cell_type": "markdown",
      "metadata": {},
      "source": [
        "### Test Zico's Model against Clean Examples"
      ]
    },
    {
      "cell_type": "code",
      "execution_count": 27,
      "metadata": {},
      "outputs": [
        {
          "data": {
            "text/plain": [
              "[0.21455569696724378, 0.9771]"
            ]
          },
          "execution_count": 27,
          "metadata": {},
          "output_type": "execute_result"
        }
      ],
      "source": [
        "model.evaluate(x_test, y_test)"
      ]
    },
    {
      "cell_type": "markdown",
      "metadata": {},
      "source": [
        "### Test Zico's model against Unrestricted Adversarial Examples"
      ]
    },
    {
      "cell_type": "code",
      "execution_count": 9,
      "metadata": {},
      "outputs": [
        {
          "data": {
            "image/png": "[encoded data removed]",
            "text/plain": [
              "<Figure size 432x288 with 1 Axes>"
            ]
          },
          "metadata": {
            "needs_background": "light"
          },
          "output_type": "display_data"
        },
        {
          "name": "stdout",
          "output_type": "stream",
          "text": [
            "(94372, 28, 28, 1)\n",
            "(94372,)\n"
          ]
        }
      ],
      "source": [
        "import numpy as np \n",
        "import matplotlib.pyplot as plt\n",
        "\n",
        "# load mnist_adv dataset\n",
        "# adv_path = 'assets/data/mnist_adv/'\n",
        "adv_path = 'mnist_zico_defense_by_attack_with_z0/'\n",
        "adv_files = []\n",
        "X_adv = []\n",
        "y_adv = []\n",
        "\n",
        "# for loop to load all the images\n",
        "for source in range(10):\n",
        "    for target in range(10):\n",
        "        if(source != target):\n",
        "          file = np.load(adv_path + 'from' + str(source) + 'to' + str(target) + '.npz')\n",
        "          adv_files.append(file)\n",
        "          y_adv.extend(np.full(len(file['adv_imgs']), source).tolist())\n",
        "\n",
        "keys = adv_files[0].files\n",
        "\n",
        "for file in adv_files:\n",
        "  with file as data:\n",
        "      X_adv.extend(data[keys[0]])\n",
        "\n",
        "X_adv = np.array(X_adv)\n",
        "y_adv = np.array(y_adv)\n",
        "y_one_hot = np.take(np.eye(10), y_adv, axis=0)\n",
        "\n",
        "plt.imshow(X_adv[0], cmap='gray')\n",
        "plt.show()\n",
        "print(X_adv.shape)\n",
        "print(y_adv.shape)"
      ]
    },
    {
      "cell_type": "code",
      "execution_count": 10,
      "metadata": {},
      "outputs": [
        {
          "data": {
            "text/plain": [
              "[2.5970321695068814, 0.16358666]"
            ]
          },
          "execution_count": 10,
          "metadata": {},
          "output_type": "execute_result"
        }
      ],
      "source": [
        "model.evaluate(X_adv, y_adv)"
      ]
    },
    {
      "cell_type": "code",
      "execution_count": 11,
      "metadata": {},
      "outputs": [
        {
          "data": {
            "text/plain": [
              "[0.21455569696724378, 0.9771]"
            ]
          },
          "execution_count": 11,
          "metadata": {},
          "output_type": "execute_result"
        }
      ],
      "source": [
        "model.evaluate(x_test, y_test)"
      ]
    },
    {
      "cell_type": "markdown",
      "metadata": {},
      "source": [
        "## Tests on model_adv (trained on Unrestricted Adversarial Examples)"
      ]
    },
    {
      "cell_type": "markdown",
      "metadata": {},
      "source": [
        "### Test model_adv against Unrestricted Adversarial Examples"
      ]
    },
    {
      "cell_type": "code",
      "execution_count": 3,
      "metadata": {},
      "outputs": [],
      "source": [
        "# load model_adv\n",
        "model_adv = tf.keras.models.load_model('assets/models/mnist_adv_model.h5')"
      ]
    },
    {
      "cell_type": "code",
      "execution_count": 17,
      "metadata": {},
      "outputs": [
        {
          "name": "stderr",
          "output_type": "stream",
          "text": [
            "c:\\Users\\Hisku\\AppData\\Local\\Programs\\Python\\Python39\\lib\\site-packages\\keras\\engine\\training_v1.py:2057: UserWarning: `Model.state_updates` will be removed in a future version. This property should not be used in TensorFlow 2.0, as `updates` are applied automatically.\n",
            "  updates = self.state_updates\n"
          ]
        },
        {
          "data": {
            "text/plain": [
              "[0.002769992194468266, 0.9991947]"
            ]
          },
          "execution_count": 17,
          "metadata": {},
          "output_type": "execute_result"
        }
      ],
      "source": [
        "model_adv.evaluate(X_adv, y_adv)"
      ]
    },
    {
      "cell_type": "markdown",
      "metadata": {},
      "source": [
        "### Test model_adv against Clean Examples"
      ]
    },
    {
      "cell_type": "code",
      "execution_count": 25,
      "metadata": {},
      "outputs": [],
      "source": [
        "import tensorflow_datasets as tfds\n",
        "\n",
        "(ds_train, ds_test), ds_info = tfds.load(\n",
        "    'mnist',\n",
        "    split=['train', 'test'],\n",
        "    shuffle_files=True,\n",
        "    as_supervised=True,\n",
        "    with_info=True,\n",
        ")\n",
        "\n",
        "def normalize_img(image, label):\n",
        "  \"\"\"Normalizes images: `uint8` -> `float32`.\"\"\"\n",
        "  return tf.cast(image, tf.float32) / 255., label\n",
        "\n",
        "ds_test = ds_test.map(\n",
        "    normalize_img, num_parallel_calls=tf.data.AUTOTUNE)\n",
        "ds_test = ds_test.batch(128)\n",
        "ds_test = ds_test.cache()\n",
        "ds_test = ds_test.prefetch(tf.data.AUTOTUNE)"
      ]
    },
    {
      "cell_type": "code",
      "execution_count": 26,
      "metadata": {},
      "outputs": [
        {
          "data": {
            "text/plain": [
              "[0.056600362118267265, 0.9858]"
            ]
          },
          "execution_count": 26,
          "metadata": {},
          "output_type": "execute_result"
        }
      ],
      "source": [
        "model_adv.evaluate(ds_test)"
      ]
    },
    {
      "cell_type": "markdown",
      "metadata": {},
      "source": [
        "## Train Zico MNIST on Adversarial Examples"
      ]
    },
    {
      "cell_type": "markdown",
      "metadata": {},
      "source": [
        "### Import libraries and load dataset"
      ]
    },
    {
      "cell_type": "code",
      "execution_count": 4,
      "metadata": {},
      "outputs": [],
      "source": [
        "# Import the attack\n",
        "import tensorflow as tf\n",
        "import numpy as np\n",
        "import matplotlib.pyplot as plt"
      ]
    },
    {
      "cell_type": "markdown",
      "metadata": {},
      "source": [
        "### Generate FGSM for Zico MNIST"
      ]
    },
    {
      "cell_type": "code",
      "execution_count": 6,
      "metadata": {},
      "outputs": [],
      "source": [
        "from cleverhans.tf2.attacks.fast_gradient_method import fast_gradient_method\n",
        "\n",
        "#The attack requires the model to ouput the logits\n",
        "logits_model = tf.keras.Model(model.input,model.layers[-1].output)"
      ]
    },
    {
      "cell_type": "code",
      "execution_count": 7,
      "metadata": {},
      "outputs": [],
      "source": [
        "# load mnist\n",
        "mnist = tf.keras.datasets.mnist\n",
        "(train_images, train_labels), (test_images, test_labels) = mnist.load_data()\n",
        "\n",
        "train_images = train_images / 255.0\n",
        "test_images = test_images / 255.0\n",
        "\n",
        "num_classes = 10"
      ]
    },
    {
      "cell_type": "code",
      "execution_count": 8,
      "metadata": {},
      "outputs": [],
      "source": [
        "\n",
        "random_index = np.random.randint(test_images.shape[0])\n",
        "\n",
        "original_image = test_images[random_index]\n",
        "original_image = tf.convert_to_tensor(original_image.reshape((1,28,28))) #The .reshape just gives it the proper form to input into the model, a batch of 1 a.k.a a tensor\n",
        "\n",
        "original_label = test_labels[random_index]\n",
        "original_label = np.reshape(original_label, (1,)).astype('int64') # Give label proper shape and type for cleverhans"
      ]
    },
    {
      "cell_type": "code",
      "execution_count": 14,
      "metadata": {},
      "outputs": [
        {
          "name": "stdout",
          "output_type": "stream",
          "text": [
            "0.1\n",
            "0.2\n",
            "0.30000000000000004\n",
            "0.4\n",
            "0.5\n",
            "0.6\n",
            "0.7000000000000001\n",
            "0.8\n",
            "0.9\n",
            "1.0\n",
            "1.1\n",
            "1.2000000000000002\n",
            "1.3000000000000003\n",
            "1.4000000000000001\n",
            "[ 0  1  2  3  4  5  6  7  8  9 10 11 12 13]\n",
            "[ 0  1  2  3  4  5  6  7  8  9 10 11 12 13]\n"
          ]
        }
      ],
      "source": [
        "# calculate error rate for FGSM attack on both clean and adv model with varying epsilon values\n",
        "\n",
        "# iterate from 0.1 to 1.5 with 0.1 step size\n",
        "epsilon_values = np.arange(0.1, 1.5, 0.1)\n",
        "fgsm_images = []\n",
        "fgsm_labels = []\n",
        "model_adv_missclassifications = np.arange(0, len(epsilon_values))\n",
        "model_missclassifications = np.arange(0, len(epsilon_values))\n",
        "\n",
        "\n",
        "for index, epsilon in enumerate(epsilon_values):\n",
        "    print(epsilon)\n",
        "\n",
        "    # original image and original label\n",
        "\n",
        "    for i in range(test_images.shape[0]):\n",
        "\n",
        "        original_image = test_images[i]\n",
        "        original_image = tf.convert_to_tensor(original_image.reshape((1,28,28))) #The .reshape just gives it the proper form to input into the model, a batch of 1 a.k.a a tensor\n",
        "\n",
        "        original_label = test_labels[i]\n",
        "        original_label = np.reshape(original_label, (1,)).astype('int64') # Give label proper shape and type for cleverhans\n",
        "\n",
        "        adv_example_untargeted_label = fast_gradient_method(logits_model, original_image, epsilon, np.inf, targeted=False)\n",
        "\n",
        "        # adv_example_untargeted_label_pred = model.predict(adv_example_untargeted_label)\n",
        "        # adv_example_untargeted_label_pred_adv_model = model_adv.predict(adv_example_untargeted_label)\n",
        "        \n",
        "        # add fgsm image to list\n",
        "        fgsm_images.append(adv_example_untargeted_label)\n",
        "        fgsm_labels.append(original_label)\n",
        "\n",
        "        # if np.argmax(adv_example_untargeted_label_pred) != original_label[0]:\n",
        "        #     model_missclassifications[index] += 1\n",
        "        # if np.argmax(adv_example_untargeted_label_pred_adv_model) != original_label[0]:\n",
        "        #     model_adv_missclassifications[index] += 1\n",
        "        \n",
        "    \n",
        "print(model_missclassifications)\n",
        "print(model_adv_missclassifications)\n",
        "\n",
        "np.savez('fgsm_images_zico', images=fgsm_images, labels=fgsm_labels)"
      ]
    },
    {
      "cell_type": "markdown",
      "metadata": {},
      "source": [
        "### Generate PGD for Zico MNIST"
      ]
    },
    {
      "cell_type": "code",
      "execution_count": 16,
      "metadata": {},
      "outputs": [],
      "source": [
        "from cleverhans.tf2.attacks.projected_gradient_descent import projected_gradient_descent\n",
        "\n",
        "#The attack requires the model to ouput the logits\n",
        "logits_model = tf.keras.Model(model.input,model.layers[-1].output)"
      ]
    },
    {
      "cell_type": "code",
      "execution_count": 17,
      "metadata": {},
      "outputs": [
        {
          "name": "stdout",
          "output_type": "stream",
          "text": [
            "0.1\n",
            "0.2\n",
            "0.30000000000000004\n",
            "0.4\n",
            "0.5\n",
            "0.6\n",
            "0.7000000000000001\n",
            "0.8\n",
            "0.9\n",
            "1.0\n",
            "1.1\n",
            "1.2000000000000002\n",
            "1.3000000000000003\n",
            "1.4000000000000001\n",
            "[ 0  1  2  3  4  5  6  7  8  9 10 11 12 13]\n",
            "[ 0  1  2  3  4  5  6  7  8  9 10 11 12 13]\n"
          ]
        }
      ],
      "source": [
        "# calculate error rate for PGD attack on both clean and adv model with varying epsilon values\n",
        "\n",
        "# iterate from 0.1 to 1.5 with 0.1 step size\n",
        "epsilon_values = np.arange(0.1, 1.5, 0.1)\n",
        "pgd_images = []\n",
        "pgd_labels = []\n",
        "model_adv_missclassifications = np.arange(0, len(epsilon_values))\n",
        "model_missclassifications = np.arange(0, len(epsilon_values))\n",
        "\n",
        "for index, epsilon in enumerate(epsilon_values):\n",
        "    print(epsilon)\n",
        "\n",
        "    # original image and original label\n",
        "\n",
        "    for i in range(test_images.shape[0]):\n",
        "\n",
        "        original_image = test_images[i]\n",
        "        original_image = tf.convert_to_tensor(original_image.reshape((1,28,28)), dtype=tf.float32) #The .reshape just gives it the proper form to input into the model, a batch of 1 a.k.a a tensor\n",
        "\n",
        "        original_label = test_labels[i]\n",
        "        original_label = np.reshape(original_label, (1,)).astype('int64') # Give label proper shape and type for cleverhans\n",
        "\n",
        "        adv_example_untargeted_label = projected_gradient_descent(model_fn=logits_model, x=original_image, eps=epsilon, eps_iter=0.01, targeted=False, nb_iter=200, norm=2)\n",
        "\n",
        "        # adv_example_untargeted_label_pred = model.predict(adv_example_untargeted_label)\n",
        "        # adv_example_untargeted_label_pred_adv_model = model_adv.predict(adv_example_untargeted_label)\n",
        "        \n",
        "        # add pgd image to list\n",
        "        pgd_images.append(adv_example_untargeted_label)\n",
        "        pgd_labels.append(original_label)\n",
        "\n",
        "        # if np.argmax(adv_example_untargeted_label_pred) != original_label[0]:\n",
        "        #     model_missclassifications[index] += 1\n",
        "        # if np.argmax(adv_example_untargeted_label_pred_adv_model) != original_label[0]:\n",
        "        #     model_adv_missclassifications[index] += 1\n",
        "        \n",
        "    \n",
        "print(model_missclassifications)\n",
        "print(model_adv_missclassifications)\n",
        "\n",
        "np.savez('pgd_images_zico', images=pgd_images, labels=pgd_labels)\n"
      ]
    },
    {
      "cell_type": "markdown",
      "metadata": {},
      "source": [
        "### Test model_adv on Zico MNIST based FGSM and PGD adversarial examples"
      ]
    },
    {
      "cell_type": "code",
      "execution_count": 5,
      "metadata": {},
      "outputs": [
        {
          "name": "stdout",
          "output_type": "stream",
          "text": [
            "(140000, 28, 28, 1)\n",
            "(140000, 1)\n",
            "(140000, 28, 28, 1)\n",
            "(140000, 1)\n"
          ]
        }
      ],
      "source": [
        "# load fgsm and pgd images and labels\n",
        "# import fgsm and pgd adversarial sampels\n",
        "pgd_images_zico = np.load('pgd_images_zico.npz')['images']\n",
        "pgd_labels_zico = np.load('pgd_images_zico.npz')['labels']\n",
        "\n",
        "fgsm_images_zico = np.load('fgsm_images_zico.npz')['images']\n",
        "fgsm_labels_zico = np.load('fgsm_images_zico.npz')['labels']\n",
        "\n",
        "# reshape pgd and fgsm images to 28, 28, 1\n",
        "pgd_images_zico = np.reshape(pgd_images_zico, (len(pgd_images_zico), 28, 28, 1))\n",
        "fgsm_images_zico = np.reshape(fgsm_images_zico, (len(fgsm_images_zico), 28, 28, 1))\n",
        "\n",
        "print(pgd_images_zico.shape)\n",
        "print(pgd_labels_zico.shape)\n",
        "print(fgsm_images_zico.shape)\n",
        "print(fgsm_labels_zico.shape)"
      ]
    },
    {
      "cell_type": "code",
      "execution_count": 17,
      "metadata": {},
      "outputs": [
        {
          "data": {
            "image/png": "[encoded data removed]",
            "text/plain": [
              "<Figure size 432x288 with 1 Axes>"
            ]
          },
          "metadata": {
            "needs_background": "light"
          },
          "output_type": "display_data"
        },
        {
          "name": "stdout",
          "output_type": "stream",
          "text": [
            "[[    0     1     2     3     4     5     6     7     8     9]\n",
            " [13720 15890 14448 14140 13748 12488 13412 14392 13636 14126]]\n"
          ]
        }
      ],
      "source": [
        "plt.imshow(fgsm_images_zico[10000], cmap='gray')\n",
        "plt.show()\n",
        "\n",
        "# show the first 1000 unique labels and counts\n",
        "unique, counts = np.unique(fgsm_labels_zico, return_counts=True)\n",
        "print(np.asarray((unique, counts)))\n",
        "\n",
        "# take the first 1000 labels and images\n",
        "fgsm_images_zico = fgsm_images_zico[:1000]\n",
        "fgsm_labels_zico = fgsm_labels_zico[:1000]"
      ]
    },
    {
      "cell_type": "code",
      "execution_count": 6,
      "metadata": {},
      "outputs": [
        {
          "name": "stdout",
          "output_type": "stream",
          "text": [
            "4375/4375 [==============================] - 21s 4ms/step - loss: 0.0620 - sparse_categorical_accuracy: 0.9854\n"
          ]
        },
        {
          "data": {
            "text/plain": [
              "[0.061959680169820786, 0.9854142665863037]"
            ]
          },
          "execution_count": 6,
          "metadata": {},
          "output_type": "execute_result"
        }
      ],
      "source": [
        "model_adv.evaluate(pgd_images_zico, pgd_labels_zico)"
      ]
    },
    {
      "cell_type": "code",
      "execution_count": 18,
      "metadata": {},
      "outputs": [
        {
          "name": "stdout",
          "output_type": "stream",
          "text": [
            "32/32 [==============================] - 1s 21ms/step - loss: 0.1551 - sparse_categorical_accuracy: 0.9700\n"
          ]
        },
        {
          "data": {
            "text/plain": [
              "[0.15510913729667664, 0.9700000286102295]"
            ]
          },
          "execution_count": 18,
          "metadata": {},
          "output_type": "execute_result"
        }
      ],
      "source": [
        "model_adv.evaluate(fgsm_images_zico, fgsm_labels_zico)"
      ]
    },
    {
      "cell_type": "markdown",
      "metadata": {},
      "source": [
        "### Train Zico MNIST on Adversarial Examples"
      ]
    },
    {
      "cell_type": "code",
      "execution_count": null,
      "metadata": {},
      "outputs": [],
      "source": [
        "# sequential model with conv2d 16, padding valid, relu -> conv2d 32, padding valid, relu -> softmax\n",
        "model_madry = tf.keras.Sequential([\n",
        "    tf.keras.layers.Conv2D(16, kernel_size=4, padding='valid', activation='relu', input_shape=(28, 28, 1)),\n",
        "    tf.keras.layers.Conv2D(32, kernel_size=4, padding='valid', activation='relu'),\n",
        "    tf.keras.layers.Flatten(),\n",
        "    tf.keras.layers.Dense(10, activation='softmax')\n",
        "])"
      ]
    },
    {
      "cell_type": "code",
      "execution_count": null,
      "metadata": {},
      "outputs": [],
      "source": [
        "# train on mnist\n",
        "model_madry.compile(optimizer='adam',\n",
        "                loss='sparse_categorical_crossentropy',\n",
        "                metrics=['accuracy'])\n",
        "model_madry.fit(\n",
        "    x = fgsm_images_train,\n",
        "    y = fgsm_labels_train,\n",
        "    epochs=10\n",
        ")\n",
        "model_madry.evaluate(x_test, y_test)\n"
      ]
    }
  ],
  "metadata": {
    "colab": {
      "collapsed_sections": [],
      "name": "Untitled1.ipynb",
      "provenance": []
    },
    "kernelspec": {
      "display_name": "Python 3.9.0 64-bit",
      "language": "python",
      "name": "python3"
    },
    "language_info": {
      "codemirror_mode": {
        "name": "ipython",
        "version": 3
      },
      "file_extension": ".py",
      "mimetype": "text/x-python",
      "name": "python",
      "nbconvert_exporter": "python",
      "pygments_lexer": "ipython3",
      "version": "3.9.0"
    },
    "vscode": {
      "interpreter": {
        "hash": "4d32610e65d0ba547d20b5ddccd11b31c7d91644470808fb362c82b58c120951"
      }
    }
  },
  "nbformat": 4,
  "nbformat_minor": 0
}
