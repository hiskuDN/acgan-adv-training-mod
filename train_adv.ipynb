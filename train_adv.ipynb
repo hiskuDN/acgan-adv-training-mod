{
 "cells": [
  {
   "cell_type": "markdown",
   "metadata": {},
   "source": [
    "## Pre Adv Training"
   ]
  },
  {
   "cell_type": "code",
   "execution_count": 13,
   "metadata": {},
   "outputs": [],
   "source": [
    "import tensorflow as tf\n",
    "import tensorflow_datasets as tfds\n",
    "from matplotlib import pyplot as plt\n",
    "import numpy as np\n",
    "import os"
   ]
  },
  {
   "cell_type": "code",
   "execution_count": 14,
   "metadata": {},
   "outputs": [],
   "source": [
    "(ds_train, ds_test), ds_info = tfds.load(\n",
    "    'mnist',\n",
    "    split=['train', 'test'],\n",
    "    shuffle_files=True,\n",
    "    as_supervised=True,\n",
    "    with_info=True,\n",
    ")"
   ]
  },
  {
   "cell_type": "code",
   "execution_count": 15,
   "metadata": {},
   "outputs": [],
   "source": [
    "def normalize_img(image, label):\n",
    "  \"\"\"Normalizes images: `uint8` -> `float32`.\"\"\"\n",
    "  return tf.cast(image, tf.float32) / 255., label\n",
    "\n",
    "ds_train = ds_train.map(\n",
    "    normalize_img, num_parallel_calls=tf.data.AUTOTUNE)\n",
    "ds_train = ds_train.cache()\n",
    "ds_train = ds_train.shuffle(ds_info.splits['train'].num_examples)\n",
    "ds_train = ds_train.batch(128)\n",
    "ds_train = ds_train.prefetch(tf.data.AUTOTUNE)"
   ]
  },
  {
   "cell_type": "code",
   "execution_count": 16,
   "metadata": {},
   "outputs": [],
   "source": [
    "ds_test = ds_test.map(\n",
    "    normalize_img, num_parallel_calls=tf.data.AUTOTUNE)\n",
    "ds_test = ds_test.batch(128)\n",
    "ds_test = ds_test.cache()\n",
    "ds_test = ds_test.prefetch(tf.data.AUTOTUNE)"
   ]
  },
  {
   "cell_type": "code",
   "execution_count": 17,
   "metadata": {},
   "outputs": [],
   "source": [
    "# load mnist dataset\n",
    "ds_train_images = []\n",
    "ds_train_labels = []\n",
    "\n",
    "for images, labels in ds_train.unbatch():\n",
    "  ds_train_images.append(images)\n",
    "  ds_train_labels.append(labels)\n",
    "\n",
    "ds_train_images = np.array(ds_train_images)\n",
    "ds_train_labels = np.array(ds_train_labels)"
   ]
  },
  {
   "cell_type": "code",
   "execution_count": 18,
   "metadata": {},
   "outputs": [],
   "source": [
    "# load mnist dataset\n",
    "ds_test_images = []\n",
    "ds_test_labels = []\n",
    "\n",
    "for images, labels in ds_test.unbatch():\n",
    "  ds_test_images.append(images)\n",
    "  ds_test_labels.append(labels)\n",
    "\n",
    "ds_test_images = np.array(ds_test_images)\n",
    "ds_test_labels = np.array(ds_test_labels)"
   ]
  },
  {
   "cell_type": "markdown",
   "metadata": {},
   "source": [
    "## Adv Training v1"
   ]
  },
  {
   "cell_type": "code",
   "execution_count": 2,
   "metadata": {},
   "outputs": [
    {
     "data": {
      "image/png": "[encoded data removed]",
      "text/plain": [
       "<Figure size 432x288 with 1 Axes>"
      ]
     },
     "metadata": {
      "needs_background": "light"
     },
     "output_type": "display_data"
    },
    {
     "name": "stdout",
     "output_type": "stream",
     "text": [
      "(94372, 28, 28, 1)\n",
      "(94372,)\n"
     ]
    }
   ],
   "source": [
    "# load mnist_adv dataset\n",
    "# adv_path = 'assets/data/mnist_adv/'\n",
    "adv_path = 'mnist_zico_defense_by_attack_with_z0/'\n",
    "adv_files = []\n",
    "X = []\n",
    "y = []\n",
    "\n",
    "# for loop to load all the images\n",
    "for source in range(10):\n",
    "    for target in range(10):\n",
    "        if(source != target):\n",
    "          file = np.load(adv_path + 'from' + str(source) + 'to' + str(target) + '.npz')\n",
    "          adv_files.append(file)\n",
    "          y.extend(np.full(len(file['adv_imgs']), source).tolist())\n",
    "\n",
    "keys = adv_files[0].files\n",
    "\n",
    "for file in adv_files:\n",
    "  with file as data:\n",
    "      X.extend(data[keys[0]])\n",
    "\n",
    "X = np.array(X)\n",
    "y = np.array(y)\n",
    "y_one_hot = np.take(np.eye(10), y, axis=0)\n",
    "\n",
    "plt.imshow(X[0], cmap='gray')\n",
    "plt.show()\n",
    "print(X.shape)\n",
    "print(y.shape)"
   ]
  },
  {
   "cell_type": "code",
   "execution_count": 8,
   "metadata": {},
   "outputs": [
    {
     "data": {
      "text/plain": [
       "array([[1., 0., 0., ..., 0., 0., 0.],\n",
       "       [1., 0., 0., ..., 0., 0., 0.],\n",
       "       [1., 0., 0., ..., 0., 0., 0.],\n",
       "       ...,\n",
       "       [0., 0., 0., ..., 0., 0., 1.],\n",
       "       [0., 0., 0., ..., 0., 0., 1.],\n",
       "       [0., 0., 0., ..., 0., 0., 1.]])"
      ]
     },
     "execution_count": 8,
     "metadata": {},
     "output_type": "execute_result"
    }
   ],
   "source": [
    "y_one_hot"
   ]
  },
  {
   "cell_type": "code",
   "execution_count": 3,
   "metadata": {},
   "outputs": [],
   "source": [
    "# split X into 70-30 train-test\n",
    "from sklearn.model_selection import train_test_split\n",
    "\n",
    "X_train, X_test, y_train, y_test = train_test_split(X, y, test_size=0.3, random_state=42)"
   ]
  },
  {
   "cell_type": "code",
   "execution_count": 10,
   "metadata": {},
   "outputs": [
    {
     "data": {
      "text/plain": [
       "(66060, 28, 28, 1)"
      ]
     },
     "execution_count": 10,
     "metadata": {},
     "output_type": "execute_result"
    }
   ],
   "source": [
    "X_train.shape"
   ]
  },
  {
   "cell_type": "code",
   "execution_count": 11,
   "metadata": {},
   "outputs": [
    {
     "data": {
      "text/plain": [
       "(28312, 28, 28, 1)"
      ]
     },
     "execution_count": 11,
     "metadata": {},
     "output_type": "execute_result"
    }
   ],
   "source": [
    "X_test.shape"
   ]
  },
  {
   "cell_type": "code",
   "execution_count": 10,
   "metadata": {},
   "outputs": [
    {
     "name": "stdout",
     "output_type": "stream",
     "text": [
      "(66060, 28, 28, 1) (60000, 28, 28, 1)\n",
      "(126060, 28, 28, 1) (126060,)\n"
     ]
    }
   ],
   "source": [
    "print(X_train.shape, ds_train_images.shape)\n",
    "\n",
    "ds_train_adv_images = np.concatenate((ds_train_images, X_train), axis=0)\n",
    "ds_train_adv_labels = np.concatenate((ds_train_labels, y_train), axis=0)\n",
    "\n",
    "print(ds_train_adv_images.shape, ds_train_adv_labels.shape)\n"
   ]
  },
  {
   "cell_type": "code",
   "execution_count": 11,
   "metadata": {},
   "outputs": [
    {
     "name": "stdout",
     "output_type": "stream",
     "text": [
      "(28312, 28, 28, 1) (10000, 28, 28, 1)\n",
      "(38312, 28, 28, 1) (38312,)\n"
     ]
    }
   ],
   "source": [
    "print(X_test.shape, ds_test_images.shape)\n",
    "\n",
    "ds_test_adv_images = np.concatenate((ds_test_images, X_test), axis=0)\n",
    "ds_test_adv_labels = np.concatenate((ds_test_labels, y_test), axis=0)\n",
    "\n",
    "print(ds_test_adv_images.shape, ds_test_adv_labels.shape)\n"
   ]
  },
  {
   "cell_type": "markdown",
   "metadata": {},
   "source": [
    "### Training and Saving Model on ACGAN Images"
   ]
  },
  {
   "cell_type": "code",
   "execution_count": 20,
   "metadata": {},
   "outputs": [
    {
     "name": "stdout",
     "output_type": "stream",
     "text": [
      "Epoch 1/6\n",
      "3940/3940 [==============================] - 30s 8ms/step - loss: 0.0915 - sparse_categorical_accuracy: 0.9729\n",
      "Epoch 2/6\n",
      "3940/3940 [==============================] - 29s 7ms/step - loss: 0.0307 - sparse_categorical_accuracy: 0.9912\n",
      "Epoch 3/6\n",
      "3940/3940 [==============================] - 29s 7ms/step - loss: 0.0182 - sparse_categorical_accuracy: 0.9946\n",
      "Epoch 4/6\n",
      "3940/3940 [==============================] - 29s 7ms/step - loss: 0.0119 - sparse_categorical_accuracy: 0.9964\n",
      "Epoch 5/6\n",
      "3940/3940 [==============================] - 30s 8ms/step - loss: 0.0087 - sparse_categorical_accuracy: 0.9972\n",
      "Epoch 6/6\n",
      "3940/3940 [==============================] - 29s 7ms/step - loss: 0.0060 - sparse_categorical_accuracy: 0.9979\n"
     ]
    },
    {
     "data": {
      "text/plain": [
       "<keras.callbacks.History at 0x20a018cdd00>"
      ]
     },
     "execution_count": 20,
     "metadata": {},
     "output_type": "execute_result"
    }
   ],
   "source": [
    "# model_adv = tf.keras.models.Sequential([\n",
    "#   tf.keras.layers.Flatten(input_shape=(28, 28)),\n",
    "#   tf.keras.layers.Dense(128, activation='relu'),\n",
    "#   tf.keras.layers.Dense(10)\n",
    "# ])\n",
    "\n",
    "model_adv = tf.keras.models.Sequential([\n",
    "  tf.keras.layers.Conv2D(32, (3, 3), activation='relu', kernel_initializer='he_uniform', input_shape=(28, 28, 1)),\n",
    "  tf.keras.layers.MaxPooling2D((2, 2)),\n",
    "  tf.keras.layers.Flatten(),\n",
    "  tf.keras.layers.Dense(128, activation='relu'),\n",
    "  tf.keras.layers.Dense(10)\n",
    "])\n",
    "\n",
    "model_adv.compile(\n",
    "    optimizer=tf.keras.optimizers.Adam(0.001),\n",
    "    loss=tf.keras.losses.SparseCategoricalCrossentropy(from_logits=True),\n",
    "    metrics=[tf.keras.metrics.SparseCategoricalAccuracy()],\n",
    ")\n",
    "\n",
    "model_adv.fit(\n",
    "    x = ds_train_adv_images,\n",
    "    y = ds_train_adv_labels,\n",
    "    epochs=6,\n",
    "    shuffle=True\n",
    ")"
   ]
  },
  {
   "cell_type": "code",
   "execution_count": 13,
   "metadata": {},
   "outputs": [],
   "source": [
    "# save model_adv\n",
    "model_adv.save('assets/models/mnist_adv_model.h5')"
   ]
  },
  {
   "cell_type": "code",
   "execution_count": 14,
   "metadata": {},
   "outputs": [
    {
     "name": "stdout",
     "output_type": "stream",
     "text": [
      "Epoch 1/6\n",
      "469/469 [==============================] - 6s 12ms/step - loss: 0.1744 - sparse_categorical_accuracy: 0.9471 - val_loss: 0.0621 - val_sparse_categorical_accuracy: 0.9799\n",
      "Epoch 2/6\n",
      "469/469 [==============================] - 5s 11ms/step - loss: 0.0533 - sparse_categorical_accuracy: 0.9836 - val_loss: 0.0615 - val_sparse_categorical_accuracy: 0.9788\n",
      "Epoch 3/6\n",
      "469/469 [==============================] - 5s 11ms/step - loss: 0.0330 - sparse_categorical_accuracy: 0.9902 - val_loss: 0.0505 - val_sparse_categorical_accuracy: 0.9836\n",
      "Epoch 4/6\n",
      "469/469 [==============================] - 6s 12ms/step - loss: 0.0215 - sparse_categorical_accuracy: 0.9938 - val_loss: 0.0444 - val_sparse_categorical_accuracy: 0.9857\n",
      "Epoch 5/6\n",
      "469/469 [==============================] - 5s 11ms/step - loss: 0.0156 - sparse_categorical_accuracy: 0.9954 - val_loss: 0.0462 - val_sparse_categorical_accuracy: 0.9850\n",
      "Epoch 6/6\n",
      "469/469 [==============================] - 5s 12ms/step - loss: 0.0116 - sparse_categorical_accuracy: 0.9963 - val_loss: 0.0471 - val_sparse_categorical_accuracy: 0.9850\n"
     ]
    },
    {
     "data": {
      "text/plain": [
       "<keras.callbacks.History at 0x271c9e97520>"
      ]
     },
     "execution_count": 14,
     "metadata": {},
     "output_type": "execute_result"
    }
   ],
   "source": [
    "# model = tf.keras.models.Sequential([\n",
    "#   tf.keras.layers.Flatten(input_shape=(28, 28)),\n",
    "#   tf.keras.layers.Dense(128, activation='relu'),\n",
    "#   tf.keras.layers.Dense(10)\n",
    "# ])\n",
    "\n",
    "model = tf.keras.models.Sequential([\n",
    "  tf.keras.layers.Conv2D(32, (3, 3), activation='relu', kernel_initializer='he_uniform', input_shape=(28, 28, 1)),\n",
    "  tf.keras.layers.MaxPooling2D((2, 2)),\n",
    "  tf.keras.layers.Flatten(),\n",
    "  tf.keras.layers.Dense(128, activation='relu'),\n",
    "  tf.keras.layers.Dense(10)\n",
    "])\n",
    "\n",
    "\n",
    "model.compile(\n",
    "    optimizer=tf.keras.optimizers.Adam(0.001),\n",
    "    loss=tf.keras.losses.SparseCategoricalCrossentropy(from_logits=True),\n",
    "    metrics=[tf.keras.metrics.SparseCategoricalAccuracy()],\n",
    ")\n",
    "\n",
    "model.fit(\n",
    "    ds_train,\n",
    "    epochs=6,\n",
    "    validation_data=ds_test,\n",
    "    shuffle=True\n",
    ")"
   ]
  },
  {
   "cell_type": "code",
   "execution_count": 15,
   "metadata": {},
   "outputs": [],
   "source": [
    "# save model\n",
    "model.save('assets/models/mnist_model.h5')"
   ]
  },
  {
   "cell_type": "markdown",
   "metadata": {},
   "source": [
    "## Adv Training v2"
   ]
  },
  {
   "cell_type": "code",
   "execution_count": 12,
   "metadata": {},
   "outputs": [
    {
     "data": {
      "image/png": "[encoded data removed]",
      "text/plain": [
       "<Figure size 432x288 with 1 Axes>"
      ]
     },
     "metadata": {
      "needs_background": "light"
     },
     "output_type": "display_data"
    },
    {
     "name": "stdout",
     "output_type": "stream",
     "text": [
      "(94015, 28, 28, 1)\n",
      "(94015,)\n"
     ]
    }
   ],
   "source": [
    "# load mnist_adv dataset\n",
    "# adv_path = 'assets/data/mnist_adv/'\n",
    "adv_path = 'mnist_zico_defense_by_attack_with_z2/'\n",
    "adv_files = []\n",
    "X_2 = []\n",
    "y_2 = []\n",
    "\n",
    "# for loop to load all the images\n",
    "for source in range(10):\n",
    "    for target in range(10):\n",
    "        if(source != target):\n",
    "          file = np.load(adv_path + 'from' + str(source) + 'to' + str(target) + '.npz')\n",
    "          adv_files.append(file)\n",
    "          y_2.extend(np.full(len(file['adv_imgs']), source).tolist())\n",
    "\n",
    "keys = adv_files[0].files\n",
    "\n",
    "for file in adv_files:\n",
    "  with file as data:\n",
    "      X_2.extend(data[keys[0]])\n",
    "\n",
    "X_2 = np.array(X_2)\n",
    "y_2 = np.array(y_2)\n",
    "y_one_hot_2 = np.take(np.eye(10), y_2, axis=0)\n",
    "\n",
    "plt.imshow(X_2[0], cmap='gray')\n",
    "plt.show()\n",
    "print(X_2.shape)\n",
    "print(y_2.shape)"
   ]
  },
  {
   "cell_type": "code",
   "execution_count": 13,
   "metadata": {},
   "outputs": [],
   "source": [
    "# split X into 70-30 train-test\n",
    "from sklearn.model_selection import train_test_split\n",
    "\n",
    "X_train, X_test, y_train, y_test = train_test_split(X_2, y_2, test_size=0.3, random_state=42)"
   ]
  },
  {
   "cell_type": "code",
   "execution_count": 14,
   "metadata": {},
   "outputs": [
    {
     "data": {
      "text/plain": [
       "(65810, 28, 28, 1)"
      ]
     },
     "execution_count": 14,
     "metadata": {},
     "output_type": "execute_result"
    }
   ],
   "source": [
    "X_train.shape"
   ]
  },
  {
   "cell_type": "code",
   "execution_count": 15,
   "metadata": {},
   "outputs": [
    {
     "data": {
      "text/plain": [
       "(28205, 28, 28, 1)"
      ]
     },
     "execution_count": 15,
     "metadata": {},
     "output_type": "execute_result"
    }
   ],
   "source": [
    "X_test.shape"
   ]
  },
  {
   "cell_type": "code",
   "execution_count": 16,
   "metadata": {},
   "outputs": [
    {
     "name": "stdout",
     "output_type": "stream",
     "text": [
      "(65810, 28, 28, 1) (60000, 28, 28, 1)\n",
      "(125810, 28, 28, 1) (125810,)\n"
     ]
    }
   ],
   "source": [
    "print(X_train.shape, ds_train_images.shape)\n",
    "\n",
    "ds_train_adv_images = np.concatenate((ds_train_images, X_train), axis=0)\n",
    "ds_train_adv_labels = np.concatenate((ds_train_labels, y_train), axis=0)\n",
    "\n",
    "print(ds_train_adv_images.shape, ds_train_adv_labels.shape)\n"
   ]
  },
  {
   "cell_type": "code",
   "execution_count": 17,
   "metadata": {},
   "outputs": [
    {
     "name": "stdout",
     "output_type": "stream",
     "text": [
      "(28205, 28, 28, 1) (10000, 28, 28, 1)\n",
      "(38205, 28, 28, 1) (38205,)\n"
     ]
    }
   ],
   "source": [
    "print(X_test.shape, ds_test_images.shape)\n",
    "\n",
    "ds_test_adv_images = np.concatenate((ds_test_images, X_test), axis=0)\n",
    "ds_test_adv_labels = np.concatenate((ds_test_labels, y_test), axis=0)\n",
    "\n",
    "print(ds_test_adv_images.shape, ds_test_adv_labels.shape)\n"
   ]
  },
  {
   "cell_type": "code",
   "execution_count": 18,
   "metadata": {},
   "outputs": [
    {
     "name": "stdout",
     "output_type": "stream",
     "text": [
      "Epoch 1/6\n",
      "3932/3932 [==============================] - 117s 27ms/step - loss: 0.1904 - sparse_categorical_accuracy: 0.9385\n",
      "Epoch 2/6\n",
      "3932/3932 [==============================] - 47s 12ms/step - loss: 0.0767 - sparse_categorical_accuracy: 0.9760\n",
      "Epoch 3/6\n",
      "3932/3932 [==============================] - 26s 7ms/step - loss: 0.0503 - sparse_categorical_accuracy: 0.9839\n",
      "Epoch 4/6\n",
      "3932/3932 [==============================] - 26s 7ms/step - loss: 0.0342 - sparse_categorical_accuracy: 0.9885\n",
      "Epoch 5/6\n",
      "3932/3932 [==============================] - 26s 7ms/step - loss: 0.0248 - sparse_categorical_accuracy: 0.9913: 0s - loss: 0.0248 - sparse_categorical_acc\n",
      "Epoch 6/6\n",
      "3932/3932 [==============================] - 26s 7ms/step - loss: 0.0185 - sparse_categorical_accuracy: 0.9937: 1s - loss: 0.0185 - sparse_categ\n"
     ]
    },
    {
     "data": {
      "text/plain": [
       "<keras.callbacks.History at 0x222fea28f70>"
      ]
     },
     "execution_count": 18,
     "metadata": {},
     "output_type": "execute_result"
    }
   ],
   "source": [
    "# model_adv = tf.keras.models.Sequential([\n",
    "#   tf.keras.layers.Flatten(input_shape=(28, 28)),\n",
    "#   tf.keras.layers.Dense(128, activation='relu'),\n",
    "#   tf.keras.layers.Dense(10)\n",
    "# ])\n",
    "\n",
    "model_adv_v2 = tf.keras.models.Sequential([\n",
    "  tf.keras.layers.Conv2D(32, (3, 3), activation='relu', kernel_initializer='he_uniform', input_shape=(28, 28, 1)),\n",
    "  tf.keras.layers.MaxPooling2D((2, 2)),\n",
    "  tf.keras.layers.Flatten(),\n",
    "  tf.keras.layers.Dense(128, activation='relu'),\n",
    "  tf.keras.layers.Dense(10)\n",
    "])\n",
    "\n",
    "model_adv_v2.compile(\n",
    "    optimizer=tf.keras.optimizers.Adam(0.001),\n",
    "    loss=tf.keras.losses.SparseCategoricalCrossentropy(from_logits=True),\n",
    "    metrics=[tf.keras.metrics.SparseCategoricalAccuracy()],\n",
    ")\n",
    "\n",
    "model_adv_v2.fit(\n",
    "    x = ds_train_adv_images,\n",
    "    y = ds_train_adv_labels,\n",
    "    epochs=6,\n",
    "    shuffle=True\n",
    ")"
   ]
  },
  {
   "cell_type": "code",
   "execution_count": 19,
   "metadata": {},
   "outputs": [],
   "source": [
    "# save model_adv\n",
    "model_adv_v2.save('assets/models/mnist_adv_model_v2.h5')"
   ]
  },
  {
   "cell_type": "markdown",
   "metadata": {},
   "source": [
    "## Adv Training v3"
   ]
  },
  {
   "cell_type": "code",
   "execution_count": 6,
   "metadata": {},
   "outputs": [
    {
     "data": {
      "image/png": "[encoded data removed]",
      "text/plain": [
       "<Figure size 432x288 with 1 Axes>"
      ]
     },
     "metadata": {
      "needs_background": "light"
     },
     "output_type": "display_data"
    },
    {
     "name": "stdout",
     "output_type": "stream",
     "text": [
      "(11472, 28, 28, 1)\n",
      "(11472,)\n"
     ]
    }
   ],
   "source": [
    "# load mnist_adv dataset\n",
    "# adv_path = 'assets/data/mnist_adv/'\n",
    "adv_path = 'mnist_zico_defense_by_attack_with_z3/'\n",
    "adv_files = []\n",
    "X_3 = []\n",
    "y_3 = []\n",
    "\n",
    "# for loop to load all the images\n",
    "for source in range(10):\n",
    "    for target in range(10):\n",
    "        if(source != target):\n",
    "          file = np.load(adv_path + 'from' + str(source) + 'to' + str(target) + '.npz')\n",
    "          adv_files.append(file)\n",
    "          y_3.extend(np.full(len(file['adv_imgs']), source).tolist())\n",
    "\n",
    "keys = adv_files[0].files\n",
    "\n",
    "for file in adv_files:\n",
    "  with file as data:\n",
    "      X_3.extend(data[keys[0]])\n",
    "\n",
    "X_3 = np.array(X_3)\n",
    "y_3 = np.array(y_3)\n",
    "y_one_hot_2 = np.take(np.eye(10), y_3, axis=0)\n",
    "\n",
    "plt.imshow(X_3[0], cmap='gray')\n",
    "plt.show()\n",
    "print(X_3.shape)\n",
    "print(y_3.shape)"
   ]
  },
  {
   "cell_type": "code",
   "execution_count": 7,
   "metadata": {},
   "outputs": [],
   "source": [
    "# split X into 70-30 train-test\n",
    "from sklearn.model_selection import train_test_split\n",
    "\n",
    "X_train, X_test, y_train, y_test = train_test_split(X_3, y_3, test_size=0.3, random_state=42)"
   ]
  },
  {
   "cell_type": "code",
   "execution_count": 14,
   "metadata": {},
   "outputs": [
    {
     "name": "stdout",
     "output_type": "stream",
     "text": [
      "(8030, 28, 28, 1) (60000, 28, 28, 1)\n",
      "(68030, 28, 28, 1) (68030,)\n"
     ]
    }
   ],
   "source": [
    "print(X_train.shape, ds_train_images.shape)\n",
    "\n",
    "ds_train_adv_images = np.concatenate((ds_train_images, X_train), axis=0)\n",
    "ds_train_adv_labels = np.concatenate((ds_train_labels, y_train), axis=0)\n",
    "\n",
    "print(ds_train_adv_images.shape, ds_train_adv_labels.shape)\n"
   ]
  },
  {
   "cell_type": "code",
   "execution_count": 15,
   "metadata": {},
   "outputs": [
    {
     "name": "stdout",
     "output_type": "stream",
     "text": [
      "(3442, 28, 28, 1) (10000, 28, 28, 1)\n",
      "(13442, 28, 28, 1) (13442,)\n"
     ]
    }
   ],
   "source": [
    "print(X_test.shape, ds_test_images.shape)\n",
    "\n",
    "ds_test_adv_images = np.concatenate((ds_test_images, X_test), axis=0)\n",
    "ds_test_adv_labels = np.concatenate((ds_test_labels, y_test), axis=0)\n",
    "\n",
    "print(ds_test_adv_images.shape, ds_test_adv_labels.shape)\n"
   ]
  },
  {
   "cell_type": "code",
   "execution_count": 16,
   "metadata": {},
   "outputs": [
    {
     "name": "stdout",
     "output_type": "stream",
     "text": [
      "Epoch 1/6\n",
      "2126/2126 [==============================] - 57s 26ms/step - loss: 0.1428 - sparse_categorical_accuracy: 0.9570\n",
      "Epoch 2/6\n",
      "2126/2126 [==============================] - 53s 25ms/step - loss: 0.0485 - sparse_categorical_accuracy: 0.9853\n",
      "Epoch 3/6\n",
      "2126/2126 [==============================] - 51s 24ms/step - loss: 0.0307 - sparse_categorical_accuracy: 0.9908\n",
      "Epoch 4/6\n",
      "2126/2126 [==============================] - 41s 19ms/step - loss: 0.0199 - sparse_categorical_accuracy: 0.9937\n",
      "Epoch 5/6\n",
      "2126/2126 [==============================] - 14s 7ms/step - loss: 0.0135 - sparse_categorical_accuracy: 0.9956\n",
      "Epoch 6/6\n",
      "2126/2126 [==============================] - 14s 7ms/step - loss: 0.0109 - sparse_categorical_accuracy: 0.9963: 2s - loss: 0.\n"
     ]
    },
    {
     "data": {
      "text/plain": [
       "<keras.callbacks.History at 0x1c645ad0610>"
      ]
     },
     "execution_count": 16,
     "metadata": {},
     "output_type": "execute_result"
    }
   ],
   "source": [
    "# model_adv = tf.keras.models.Sequential([\n",
    "#   tf.keras.layers.Flatten(input_shape=(28, 28)),\n",
    "#   tf.keras.layers.Dense(128, activation='relu'),\n",
    "#   tf.keras.layers.Dense(10)\n",
    "# ])\n",
    "\n",
    "model_adv_v3 = tf.keras.models.Sequential([\n",
    "  tf.keras.layers.Conv2D(32, (3, 3), activation='relu', kernel_initializer='he_uniform', input_shape=(28, 28, 1)),\n",
    "  tf.keras.layers.MaxPooling2D((2, 2)),\n",
    "  tf.keras.layers.Flatten(),\n",
    "  tf.keras.layers.Dense(128, activation='relu'),\n",
    "  tf.keras.layers.Dense(10)\n",
    "])\n",
    "\n",
    "model_adv_v3.compile(\n",
    "    optimizer=tf.keras.optimizers.Adam(0.001),\n",
    "    loss=tf.keras.losses.SparseCategoricalCrossentropy(from_logits=True),\n",
    "    metrics=[tf.keras.metrics.SparseCategoricalAccuracy()],\n",
    ")\n",
    "\n",
    "model_adv_v3.fit(\n",
    "    x = ds_train_adv_images,\n",
    "    y = ds_train_adv_labels,\n",
    "    epochs=6,\n",
    "    shuffle=True\n",
    ")"
   ]
  },
  {
   "cell_type": "code",
   "execution_count": 17,
   "metadata": {},
   "outputs": [],
   "source": [
    "# save model_adv\n",
    "model_adv_v3.save('assets/models/mnist_adv_model_v3.h5')"
   ]
  },
  {
   "cell_type": "markdown",
   "metadata": {},
   "source": [
    "## Adv Training v3 boosted"
   ]
  },
  {
   "cell_type": "code",
   "execution_count": 7,
   "metadata": {},
   "outputs": [
    {
     "data": {
      "image/png": "[encoded data removed]",
      "text/plain": [
       "<Figure size 432x288 with 1 Axes>"
      ]
     },
     "metadata": {
      "needs_background": "light"
     },
     "output_type": "display_data"
    },
    {
     "name": "stdout",
     "output_type": "stream",
     "text": [
      "(95442, 28, 28, 1)\n",
      "(95442,)\n"
     ]
    }
   ],
   "source": [
    "# load mnist_adv dataset\n",
    "# adv_path = 'assets/data/mnist_adv/'\n",
    "adv_path = 'mnist_zico_defense_by_attack_with_z4/'\n",
    "adv_files = []\n",
    "X_4 = []\n",
    "y_4 = []\n",
    "\n",
    "# for loop to load all the images\n",
    "for source in range(10):\n",
    "    for target in range(10):\n",
    "        if(source != target):\n",
    "          file = np.load(adv_path + 'from' + str(source) + 'to' + str(target) + '.npz')\n",
    "          adv_files.append(file)\n",
    "          y_4.extend(np.full(len(file['adv_imgs']), source).tolist())\n",
    "\n",
    "keys = adv_files[0].files\n",
    "\n",
    "for file in adv_files:\n",
    "  with file as data:\n",
    "      X_4.extend(data[keys[0]])\n",
    "\n",
    "X_4 = np.array(X_4)\n",
    "y_4 = np.array(y_4)\n",
    "y_one_hot_2 = np.take(np.eye(10), y_4, axis=0)\n",
    "\n",
    "plt.imshow(X_4[0], cmap='gray')\n",
    "plt.show()\n",
    "print(X_4.shape)\n",
    "print(y_4.shape)"
   ]
  },
  {
   "cell_type": "code",
   "execution_count": 8,
   "metadata": {},
   "outputs": [],
   "source": [
    "# split X into 70-30 train-test\n",
    "from sklearn.model_selection import train_test_split\n",
    "\n",
    "X_train, X_test, y_train, y_test = train_test_split(X_4, y_4, test_size=0.3, random_state=42)"
   ]
  },
  {
   "cell_type": "code",
   "execution_count": 9,
   "metadata": {},
   "outputs": [
    {
     "name": "stdout",
     "output_type": "stream",
     "text": [
      "(66809, 28, 28, 1) (60000, 28, 28, 1)\n",
      "(126809, 28, 28, 1) (126809,)\n"
     ]
    }
   ],
   "source": [
    "print(X_train.shape, ds_train_images.shape)\n",
    "\n",
    "ds_train_adv_images = np.concatenate((ds_train_images, X_train), axis=0)\n",
    "ds_train_adv_labels = np.concatenate((ds_train_labels, y_train), axis=0)\n",
    "\n",
    "print(ds_train_adv_images.shape, ds_train_adv_labels.shape)\n"
   ]
  },
  {
   "cell_type": "code",
   "execution_count": 10,
   "metadata": {},
   "outputs": [
    {
     "name": "stdout",
     "output_type": "stream",
     "text": [
      "(28633, 28, 28, 1) (10000, 28, 28, 1)\n",
      "(38633, 28, 28, 1) (38633,)\n"
     ]
    }
   ],
   "source": [
    "print(X_test.shape, ds_test_images.shape)\n",
    "\n",
    "ds_test_adv_images = np.concatenate((ds_test_images, X_test), axis=0)\n",
    "ds_test_adv_labels = np.concatenate((ds_test_labels, y_test), axis=0)\n",
    "\n",
    "print(ds_test_adv_images.shape, ds_test_adv_labels.shape)\n"
   ]
  },
  {
   "cell_type": "code",
   "execution_count": 11,
   "metadata": {},
   "outputs": [
    {
     "name": "stdout",
     "output_type": "stream",
     "text": [
      "Epoch 1/6\n",
      "3963/3963 [==============================] - 119s 28ms/step - loss: 0.1041 - sparse_categorical_accuracy: 0.9700\n",
      "Epoch 2/6\n",
      "3963/3963 [==============================] - 102s 26ms/step - loss: 0.0323 - sparse_categorical_accuracy: 0.9911\n",
      "Epoch 3/6\n",
      "3963/3963 [==============================] - 100s 25ms/step - loss: 0.0209 - sparse_categorical_accuracy: 0.9937\n",
      "Epoch 4/6\n",
      "3963/3963 [==============================] - 100s 25ms/step - loss: 0.0143 - sparse_categorical_accuracy: 0.9955\n",
      "Epoch 5/6\n",
      "3963/3963 [==============================] - 91s 23ms/step - loss: 0.0098 - sparse_categorical_accuracy: 0.9969 0s - loss: 0.0098 - sparse_categorical_accuracy: 0.996\n",
      "Epoch 6/6\n",
      "3963/3963 [==============================] - 100s 25ms/step - loss: 0.0073 - sparse_categorical_accuracy: 0.9976\n"
     ]
    },
    {
     "data": {
      "text/plain": [
       "<keras.callbacks.History at 0x25bc63969d0>"
      ]
     },
     "execution_count": 11,
     "metadata": {},
     "output_type": "execute_result"
    }
   ],
   "source": [
    "# model_adv = tf.keras.models.Sequential([\n",
    "#   tf.keras.layers.Flatten(input_shape=(28, 28)),\n",
    "#   tf.keras.layers.Dense(128, activation='relu'),\n",
    "#   tf.keras.layers.Dense(10)\n",
    "# ])\n",
    "\n",
    "model_adv_v3_2 = tf.keras.models.Sequential([\n",
    "  tf.keras.layers.Conv2D(32, (3, 3), activation='relu', kernel_initializer='he_uniform', input_shape=(28, 28, 1)),\n",
    "  tf.keras.layers.MaxPooling2D((2, 2)),\n",
    "  tf.keras.layers.Flatten(),\n",
    "  tf.keras.layers.Dense(128, activation='relu'),\n",
    "  tf.keras.layers.Dense(10)\n",
    "])\n",
    "\n",
    "model_adv_v3_2.compile(\n",
    "    optimizer=tf.keras.optimizers.Adam(0.001),\n",
    "    loss=tf.keras.losses.SparseCategoricalCrossentropy(from_logits=True),\n",
    "    metrics=[tf.keras.metrics.SparseCategoricalAccuracy()],\n",
    ")\n",
    "\n",
    "model_adv_v3_2.fit(\n",
    "    x = ds_train_adv_images,\n",
    "    y = ds_train_adv_labels,\n",
    "    epochs=6,\n",
    "    shuffle=True\n",
    ")"
   ]
  },
  {
   "cell_type": "code",
   "execution_count": 12,
   "metadata": {},
   "outputs": [],
   "source": [
    "# save model_adv\n",
    "model_adv_v3_2.save('assets/models/mnist_adv_model_v3_2.h5')"
   ]
  },
  {
   "cell_type": "markdown",
   "metadata": {},
   "source": [
    "## Adv Training v4"
   ]
  },
  {
   "cell_type": "code",
   "execution_count": 19,
   "metadata": {},
   "outputs": [
    {
     "data": {
      "image/png": "[encoded data removed]",
      "text/plain": [
       "<Figure size 432x288 with 1 Axes>"
      ]
     },
     "metadata": {
      "needs_background": "light"
     },
     "output_type": "display_data"
    },
    {
     "name": "stdout",
     "output_type": "stream",
     "text": [
      "(11416, 28, 28, 1)\n",
      "(11416,)\n"
     ]
    }
   ],
   "source": [
    "# load mnist_adv dataset\n",
    "# adv_path = 'assets/data/mnist_adv/'\n",
    "adv_path = 'mnist_zico_defense_by_attack_with_z5/'\n",
    "adv_files = []\n",
    "X_5 = []\n",
    "y_5 = []\n",
    "\n",
    "# for loop to load all the images\n",
    "for source in range(10):\n",
    "    for target in range(10):\n",
    "        if(source != target):\n",
    "          file = np.load(adv_path + 'from' + str(source) + 'to' + str(target) + '.npz')\n",
    "          adv_files.append(file)\n",
    "          y_5.extend(np.full(len(file['adv_imgs']), source).tolist())\n",
    "\n",
    "keys = adv_files[0].files\n",
    "\n",
    "for file in adv_files:\n",
    "  with file as data:\n",
    "      X_5.extend(data[keys[0]])\n",
    "\n",
    "X_5 = np.array(X_5)\n",
    "y_5 = np.array(y_5)\n",
    "y_one_hot_2 = np.take(np.eye(10), y_5, axis=0)\n",
    "\n",
    "plt.imshow(X_5[0], cmap='gray')\n",
    "plt.show()\n",
    "print(X_5.shape)\n",
    "print(y_5.shape)"
   ]
  },
  {
   "cell_type": "code",
   "execution_count": 20,
   "metadata": {},
   "outputs": [],
   "source": [
    "# split X into 70-30 train-test\n",
    "from sklearn.model_selection import train_test_split\n",
    "\n",
    "X_train, X_test, y_train, y_test = train_test_split(X_4, y_4, test_size=0.3, random_state=42)"
   ]
  },
  {
   "cell_type": "code",
   "execution_count": 21,
   "metadata": {},
   "outputs": [
    {
     "name": "stdout",
     "output_type": "stream",
     "text": [
      "(66809, 28, 28, 1) (60000, 28, 28, 1)\n",
      "(126809, 28, 28, 1) (126809,)\n"
     ]
    }
   ],
   "source": [
    "print(X_train.shape, ds_train_images.shape)\n",
    "\n",
    "ds_train_adv_images = np.concatenate((ds_train_images, X_train), axis=0)\n",
    "ds_train_adv_labels = np.concatenate((ds_train_labels, y_train), axis=0)\n",
    "\n",
    "print(ds_train_adv_images.shape, ds_train_adv_labels.shape)\n"
   ]
  },
  {
   "cell_type": "code",
   "execution_count": 22,
   "metadata": {},
   "outputs": [
    {
     "name": "stdout",
     "output_type": "stream",
     "text": [
      "(28633, 28, 28, 1) (10000, 28, 28, 1)\n",
      "(38633, 28, 28, 1) (38633,)\n"
     ]
    }
   ],
   "source": [
    "print(X_test.shape, ds_test_images.shape)\n",
    "\n",
    "ds_test_adv_images = np.concatenate((ds_test_images, X_test), axis=0)\n",
    "ds_test_adv_labels = np.concatenate((ds_test_labels, y_test), axis=0)\n",
    "\n",
    "print(ds_test_adv_images.shape, ds_test_adv_labels.shape)\n"
   ]
  },
  {
   "cell_type": "code",
   "execution_count": 23,
   "metadata": {},
   "outputs": [
    {
     "name": "stdout",
     "output_type": "stream",
     "text": [
      "Epoch 1/6\n",
      "3963/3963 [==============================] - 86s 21ms/step - loss: 0.0946 - sparse_categorical_accuracy: 0.9717\n",
      "Epoch 2/6\n",
      "3963/3963 [==============================] - 27s 7ms/step - loss: 0.0310 - sparse_categorical_accuracy: 0.9910\n",
      "Epoch 3/6\n",
      "3963/3963 [==============================] - 27s 7ms/step - loss: 0.0186 - sparse_categorical_accuracy: 0.9946\n",
      "Epoch 4/6\n",
      "3963/3963 [==============================] - 27s 7ms/step - loss: 0.0116 - sparse_categorical_accuracy: 0.9963\n",
      "Epoch 5/6\n",
      "3963/3963 [==============================] - 27s 7ms/step - loss: 0.0090 - sparse_categorical_accuracy: 0.9972\n",
      "Epoch 6/6\n",
      "3963/3963 [==============================] - 27s 7ms/step - loss: 0.0065 - sparse_categorical_accuracy: 0.9979\n"
     ]
    },
    {
     "data": {
      "text/plain": [
       "<keras.callbacks.History at 0x25ba8b68d30>"
      ]
     },
     "execution_count": 23,
     "metadata": {},
     "output_type": "execute_result"
    }
   ],
   "source": [
    "# model_adv = tf.keras.models.Sequential([\n",
    "#   tf.keras.layers.Flatten(input_shape=(28, 28)),\n",
    "#   tf.keras.layers.Dense(128, activation='relu'),\n",
    "#   tf.keras.layers.Dense(10)\n",
    "# ])\n",
    "\n",
    "model_adv_v4 = tf.keras.models.Sequential([\n",
    "  tf.keras.layers.Conv2D(32, (3, 3), activation='relu', kernel_initializer='he_uniform', input_shape=(28, 28, 1)),\n",
    "  tf.keras.layers.MaxPooling2D((2, 2)),\n",
    "  tf.keras.layers.Flatten(),\n",
    "  tf.keras.layers.Dense(128, activation='relu'),\n",
    "  tf.keras.layers.Dense(10)\n",
    "])\n",
    "\n",
    "model_adv_v4.compile(\n",
    "    optimizer=tf.keras.optimizers.Adam(0.001),\n",
    "    loss=tf.keras.losses.SparseCategoricalCrossentropy(from_logits=True),\n",
    "    metrics=[tf.keras.metrics.SparseCategoricalAccuracy()],\n",
    ")\n",
    "\n",
    "model_adv_v4.fit(\n",
    "    x = ds_train_adv_images,\n",
    "    y = ds_train_adv_labels,\n",
    "    epochs=6,\n",
    "    shuffle=True\n",
    ")"
   ]
  },
  {
   "cell_type": "code",
   "execution_count": 24,
   "metadata": {},
   "outputs": [],
   "source": [
    "# save model_adv\n",
    "model_adv_v4.save('assets/models/mnist_adv_model_v4.h5')"
   ]
  },
  {
   "cell_type": "markdown",
   "metadata": {},
   "source": [
    "## Load mnist_adv_model and mnist_model from local"
   ]
  },
  {
   "cell_type": "code",
   "execution_count": 18,
   "metadata": {},
   "outputs": [],
   "source": [
    "# load model\n",
    "model = tf.keras.models.load_model('assets/models/mnist_model.h5')\n",
    "\n",
    "# load model_adv\n",
    "model_adv = tf.keras.models.load_model('assets/models/mnist_adv_model.h5')\n",
    "\n",
    "# load model_adv_v2\n",
    "model_adv_v2 = tf.keras.models.load_model('assets/models/mnist_adv_model_v2.h5')\n",
    "\n",
    "# load model_adv_v3\n",
    "model_adv_v3 = tf.keras.models.load_model('assets/models/mnist_adv_model_v3.h5')\n",
    "\n",
    "# load model_adv_v3_2\n",
    "model_adv_v3_2 = tf.keras.models.load_model('assets/models/mnist_adv_model_v3_2.h5')\n",
    "\n",
    "# load model_adv_v4\n",
    "model_adv_v4 = tf.keras.models.load_model('assets/models/mnist_adv_model_v4.h5')\n",
    "\n",
    "# load model_madry\n",
    "model_madry = tf.keras.models.load_model('assets/models/mnist_model_madry.h5')"
   ]
  },
  {
   "cell_type": "code",
   "execution_count": 30,
   "metadata": {},
   "outputs": [
    {
     "data": {
      "image/png": "[encoded data removed]",
      "text/plain": [
       "<Figure size 432x288 with 1 Axes>"
      ]
     },
     "metadata": {
      "needs_background": "light"
     },
     "output_type": "display_data"
    },
    {
     "name": "stdout",
     "output_type": "stream",
     "text": [
      "original label:  0\n",
      "predicted label 0\n"
     ]
    },
    {
     "data": {
      "image/png": "[encoded data removed]",
      "text/plain": [
       "<Figure size 432x288 with 1 Axes>"
      ]
     },
     "metadata": {
      "needs_background": "light"
     },
     "output_type": "display_data"
    },
    {
     "name": "stdout",
     "output_type": "stream",
     "text": [
      "original label:  0\n",
      "predicted label 0\n"
     ]
    }
   ],
   "source": [
    "random_index = np.random.randint(X.shape[0])\n",
    "\n",
    "pixels = X[random_index].reshape((28, 28))\n",
    "plt.imshow(pixels, cmap='gray')\n",
    "plt.title('Clean Model')\n",
    "plt.show()\n",
    "print('original label: ', y[random_index])\n",
    "print('predicted label', np.argmax(model.predict(np.array([X[random_index]]))))\n",
    "\n",
    "plt.imshow(pixels, cmap='gray')\n",
    "plt.title('Adv Model')\n",
    "plt.show()\n",
    "print('original label: ', y[random_index])\n",
    "print('predicted label', np.argmax(model_adv.predict(np.array([X[random_index]]))))"
   ]
  },
  {
   "cell_type": "code",
   "execution_count": 22,
   "metadata": {},
   "outputs": [
    {
     "data": {
      "text/plain": [
       "(28205, 28, 28, 1)"
      ]
     },
     "execution_count": 22,
     "metadata": {},
     "output_type": "execute_result"
    }
   ],
   "source": [
    "X_test.shape"
   ]
  },
  {
   "cell_type": "code",
   "execution_count": 23,
   "metadata": {},
   "outputs": [
    {
     "data": {
      "text/plain": [
       "(28205,)"
      ]
     },
     "execution_count": 23,
     "metadata": {},
     "output_type": "execute_result"
    }
   ],
   "source": [
    "y_test.shape"
   ]
  },
  {
   "cell_type": "code",
   "execution_count": 27,
   "metadata": {},
   "outputs": [
    {
     "name": "stdout",
     "output_type": "stream",
     "text": [
      "882/882 - 10s - loss: 0.3295 - sparse_categorical_accuracy: 0.9010 - 10s/epoch - 11ms/step\n",
      "model_adv accuracy on adv images:  0.9010459184646606\n",
      "882/882 - 10s - loss: 0.0933 - sparse_categorical_accuracy: 0.9717 - 10s/epoch - 11ms/step\n",
      "model_adv_v2 accuracy on adv images:  0.9717071652412415\n",
      "882/882 - 5s - loss: 0.9106 - sparse_categorical_accuracy: 0.7054 - 5s/epoch - 6ms/step\n",
      "model accuracy on adv images:  0.7054423093795776\n",
      "882/882 - 3s - loss: 1.2243 - sparse_categorical_accuracy: 0.5954 - 3s/epoch - 3ms/step\n",
      "model_madry accuracy on adv images:  0.5953554511070251\n"
     ]
    }
   ],
   "source": [
    "print('model_adv accuracy on adv images: ', model_adv.evaluate(X_test, y_test, verbose=2)[1])\n",
    "print('model_adv_v2 accuracy on adv images: ', model_adv_v2.evaluate(X_test, y_test, verbose=2)[1])\n",
    "print('model_adv_v2 accuracy on adv images: ', model_adv_v3.evaluate(X_test, y_test, verbose=2)[1])\n",
    "print('model accuracy on adv images: ',  model.evaluate(X_test, y_test, verbose=2)[1])\n",
    "print('model_madry accuracy on adv images: ',  model_madry.evaluate(X_test, y_test, verbose=2)[1])"
   ]
  },
  {
   "cell_type": "code",
   "execution_count": 28,
   "metadata": {},
   "outputs": [
    {
     "name": "stdout",
     "output_type": "stream",
     "text": [
      "79/79 [==============================] - 2s 23ms/step - loss: 0.0572 - sparse_categorical_accuracy: 0.9858\n",
      "model_adv accuracy on clean test images:  0.98580002784729\n",
      "79/79 [==============================] - 2s 24ms/step - loss: 0.0770 - sparse_categorical_accuracy: 0.9858\n",
      "model_adv_v2 accuracy on clean test images:  0.98580002784729\n",
      "79/79 [==============================] - 2s 24ms/step - loss: 0.0471 - sparse_categorical_accuracy: 0.9850\n",
      "model accuracy on clean test images:  0.9850000143051147\n",
      "79/79 [==============================] - 2s 25ms/step - loss: 0.1927 - sparse_categorical_accuracy: 0.9360\n",
      "model_madry accuracy on clean test images:  0.9359999895095825\n"
     ]
    }
   ],
   "source": [
    "print('model_adv accuracy on clean test images: ', model_adv.evaluate(ds_test, verbose=2)[1])\n",
    "print('model_adv_v2 accuracy on clean test images: ', model_adv_v2.evaluate(ds_test, verbose=2)[1])\n",
    "print('model_adv_v2 accuracy on adv images: ', model_adv_v3.evaluate(ds_test, verbose=2)[1])\n",
    "print('model accuracy on clean test images: ', model.evaluate(ds_test, verbose=2)[1])\n",
    "print('model_madry accuracy on clean test images: ',  model_madry.evaluate(ds_test, verbose=2)[1])"
   ]
  },
  {
   "cell_type": "markdown",
   "metadata": {},
   "source": [
    "## Generate adversarial images on mnist using cleverhans"
   ]
  },
  {
   "cell_type": "code",
   "execution_count": 22,
   "metadata": {},
   "outputs": [
    {
     "name": "stdout",
     "output_type": "stream",
     "text": [
      "Epoch 1/10\n",
      "1500/1500 [==============================] - 11s 7ms/step - loss: 0.1599 - accuracy: 0.9505 - val_loss: 0.0711 - val_accuracy: 0.9797\n",
      "Epoch 2/10\n",
      "1500/1500 [==============================] - 10s 7ms/step - loss: 0.0516 - accuracy: 0.9840 - val_loss: 0.0586 - val_accuracy: 0.9827\n",
      "Epoch 3/10\n",
      "1500/1500 [==============================] - 10s 6ms/step - loss: 0.0289 - accuracy: 0.9905 - val_loss: 0.0650 - val_accuracy: 0.9812\n",
      "Epoch 4/10\n",
      "1500/1500 [==============================] - 10s 6ms/step - loss: 0.0191 - accuracy: 0.9938 - val_loss: 0.0618 - val_accuracy: 0.9828\n",
      "Epoch 5/10\n",
      "1500/1500 [==============================] - 10s 6ms/step - loss: 0.0134 - accuracy: 0.9958 - val_loss: 0.0586 - val_accuracy: 0.9847\n",
      "Epoch 6/10\n",
      "1500/1500 [==============================] - 10s 6ms/step - loss: 0.0091 - accuracy: 0.9968 - val_loss: 0.0584 - val_accuracy: 0.9852\n",
      "Epoch 7/10\n",
      "1500/1500 [==============================] - 10s 6ms/step - loss: 0.0081 - accuracy: 0.9974 - val_loss: 0.0692 - val_accuracy: 0.9842\n",
      "Epoch 8/10\n",
      "1500/1500 [==============================] - 10s 7ms/step - loss: 0.0055 - accuracy: 0.9983 - val_loss: 0.0569 - val_accuracy: 0.9856\n",
      "Epoch 9/10\n",
      "1500/1500 [==============================] - 10s 6ms/step - loss: 0.0058 - accuracy: 0.9983 - val_loss: 0.0583 - val_accuracy: 0.9862\n",
      "Epoch 10/10\n",
      "1500/1500 [==============================] - 10s 6ms/step - loss: 0.0042 - accuracy: 0.9985 - val_loss: 0.0646 - val_accuracy: 0.9862\n",
      "313/313 [==============================] - 1s 4ms/step - loss: 0.0537 - accuracy: 0.9866\n",
      "Test accuracy: 0.9865999817848206\n"
     ]
    }
   ],
   "source": [
    "mnist = tf.keras.datasets.mnist\n",
    "(train_images, train_labels), (test_images, test_labels) = mnist.load_data()\n",
    "\n",
    "train_images = train_images / 255.0\n",
    "test_images = test_images / 255.0\n",
    "\n",
    "num_classes = 10\n",
    "\n",
    "model_cleverhans = tf.keras.Sequential([\n",
    "    tf.keras.layers.Conv2D(32, (3, 3), activation='relu', kernel_initializer='he_uniform', input_shape=(28, 28, 1)),\n",
    "    tf.keras.layers.MaxPooling2D((2, 2)),\n",
    "    tf.keras.layers.Flatten(),\n",
    "    tf.keras.layers.Dense(128, activation='relu'),\n",
    "    tf.keras.layers.Dense(10),\n",
    "    tf.keras.layers.Activation(tf.nn.softmax) # We seperate the activation layer to be able to access the logits of the previous layer later\n",
    "])\n",
    "\n",
    "model_cleverhans.compile(optimizer='adam',\n",
    "              loss= 'sparse_categorical_crossentropy',\n",
    "              metrics=['accuracy'])\n",
    "\n",
    "model_cleverhans.fit(train_images, train_labels, epochs=10, validation_split=0.2)\n",
    "test_loss, test_acc = model_cleverhans.evaluate(test_images, test_labels)\n",
    "\n",
    "print('Test accuracy:', test_acc)"
   ]
  },
  {
   "cell_type": "code",
   "execution_count": 23,
   "metadata": {},
   "outputs": [
    {
     "name": "stdout",
     "output_type": "stream",
     "text": [
      "Model: \"sequential_1\"\n",
      "_________________________________________________________________\n",
      " Layer (type)                Output Shape              Param #   \n",
      "=================================================================\n",
      " conv2d_1 (Conv2D)           (None, 26, 26, 32)        320       \n",
      "                                                                 \n",
      " max_pooling2d_1 (MaxPooling  (None, 13, 13, 32)       0         \n",
      " 2D)                                                             \n",
      "                                                                 \n",
      " flatten_1 (Flatten)         (None, 5408)              0         \n",
      "                                                                 \n",
      " dense_2 (Dense)             (None, 128)               692352    \n",
      "                                                                 \n",
      " dense_3 (Dense)             (None, 10)                1290      \n",
      "                                                                 \n",
      "=================================================================\n",
      "Total params: 693,962\n",
      "Trainable params: 693,962\n",
      "Non-trainable params: 0\n",
      "_________________________________________________________________\n"
     ]
    }
   ],
   "source": [
    "model.summary()"
   ]
  },
  {
   "cell_type": "code",
   "execution_count": 24,
   "metadata": {},
   "outputs": [
    {
     "name": "stdout",
     "output_type": "stream",
     "text": [
      "Model: \"sequential\"\n",
      "_________________________________________________________________\n",
      " Layer (type)                Output Shape              Param #   \n",
      "=================================================================\n",
      " conv2d (Conv2D)             (None, 26, 26, 32)        320       \n",
      "                                                                 \n",
      " max_pooling2d (MaxPooling2D  (None, 13, 13, 32)       0         \n",
      " )                                                               \n",
      "                                                                 \n",
      " flatten (Flatten)           (None, 5408)              0         \n",
      "                                                                 \n",
      " dense (Dense)               (None, 128)               692352    \n",
      "                                                                 \n",
      " dense_1 (Dense)             (None, 10)                1290      \n",
      "                                                                 \n",
      "=================================================================\n",
      "Total params: 693,962\n",
      "Trainable params: 693,962\n",
      "Non-trainable params: 0\n",
      "_________________________________________________________________\n"
     ]
    }
   ],
   "source": [
    "model_adv.summary()"
   ]
  },
  {
   "cell_type": "code",
   "execution_count": 25,
   "metadata": {},
   "outputs": [
    {
     "name": "stdout",
     "output_type": "stream",
     "text": [
      "Model: \"sequential_2\"\n",
      "_________________________________________________________________\n",
      " Layer (type)                Output Shape              Param #   \n",
      "=================================================================\n",
      " conv2d_2 (Conv2D)           (None, 26, 26, 32)        320       \n",
      "                                                                 \n",
      " max_pooling2d_2 (MaxPooling  (None, 13, 13, 32)       0         \n",
      " 2D)                                                             \n",
      "                                                                 \n",
      " flatten_2 (Flatten)         (None, 5408)              0         \n",
      "                                                                 \n",
      " dense_4 (Dense)             (None, 128)               692352    \n",
      "                                                                 \n",
      " dense_5 (Dense)             (None, 10)                1290      \n",
      "                                                                 \n",
      " activation (Activation)     (None, 10)                0         \n",
      "                                                                 \n",
      "=================================================================\n",
      "Total params: 693,962\n",
      "Trainable params: 693,962\n",
      "Non-trainable params: 0\n",
      "_________________________________________________________________\n"
     ]
    }
   ],
   "source": [
    "model_cleverhans.summary()"
   ]
  },
  {
   "cell_type": "code",
   "execution_count": 26,
   "metadata": {},
   "outputs": [],
   "source": [
    "import cleverhans"
   ]
  },
  {
   "cell_type": "markdown",
   "metadata": {},
   "source": [
    "### FGSM Against Clean and Adversarially Trained Model"
   ]
  },
  {
   "cell_type": "code",
   "execution_count": 27,
   "metadata": {},
   "outputs": [],
   "source": [
    "# Import the attack\n",
    "from cleverhans.tf2.attacks.fast_gradient_method import fast_gradient_method\n",
    "\n",
    "#The attack requires the model to ouput the logits\n",
    "logits_model = tf.keras.Model(model.input,model.layers[-1].output)"
   ]
  },
  {
   "cell_type": "code",
   "execution_count": 28,
   "metadata": {},
   "outputs": [
    {
     "data": {
      "image/png": "[encoded data removed]",
      "text/plain": [
       "<Figure size 432x288 with 1 Axes>"
      ]
     },
     "metadata": {
      "needs_background": "light"
     },
     "output_type": "display_data"
    }
   ],
   "source": [
    "random_index = np.random.randint(test_images.shape[0])\n",
    "\n",
    "original_image = test_images[random_index]\n",
    "original_image = tf.convert_to_tensor(original_image.reshape((1,28,28))) #The .reshape just gives it the proper form to input into the model, a batch of 1 a.k.a a tensor\n",
    "\n",
    "original_label = test_labels[random_index]\n",
    "original_label = np.reshape(original_label, (1,)).astype('int64') # Give label proper shape and type for cleverhans\n",
    "\n",
    "#Show the image\n",
    "plt.figure()\n",
    "plt.grid(False)\n",
    "\n",
    "plt.imshow(np.reshape(original_image, (28,28)), cmap='gray')\n",
    "plt.title(\"Label: {}\".format(original_label[0]))\n",
    "\n",
    "plt.show()"
   ]
  },
  {
   "cell_type": "code",
   "execution_count": 34,
   "metadata": {},
   "outputs": [
    {
     "name": "stdout",
     "output_type": "stream",
     "text": [
      "Clean Model Prediction: 1\n",
      "Adv Model Prediction: 1\n"
     ]
    },
    {
     "data": {
      "image/png": "[encoded data removed]",
      "text/plain": [
       "<Figure size 432x288 with 1 Axes>"
      ]
     },
     "metadata": {
      "needs_background": "light"
     },
     "output_type": "display_data"
    }
   ],
   "source": [
    "epsilon = 0.01\n",
    "\n",
    "adv_example_untargeted_label = fast_gradient_method(logits_model, original_image, epsilon, np.inf, targeted=False)\n",
    "\n",
    "adv_example_untargeted_label_pred = model.predict(adv_example_untargeted_label)\n",
    "adv_example_untargeted_label_pred_adv_model = model_adv.predict(adv_example_untargeted_label)\n",
    "\n",
    "print(\"Clean Model Prediction: {}\".format(np.argmax(adv_example_untargeted_label_pred)))\n",
    "print(\"Adv Model Prediction: {}\".format(np.argmax(adv_example_untargeted_label_pred_adv_model)))\n",
    "\n",
    "#Show the image\n",
    "plt.figure()\n",
    "plt.grid(False)\n",
    "\n",
    "plt.imshow(np.reshape(adv_example_untargeted_label, (28,28)), cmap='gray')\n",
    "# plt.title(\"Model Prediction: {}\".format(np.argmax(adv_example_untargeted_label_pred)))\n",
    "plt.xlabel(\"Original Label: {}\".format(original_label[0]))\n",
    "\n",
    "plt.show()"
   ]
  },
  {
   "cell_type": "code",
   "execution_count": 35,
   "metadata": {},
   "outputs": [
    {
     "name": "stdout",
     "output_type": "stream",
     "text": [
      "Clean Model Prediction: 1\n",
      "Adv Model Prediction: 1\n"
     ]
    },
    {
     "data": {
      "image/png": "[encoded data removed]",
      "text/plain": [
       "<Figure size 432x288 with 1 Axes>"
      ]
     },
     "metadata": {
      "needs_background": "light"
     },
     "output_type": "display_data"
    }
   ],
   "source": [
    "epsilon = 0.01\n",
    "# The target value may have to be changed to work, some images are more easily missclassified as different labels\n",
    "target = 9\n",
    "\n",
    "target_label = np.reshape(target, (1,)).astype('int64') # Give target label proper size and dtype to feed through\n",
    "\n",
    "adv_example_targeted_label = fast_gradient_method(logits_model, original_image, epsilon, np.inf, y=target_label, targeted=True)\n",
    "\n",
    "adv_example_targeted_label_pred = model.predict(adv_example_targeted_label)\n",
    "adv_example_targeted_label_pred_adv_model = model_adv.predict(adv_example_targeted_label)\n",
    "\n",
    "print(\"Clean Model Prediction: {}\".format(np.argmax(adv_example_targeted_label_pred)))\n",
    "print(\"Adv Model Prediction: {}\".format(np.argmax(adv_example_targeted_label_pred_adv_model)))\n",
    "\n",
    "\n",
    "#Show the image\n",
    "plt.figure()\n",
    "plt.grid(False)\n",
    "\n",
    "plt.imshow(np.reshape(adv_example_targeted_label, (28,28)), cmap='gray')\n",
    "# plt.title(\"Model Prediction: {}\".format(np.argmax(adv_example_targeted_label_pred)))\n",
    "plt.xlabel(\"Original Label: {}\".format(original_label[0]))\n",
    "\n",
    "plt.show()"
   ]
  },
  {
   "cell_type": "markdown",
   "metadata": {},
   "source": [
    "#### Generate FGSM adv mnist dataset"
   ]
  },
  {
   "cell_type": "code",
   "execution_count": 67,
   "metadata": {},
   "outputs": [
    {
     "name": "stdout",
     "output_type": "stream",
     "text": [
      "0.1\n",
      "0.2\n",
      "0.30000000000000004\n",
      "0.4\n",
      "0.5\n",
      "0.6\n",
      "0.7000000000000001\n",
      "0.8\n",
      "0.9\n",
      "1.0\n",
      "1.1\n",
      "1.2000000000000002\n",
      "1.3000000000000003\n",
      "1.4000000000000001\n",
      "[ 0  1  2  3  4  5  6  7  8  9 10 11 12 13]\n",
      "[ 0  1  2  3  4  5  6  7  8  9 10 11 12 13]\n"
     ]
    }
   ],
   "source": [
    "# calculate error rate for FGSM attack on both clean and adv model with varying epsilon values\n",
    "\n",
    "# iterate from 0.1 to 1.5 with 0.1 step size\n",
    "epsilon_values = np.arange(0.1, 1.5, 0.1)\n",
    "fgsm_images = []\n",
    "fgsm_labels = []\n",
    "model_adv_missclassifications = np.arange(0, len(epsilon_values))\n",
    "model_missclassifications = np.arange(0, len(epsilon_values))\n",
    "\n",
    "\n",
    "for index, epsilon in enumerate(epsilon_values):\n",
    "    print(epsilon)\n",
    "\n",
    "    # original image and original label\n",
    "\n",
    "    for i in range(test_images.shape[0]):\n",
    "\n",
    "        original_image = test_images[i]\n",
    "        original_image = tf.convert_to_tensor(original_image.reshape((1,28,28))) #The .reshape just gives it the proper form to input into the model, a batch of 1 a.k.a a tensor\n",
    "\n",
    "        original_label = test_labels[i]\n",
    "        original_label = np.reshape(original_label, (1,)).astype('int64') # Give label proper shape and type for cleverhans\n",
    "\n",
    "        adv_example_untargeted_label = fast_gradient_method(logits_model, original_image, epsilon, np.inf, targeted=False)\n",
    "\n",
    "        # adv_example_untargeted_label_pred = model.predict(adv_example_untargeted_label)\n",
    "        # adv_example_untargeted_label_pred_adv_model = model_adv.predict(adv_example_untargeted_label)\n",
    "        \n",
    "        # add fgsm image to list\n",
    "        fgsm_images.append(adv_example_untargeted_label)\n",
    "        fgsm_labels.append(original_label)\n",
    "\n",
    "        # if np.argmax(adv_example_untargeted_label_pred) != original_label[0]:\n",
    "        #     model_missclassifications[index] += 1\n",
    "        # if np.argmax(adv_example_untargeted_label_pred_adv_model) != original_label[0]:\n",
    "        #     model_adv_missclassifications[index] += 1\n",
    "        \n",
    "    \n",
    "print(model_missclassifications)\n",
    "print(model_adv_missclassifications)\n",
    "\n",
    "np.savez('fgsm_images', images=fgsm_images, labels=fgsm_labels)"
   ]
  },
  {
   "cell_type": "markdown",
   "metadata": {},
   "source": [
    "### PGD Against Clean and Adversarially Trained Model"
   ]
  },
  {
   "cell_type": "code",
   "execution_count": 36,
   "metadata": {},
   "outputs": [],
   "source": [
    "# Import the attack\n",
    "from cleverhans.tf2.attacks.projected_gradient_descent import projected_gradient_descent\n",
    "\n",
    "#The attack requires the model to ouput the logits\n",
    "logits_model = tf.keras.Model(model.input,model.layers[-1].output)"
   ]
  },
  {
   "cell_type": "code",
   "execution_count": 37,
   "metadata": {},
   "outputs": [
    {
     "data": {
      "image/png": "[encoded data removed]",
      "text/plain": [
       "<Figure size 432x288 with 1 Axes>"
      ]
     },
     "metadata": {
      "needs_background": "light"
     },
     "output_type": "display_data"
    }
   ],
   "source": [
    "random_index = np.random.randint(test_images.shape[0])\n",
    "\n",
    "original_image = test_images[random_index]\n",
    "original_image = tf.convert_to_tensor(original_image.reshape((1,28,28)), dtype=tf.float32) #The .reshape just gives it the proper form to input into the model, a batch of 1 a.k.a a tensor\n",
    "\n",
    "original_label = test_labels[random_index]\n",
    "original_label = np.reshape(original_label, (1,)).astype('int64') # Give label proper shape and type for cleverhans\n",
    "\n",
    "#Show the image\n",
    "plt.figure()\n",
    "plt.grid(False)\n",
    "\n",
    "plt.imshow(np.reshape(original_image, (28,28)), cmap='gray')\n",
    "plt.title(\"Label: {}\".format(original_label[0]))\n",
    "\n",
    "plt.show()"
   ]
  },
  {
   "cell_type": "code",
   "execution_count": 39,
   "metadata": {},
   "outputs": [
    {
     "name": "stdout",
     "output_type": "stream",
     "text": [
      "Clean Model Prediction: 4\n",
      "Adv Model Prediction: 9\n"
     ]
    },
    {
     "data": {
      "image/png": "[encoded data removed]",
      "text/plain": [
       "<Figure size 432x288 with 1 Axes>"
      ]
     },
     "metadata": {
      "needs_background": "light"
     },
     "output_type": "display_data"
    }
   ],
   "source": [
    "epsilon = 1.0\n",
    "\n",
    "adv_example_untargeted_label = projected_gradient_descent(model_fn=logits_model, x=original_image, eps=epsilon, eps_iter=0.01, targeted=False, nb_iter=200, norm=2)\n",
    "\n",
    "adv_example_untargeted_label_pred = model.predict(adv_example_untargeted_label)\n",
    "adv_example_untargeted_label_pred_adv_model = model_adv.predict(adv_example_untargeted_label)\n",
    "\n",
    "print(\"Clean Model Prediction: {}\".format(np.argmax(adv_example_untargeted_label_pred)))\n",
    "print(\"Adv Model Prediction: {}\".format(np.argmax(adv_example_untargeted_label_pred_adv_model)))\n",
    "\n",
    "#Show the image\n",
    "plt.figure()\n",
    "plt.grid(False)\n",
    "\n",
    "plt.imshow(np.reshape(adv_example_untargeted_label, (28,28)), cmap='gray')\n",
    "# plt.title(\"Model Prediction: {}\".format(np.argmax(adv_example_untargeted_label_pred)))\n",
    "plt.xlabel(\"Original Label: {}\".format(original_label[0]))\n",
    "\n",
    "plt.show()"
   ]
  },
  {
   "cell_type": "code",
   "execution_count": 46,
   "metadata": {},
   "outputs": [
    {
     "name": "stdout",
     "output_type": "stream",
     "text": [
      "Clean Model Prediction: 2\n",
      "Adv Model Prediction: 9\n"
     ]
    },
    {
     "data": {
      "image/png": "[encoded data removed]",
      "text/plain": [
       "<Figure size 432x288 with 1 Axes>"
      ]
     },
     "metadata": {
      "needs_background": "light"
     },
     "output_type": "display_data"
    }
   ],
   "source": [
    "epsilon = 0.9\n",
    "# The target value may have to be changed to work, some images are more easily missclassified as different labels\n",
    "target = 2\n",
    "\n",
    "target_label = np.reshape(target, (1,)).astype('int64') # Give target label proper size and dtype to feed through\n",
    "\n",
    "adv_example_targeted_label = projected_gradient_descent(model_fn=logits_model, x=original_image, eps=epsilon, eps_iter=0.1, nb_iter=200, norm=2, y=target_label, targeted=True)\n",
    "\n",
    "adv_example_targeted_label_pred = model.predict(adv_example_targeted_label)\n",
    "adv_example_targeted_label_pred_adv_model = model_adv.predict(adv_example_targeted_label)\n",
    "\n",
    "print(\"Clean Model Prediction: {}\".format(np.argmax(adv_example_targeted_label_pred)))\n",
    "print(\"Adv Model Prediction: {}\".format(np.argmax(adv_example_targeted_label_pred_adv_model)))\n",
    "\n",
    "\n",
    "#Show the image\n",
    "plt.figure()\n",
    "plt.grid(False)\n",
    "\n",
    "plt.imshow(np.reshape(adv_example_targeted_label, (28,28)), cmap='gray')\n",
    "# plt.title(\"Model Prediction: {}\".format(np.argmax(adv_example_targeted_label_pred)))\n",
    "plt.xlabel(\"Original Label: {}\".format(original_label[0]))\n",
    "\n",
    "plt.show()"
   ]
  },
  {
   "cell_type": "markdown",
   "metadata": {},
   "source": [
    "#### Generate PGD adv mnist dataset"
   ]
  },
  {
   "cell_type": "code",
   "execution_count": 69,
   "metadata": {},
   "outputs": [
    {
     "name": "stdout",
     "output_type": "stream",
     "text": [
      "0.1\n"
     ]
    }
   ],
   "source": [
    "# calculate error rate for PGD attack on both clean and adv model with varying epsilon values\n",
    "\n",
    "# iterate from 0.1 to 1.5 with 0.1 step size\n",
    "epsilon_values = np.arange(0.1, 1.5, 0.1)\n",
    "pgd_images = []\n",
    "pgd_labels = []\n",
    "model_adv_missclassifications = np.arange(0, len(epsilon_values))\n",
    "model_missclassifications = np.arange(0, len(epsilon_values))\n",
    "\n",
    "for index, epsilon in enumerate(epsilon_values):\n",
    "    print(epsilon)\n",
    "\n",
    "    # original image and original label\n",
    "\n",
    "    for i in range(test_images.shape[0]):\n",
    "\n",
    "        original_image = test_images[i]\n",
    "        original_image = tf.convert_to_tensor(original_image.reshape((1,28,28)), dtype=tf.float32) #The .reshape just gives it the proper form to input into the model, a batch of 1 a.k.a a tensor\n",
    "\n",
    "        original_label = test_labels[i]\n",
    "        original_label = np.reshape(original_label, (1,)).astype('int64') # Give label proper shape and type for cleverhans\n",
    "\n",
    "        adv_example_untargeted_label = projected_gradient_descent(model_fn=logits_model, x=original_image, eps=epsilon, eps_iter=0.01, targeted=False, nb_iter=200, norm=2)\n",
    "\n",
    "        # adv_example_untargeted_label_pred = model.predict(adv_example_untargeted_label)\n",
    "        # adv_example_untargeted_label_pred_adv_model = model_adv.predict(adv_example_untargeted_label)\n",
    "        \n",
    "        # add pgd image to list\n",
    "        pgd_images.append(adv_example_untargeted_label)\n",
    "        pgd_labels.append(original_label)\n",
    "\n",
    "        # if np.argmax(adv_example_untargeted_label_pred) != original_label[0]:\n",
    "        #     model_missclassifications[index] += 1\n",
    "        # if np.argmax(adv_example_untargeted_label_pred_adv_model) != original_label[0]:\n",
    "        #     model_adv_missclassifications[index] += 1\n",
    "        \n",
    "    \n",
    "print(model_missclassifications)\n",
    "print(model_adv_missclassifications)\n",
    "\n",
    "np.savez('pgd_images', images=pgd_images, labels=pgd_labels)\n"
   ]
  },
  {
   "cell_type": "markdown",
   "metadata": {},
   "source": [
    "## Run benchmarks against Madry's Adversarial MNIST Classifier"
   ]
  },
  {
   "cell_type": "code",
   "execution_count": 19,
   "metadata": {},
   "outputs": [
    {
     "name": "stdout",
     "output_type": "stream",
     "text": [
      "(140000, 28, 28, 1)\n",
      "(140000, 1)\n",
      "(140000, 28, 28, 1)\n",
      "(140000, 1)\n"
     ]
    }
   ],
   "source": [
    "# import fgsm and pgd adversarial sampels\n",
    "pgd_images = np.load('pgd_images.npz')['images']\n",
    "pgd_labels = np.load('pgd_images.npz')['labels']\n",
    "\n",
    "fgsm_images = np.load('fgsm_images.npz')['images']\n",
    "fgsm_labels = np.load('fgsm_images.npz')['labels']\n",
    "\n",
    "# reshape pgd and fgsm images to 28, 28, 1\n",
    "pgd_images = np.reshape(pgd_images, (len(pgd_images), 28, 28, 1))\n",
    "fgsm_images = np.reshape(fgsm_images, (len(fgsm_images), 28, 28, 1))\n",
    "\n",
    "print(pgd_images.shape)\n",
    "print(pgd_labels.shape)\n",
    "print(fgsm_images.shape)\n",
    "print(fgsm_labels.shape)"
   ]
  },
  {
   "cell_type": "code",
   "execution_count": 42,
   "metadata": {},
   "outputs": [
    {
     "data": {
      "image/png": "[encoded data removed]",
      "text/plain": [
       "<Figure size 432x288 with 1 Axes>"
      ]
     },
     "metadata": {
      "needs_background": "light"
     },
     "output_type": "display_data"
    },
    {
     "name": "stdout",
     "output_type": "stream",
     "text": [
      "original label:  [1]\n",
      "predicted label 1\n"
     ]
    },
    {
     "data": {
      "image/png": "[encoded data removed]",
      "text/plain": [
       "<Figure size 432x288 with 1 Axes>"
      ]
     },
     "metadata": {
      "needs_background": "light"
     },
     "output_type": "display_data"
    },
    {
     "name": "stdout",
     "output_type": "stream",
     "text": [
      "original label:  [1]\n",
      "predicted label 1\n"
     ]
    }
   ],
   "source": [
    "random_index = np.random.randint(pgd_images.shape[0])\n",
    "\n",
    "pixels = pgd_images[random_index].reshape((28, 28))\n",
    "plt.imshow(pixels, cmap='gray')\n",
    "plt.title('Clean Model')\n",
    "plt.show()\n",
    "print('original label: ', pgd_labels[random_index])\n",
    "print('predicted label', np.argmax(model.predict(np.array([pgd_images[random_index]]))))\n",
    "\n",
    "plt.imshow(pixels, cmap='gray')\n",
    "plt.title('Adv Model')\n",
    "plt.show()\n",
    "print('original label: ', pgd_labels[random_index])\n",
    "print('predicted label', np.argmax(model_adv.predict(np.array([pgd_images[random_index]]))))"
   ]
  },
  {
   "cell_type": "code",
   "execution_count": 7,
   "metadata": {},
   "outputs": [
    {
     "name": "stdout",
     "output_type": "stream",
     "text": [
      "4375/4375 - 46s - loss: 0.9081 - sparse_categorical_accuracy: 0.8574 - 46s/epoch - 10ms/step\n",
      "model_adv accuracy on Cleverhans PGD images:  0.8573571443557739\n",
      "4375/4375 - 44s - loss: 1.7685 - sparse_categorical_accuracy: 0.7878 - 44s/epoch - 10ms/step\n",
      "model_adv_2 accuracy on Cleverhans PGD images:  0.7877500057220459\n"
     ]
    }
   ],
   "source": [
    "def evalugate_pgd():\n",
    "    print('model_adv accuracy on Cleverhans PGD images: ', model_adv.evaluate(pgd_images, pgd_labels, verbose=2)[1])\n",
    "    print('model_adv_2 accuracy on Cleverhans PGD images: ', model_adv_v2.evaluate(pgd_images, pgd_labels, verbose=2)[1])\n",
    "    print('model accuracy on  Cleverhans PGD images: ',  model.evaluate(pgd_images, pgd_labels, verbose=2)[1])\n",
    "    print('model_madry accuracy on  Cleverhans PGD images: ',  model_madry.evaluate(pgd_images, pgd_labels, verbose=2)[1])\n",
    "\n",
    "evalugate_pgd()"
   ]
  },
  {
   "cell_type": "code",
   "execution_count": 4,
   "metadata": {},
   "outputs": [
    {
     "name": "stdout",
     "output_type": "stream",
     "text": [
      "4375/4375 - 14s - loss: 108.8969 - sparse_categorical_accuracy: 0.0805 - 14s/epoch - 3ms/step\n",
      "model_adv accuracy on Cleverhans FGSM images:  0.08047142624855042\n",
      "4375/4375 - 12s - loss: 186.2902 - sparse_categorical_accuracy: 0.1081 - 12s/epoch - 3ms/step\n",
      "model_adv accuracy on Cleverhans FGSM images:  0.10805000364780426\n"
     ]
    }
   ],
   "source": [
    "def evaluate_fgsm():\n",
    "    print('model_adv accuracy on Cleverhans FGSM images: ', model_adv.evaluate(fgsm_images, fgsm_labels, verbose=2)[1])\n",
    "    print('model_adv accuracy on Cleverhans FGSM images: ', model_adv_v2.evaluate(fgsm_images, fgsm_labels, verbose=2)[1])\n",
    "    print('model accuracy on  Cleverhans FGSM images: ',  model.evaluate(fgsm_images, fgsm_labels, verbose=2)[1])\n",
    "    print('model_madry accuracy on  Cleverhans FGSM images: ',  model_madry.evaluate(fgsm_images, fgsm_labels, verbose=2)[1])\n",
    "\n",
    "evaluate_fgsm()"
   ]
  },
  {
   "cell_type": "code",
   "execution_count": 5,
   "metadata": {},
   "outputs": [
    {
     "data": {
      "image/png": "[encoded data removed]",
      "text/plain": [
       "<Figure size 432x288 with 1 Axes>"
      ]
     },
     "metadata": {
      "needs_background": "light"
     },
     "output_type": "display_data"
    }
   ],
   "source": [
    "# divide pgd_images and pgd_labels into different epsilon values\n",
    "epsilon_values = np.arange(0.1, 1.5, 0.1)\n",
    "\n",
    "# put images into 14 groups of images as a multidiemensional array\n",
    "pgd_images_grouped = np.array(np.array_split(pgd_images, len(epsilon_values)))\n",
    "pgd_labels_grouped = np.array(np.array_split(pgd_labels, len(epsilon_values)))\n",
    "\n",
    "plt.title('Clean Model vs Adv Model on PGD Images')\n",
    "plt.xlabel('Epsilon')\n",
    "plt.ylabel('Accuracy')\n",
    "\n",
    "model_adv_pred = []\n",
    "model_pred = []\n",
    "\n",
    "# iterate through epsilon values and evaluate model and model_adv for each iteration\n",
    "for index, epsilon in enumerate(epsilon_values):\n",
    "    # print('model_adv accuracy on Cleverhans PGD images for ', round(epsilon, 1),' :' , model_adv.evaluate(pgd_images_grouped[index], pgd_labels_grouped[index], verbose=0)[1])\n",
    "    # print('model accuracy on  Cleverhans PGD images for ', round(epsilon, 1) ,' :' , model.evaluate(pgd_images_grouped[index], pgd_labels_grouped[index], verbose=0)[1])\n",
    "\n",
    "    model_adv_pred.append(model_adv.evaluate(pgd_images_grouped[index], pgd_labels_grouped[index], verbose=0)[1])\n",
    "    model_pred.append(model.evaluate(pgd_images_grouped[index], pgd_labels_grouped[index], verbose=0)[1])\n",
    "\n",
    "model_adv_plot, = plt.plot(epsilon_values, model_adv_pred, color='blue', marker='o', label='Adversarially Trained Model')\n",
    "model_plot, = plt.plot(epsilon_values, model_pred, color='red', marker='o', label='Clean Model')\n",
    "plt.legend(handles=[model_plot, model_adv_plot])\n",
    "plt.show()\n"
   ]
  },
  {
   "cell_type": "code",
   "execution_count": 9,
   "metadata": {},
   "outputs": [
    {
     "data": {
      "image/png": "[encoded data removed]",
      "text/plain": [
       "<Figure size 432x288 with 1 Axes>"
      ]
     },
     "metadata": {
      "needs_background": "light"
     },
     "output_type": "display_data"
    }
   ],
   "source": [
    "# divide fgsm_images and pgd_labels into different epsilon values\n",
    "epsilon_values = np.arange(0.1, 1.5, 0.1)\n",
    "epsilon_values_sliced = np.arange(0.1, 0.7, 0.1)\n",
    "\n",
    "# put images into 14 groups of images as a multidiemensional array\n",
    "fgsm_images_grouped = np.array(np.array_split(fgsm_images, len(epsilon_values)))\n",
    "fgsm_labels_grouped = np.array(np.array_split(fgsm_labels, len(epsilon_values)))\n",
    "\n",
    "plt.title('Clean Model vs Adv Model on FGSM Images')\n",
    "plt.xlabel('Epsilon')\n",
    "plt.ylabel('Accuracy')\n",
    "\n",
    "model_adv_pred = []\n",
    "model_pred = []\n",
    "\n",
    "# iterate through epsilon values and evaluate model and model_adv for each iteration\n",
    "for index, epsilon in enumerate(epsilon_values):\n",
    "    # print('model_adv accuracy on Cleverhans PGD images for ', round(epsilon, 1),' :' , model_adv.evaluate(fgsm_images_grouped[index], fgsm_labels_grouped[index], verbose=0)[1])\n",
    "    # print('model accuracy on  Cleverhans PGD images for ', round(epsilon, 1) ,' :' , model.evaluate(fgsm_images_grouped[index], fgsm_labels_grouped[index], verbose=0)[1])\n",
    "    if epsilon > 0.6:\n",
    "        break\n",
    "\n",
    "    model_adv_pred.append(model_adv.evaluate(fgsm_images_grouped[index], fgsm_labels_grouped[index], verbose=0)[1])\n",
    "    model_pred.append(model.evaluate(fgsm_images_grouped[index], fgsm_labels_grouped[index], verbose=0)[1])\n",
    "\n",
    "model_adv_plot, = plt.plot(epsilon_values_sliced, model_adv_pred, color='blue', marker='o', label='Adversarially Trained Model')\n",
    "model_plot, = plt.plot(epsilon_values_sliced, model_pred, color='red', marker='o', label='Clean Model')\n",
    "plt.legend(handles=[model_plot, model_adv_plot])\n",
    "plt.show()\n"
   ]
  },
  {
   "cell_type": "code",
   "execution_count": 37,
   "metadata": {},
   "outputs": [
    {
     "name": "stdout",
     "output_type": "stream",
     "text": [
      "Train set: (120000, 28, 28, 1)\n",
      "Test set: (20000, 28, 28, 1)\n",
      "Train labels: (120000, 1)\n",
      "Test labels: (20000, 1)\n"
     ]
    }
   ],
   "source": [
    "# divide fgsm images into train and test sets for adversarial training\n",
    "fgsm_images_train = fgsm_images[:120000, :]\n",
    "fgsm_images_test = fgsm_images[120000:, :]\n",
    "fgsm_labels_train = fgsm_labels[:120000]\n",
    "fgsm_labels_test = fgsm_labels[120000:]\n",
    "\n",
    "print('Train set: {}'.format(fgsm_images_train.shape))\n",
    "print('Test set: {}'.format(fgsm_images_test.shape))\n",
    "print('Train labels: {}'.format(fgsm_labels_train.shape))\n",
    "print('Test labels: {}'.format(fgsm_labels_test.shape))"
   ]
  },
  {
   "cell_type": "code",
   "execution_count": 7,
   "metadata": {},
   "outputs": [
    {
     "name": "stdout",
     "output_type": "stream",
     "text": [
      "Model: \"sequential\"\n",
      "_________________________________________________________________\n",
      " Layer (type)                Output Shape              Param #   \n",
      "=================================================================\n",
      " conv2d (Conv2D)             (None, 26, 26, 32)        320       \n",
      "                                                                 \n",
      " max_pooling2d (MaxPooling2D  (None, 13, 13, 32)       0         \n",
      " )                                                               \n",
      "                                                                 \n",
      " flatten (Flatten)           (None, 5408)              0         \n",
      "                                                                 \n",
      " dense (Dense)               (None, 128)               692352    \n",
      "                                                                 \n",
      " dense_1 (Dense)             (None, 10)                1290      \n",
      "                                                                 \n",
      "=================================================================\n",
      "Total params: 693,962\n",
      "Trainable params: 693,962\n",
      "Non-trainable params: 0\n",
      "_________________________________________________________________\n",
      "Epoch 1/6\n",
      "3750/3750 [==============================] - 31s 8ms/step - loss: 0.1228 - sparse_categorical_accuracy: 0.9747\n",
      "Epoch 2/6\n",
      "3750/3750 [==============================] - 26s 7ms/step - loss: 0.0289 - sparse_categorical_accuracy: 0.9928\n",
      "Epoch 3/6\n",
      "3750/3750 [==============================] - 26s 7ms/step - loss: 0.0143 - sparse_categorical_accuracy: 0.9967\n",
      "Epoch 4/6\n",
      "3750/3750 [==============================] - 26s 7ms/step - loss: 0.0186 - sparse_categorical_accuracy: 0.9964\n",
      "Epoch 5/6\n",
      "3750/3750 [==============================] - 26s 7ms/step - loss: 0.0111 - sparse_categorical_accuracy: 0.9977\n",
      "Epoch 6/6\n",
      "3750/3750 [==============================] - 26s 7ms/step - loss: 0.0099 - sparse_categorical_accuracy: 0.9985\n"
     ]
    },
    {
     "data": {
      "text/plain": [
       "<keras.callbacks.History at 0x16c85384790>"
      ]
     },
     "execution_count": 7,
     "metadata": {},
     "output_type": "execute_result"
    }
   ],
   "source": [
    "model_madry = tf.keras.Sequential([\n",
    "    tf.keras.layers.Conv2D(32, (3, 3), activation='relu', kernel_initializer='he_uniform', input_shape=(28, 28, 1)),\n",
    "    tf.keras.layers.MaxPooling2D((2, 2)),\n",
    "    tf.keras.layers.Flatten(),\n",
    "    tf.keras.layers.Dense(128, activation='relu'),\n",
    "    tf.keras.layers.Dense(10),\n",
    "])\n",
    "\n",
    "model_madry.summary()\n",
    "\n",
    "model_madry.compile(\n",
    "    optimizer=tf.keras.optimizers.Adam(0.001),\n",
    "    loss=tf.keras.losses.SparseCategoricalCrossentropy(from_logits=True),\n",
    "    metrics=[tf.keras.metrics.SparseCategoricalAccuracy()],\n",
    ")\n",
    "\n",
    "model_madry.fit(\n",
    "    x = fgsm_images_train,\n",
    "    y = fgsm_labels_train,\n",
    "    epochs=4,\n",
    "    shuffle=True\n",
    ")\n"
   ]
  },
  {
   "cell_type": "code",
   "execution_count": 8,
   "metadata": {},
   "outputs": [],
   "source": [
    "model_madry.save('assets/models/mnist_model_madry.h5')"
   ]
  },
  {
   "cell_type": "code",
   "execution_count": 4,
   "metadata": {},
   "outputs": [],
   "source": [
    "model_madry = tf.keras.models.load_model('assets/models/mnist_model_madry.h5')"
   ]
  },
  {
   "cell_type": "code",
   "execution_count": 17,
   "metadata": {},
   "outputs": [
    {
     "name": "stdout",
     "output_type": "stream",
     "text": [
      "(126060, 28, 28, 1) (120000, 28, 28, 1)\n",
      "(126060,) (120000, 1)\n",
      "(246060, 28, 28, 1) (246060, 28, 28, 1)\n"
     ]
    }
   ],
   "source": [
    "print(ds_train_adv_images.shape, fgsm_images_train.shape)\n",
    "print(ds_train_adv_labels.shape, fgsm_labels_train.shape)\n",
    "\n",
    "fgsm_labels_train = np.argmax(fgsm_labels_train, axis=1)\n",
    "\n",
    "\n",
    "ds_train_adv_images_mod = np.concatenate((ds_train_adv_images, fgsm_images_train), axis=0)\n",
    "ds_train_adv_labels_mod = np.concatenate((ds_train_adv_labels, fgsm_labels_train), axis=0)\n",
    "\n",
    "print(ds_train_adv_images_mod.shape, ds_train_adv_images_mod.shape)\n"
   ]
  },
  {
   "cell_type": "code",
   "execution_count": 18,
   "metadata": {},
   "outputs": [
    {
     "name": "stdout",
     "output_type": "stream",
     "text": [
      "Epoch 1/6\n",
      "7690/7690 [==============================] - 54s 6ms/step - loss: 0.0589 - sparse_categorical_accuracy: 0.9831\n",
      "Epoch 2/6\n",
      "7690/7690 [==============================] - 46s 6ms/step - loss: 0.0186 - sparse_categorical_accuracy: 0.9947: 1s - loss: 0.0187 - sparse\n",
      "Epoch 3/6\n",
      "7690/7690 [==============================] - 43s 6ms/step - loss: 0.0113 - sparse_categorical_accuracy: 0.9967\n",
      "Epoch 4/6\n",
      "7690/7690 [==============================] - 44s 6ms/step - loss: 0.0074 - sparse_categorical_accuracy: 0.9977\n",
      "Epoch 5/6\n",
      "7690/7690 [==============================] - 45s 6ms/step - loss: 0.0050 - sparse_categorical_accuracy: 0.9984\n",
      "Epoch 6/6\n",
      "7690/7690 [==============================] - 46s 6ms/step - loss: 0.0038 - sparse_categorical_accuracy: 0.9987\n"
     ]
    },
    {
     "data": {
      "text/plain": [
       "<keras.callbacks.History at 0x1dc83327eb0>"
      ]
     },
     "execution_count": 18,
     "metadata": {},
     "output_type": "execute_result"
    }
   ],
   "source": [
    "# model_adv = tf.keras.models.Sequential([\n",
    "#   tf.keras.layers.Flatten(input_shape=(28, 28)),\n",
    "#   tf.keras.layers.Dense(128, activation='relu'),\n",
    "#   tf.keras.layers.Dense(10)\n",
    "# ])\n",
    "\n",
    "model_adv_mod = tf.keras.models.Sequential([\n",
    "  tf.keras.layers.Conv2D(32, (3, 3), activation='relu', kernel_initializer='he_uniform', input_shape=(28, 28, 1)),\n",
    "  tf.keras.layers.MaxPooling2D((2, 2)),\n",
    "  tf.keras.layers.Flatten(),\n",
    "  tf.keras.layers.Dense(128, activation='relu'),\n",
    "  tf.keras.layers.Dense(10)\n",
    "])\n",
    "\n",
    "model_adv_mod.compile(\n",
    "    optimizer=tf.keras.optimizers.Adam(0.001),\n",
    "    loss=tf.keras.losses.SparseCategoricalCrossentropy(from_logits=True),\n",
    "    metrics=[tf.keras.metrics.SparseCategoricalAccuracy()],\n",
    ")\n",
    "\n",
    "model_adv_mod.fit(\n",
    "    x = ds_train_adv_images_mod,\n",
    "    y = ds_train_adv_labels_mod,\n",
    "    epochs=6,\n",
    "    shuffle=True\n",
    ")"
   ]
  },
  {
   "cell_type": "code",
   "execution_count": 18,
   "metadata": {},
   "outputs": [],
   "source": [
    "model_adv_mod.save('assets/models/mnist_model_adv_mod.h5')"
   ]
  },
  {
   "cell_type": "code",
   "execution_count": 5,
   "metadata": {},
   "outputs": [],
   "source": [
    "model_adv_mod = tf.keras.models.load_model('assets/models/mnist_model_adv_mod.h5')"
   ]
  },
  {
   "cell_type": "code",
   "execution_count": 42,
   "metadata": {},
   "outputs": [
    {
     "data": {
      "image/png": "[encoded data removed]",
      "text/plain": [
       "<Figure size 432x288 with 1 Axes>"
      ]
     },
     "metadata": {
      "needs_background": "light"
     },
     "output_type": "display_data"
    }
   ],
   "source": [
    "# divide pgd_images and pgd_labels into different epsilon values\n",
    "epsilon_values = np.arange(0.1, 1.5, 0.1)\n",
    "\n",
    "# put images into 14 groups of images as a multidiemensional array\n",
    "pgd_images_grouped = np.array(np.array_split(pgd_images, len(epsilon_values)))\n",
    "pgd_labels_grouped = np.array(np.array_split(pgd_labels, len(epsilon_values)))\n",
    "\n",
    "plt.title('Clean Model vs Adv Model on PGD Images')\n",
    "plt.xlabel('Epsilon')\n",
    "plt.ylabel('Accuracy')\n",
    "\n",
    "model_adv_pred = []\n",
    "model_madry_pred = []\n",
    "model_pred = []\n",
    "\n",
    "# iterate through epsilon values and evaluate model and model_adv for each iteration\n",
    "for index, epsilon in enumerate(epsilon_values):\n",
    "    # print('model_adv accuracy on Cleverhans PGD images for ', round(epsilon, 1),' :' , model_adv.evaluate(pgd_images_grouped[index], pgd_labels_grouped[index], verbose=0)[1])\n",
    "    # print('model accuracy on  Cleverhans PGD images for ', round(epsilon, 1) ,' :' , model.evaluate(pgd_images_grouped[index], pgd_labels_grouped[index], verbose=0)[1])\n",
    "\n",
    "    model_adv_pred.append(model_adv_mod.evaluate(pgd_images_grouped[index], pgd_labels_grouped[index], verbose=0)[1])\n",
    "    model_madry_pred.append(model_madry.evaluate(pgd_images_grouped[index], pgd_labels_grouped[index], verbose=0)[1])\n",
    "    model_pred.append(model.evaluate(pgd_images_grouped[index], pgd_labels_grouped[index], verbose=0)[1])\n",
    "\n",
    "\n",
    "model_adv_plot, = plt.plot(epsilon_values, model_adv_pred, color='blue', marker='o', label='Adversarially Trained Model')\n",
    "model_madry_plot, = plt.plot(epsilon_values, model_madry_pred, color='red', marker='o', label='Madry\\'s Model')\n",
    "model_plot, = plt.plot(epsilon_values, model_pred, color='green', marker='o', label='Clean Model')\n",
    "plt.legend(handles=[model_plot, model_madry_plot, model_adv_plot])\n",
    "plt.show()\n"
   ]
  },
  {
   "cell_type": "code",
   "execution_count": 7,
   "metadata": {},
   "outputs": [
    {
     "data": {
      "image/png": "[encoded data removed]",
      "text/plain": [
       "<Figure size 432x288 with 1 Axes>"
      ]
     },
     "metadata": {
      "needs_background": "light"
     },
     "output_type": "display_data"
    }
   ],
   "source": [
    "# divide fgsm_images and fgsm_labels into different epsilon values\n",
    "epsilon_values = np.arange(0.1, 1.5, 0.1)\n",
    "\n",
    "# put images into 14 groups of images as a multidiemensional array\n",
    "fgsm_images_grouped = np.array(np.array_split(fgsm_images, len(epsilon_values)))\n",
    "fgsm_labels_grouped = np.array(np.array_split(fgsm_labels, len(epsilon_values)))\n",
    "\n",
    "plt.title('Clean Model vs Adv Model on FGSM Images')\n",
    "plt.xlabel('Epsilon')\n",
    "plt.ylabel('Accuracy')\n",
    "\n",
    "model_adv_pred = []\n",
    "model_madry_pred = []\n",
    "model_pred = []\n",
    "\n",
    "# iterate through epsilon values and evaluate model and model_adv for each iteration\n",
    "for index, epsilon in enumerate(epsilon_values):\n",
    "    # print('model_adv accuracy on Cleverhans FGSM images for ', round(epsilon, 1),' :' , model_adv.evaluate(fgsm_images_grouped[index], fgsm_labels_grouped[index], verbose=0)[1])\n",
    "    # print('model accuracy on  Cleverhans FGSM images for ', round(epsilon, 1) ,' :' , model.evaluate(fgsm_images_grouped[index], fgsm_labels_grouped[index], verbose=0)[1])\n",
    "\n",
    "    model_adv_pred.append(model_adv.evaluate(fgsm_images_grouped[index], fgsm_labels_grouped[index], verbose=0)[1])\n",
    "    model_madry_pred.append(model_madry.evaluate(fgsm_images_grouped[index], fgsm_labels_grouped[index], verbose=0)[1])\n",
    "    model_pred.append(model.evaluate(fgsm_images_grouped[index], fgsm_labels_grouped[index], verbose=0)[1])\n",
    "\n",
    "\n",
    "model_adv_plot, = plt.plot(epsilon_values, model_adv_pred, color='blue', marker='o', label='Adversarially Trained Model')\n",
    "model_madry_plot, = plt.plot(epsilon_values, model_madry_pred, color='red', marker='o', label='Madry\\'s Model')\n",
    "model_plot, = plt.plot(epsilon_values, model_pred, color='green', marker='o', label='Clean Model')\n",
    "plt.legend(handles=[model_plot, model_madry_plot, model_adv_plot])\n",
    "plt.show()\n"
   ]
  },
  {
   "cell_type": "code",
   "execution_count": 46,
   "metadata": {},
   "outputs": [
    {
     "name": "stdout",
     "output_type": "stream",
     "text": [
      "313/313 [==============================] - 1s 4ms/step - loss: 0.1927 - sparse_categorical_accuracy: 0.9360\n"
     ]
    },
    {
     "data": {
      "text/plain": [
       "[0.19272330403327942, 0.9359999895095825]"
      ]
     },
     "execution_count": 46,
     "metadata": {},
     "output_type": "execute_result"
    }
   ],
   "source": [
    "model_madry.evaluate(ds_test_images, ds_test_labels)"
   ]
  },
  {
   "cell_type": "code",
   "execution_count": 47,
   "metadata": {},
   "outputs": [
    {
     "name": "stdout",
     "output_type": "stream",
     "text": [
      "313/313 [==============================] - 1s 4ms/step - loss: 0.0572 - sparse_categorical_accuracy: 0.9858\n"
     ]
    },
    {
     "data": {
      "text/plain": [
       "[0.05719533562660217, 0.98580002784729]"
      ]
     },
     "execution_count": 47,
     "metadata": {},
     "output_type": "execute_result"
    }
   ],
   "source": [
    "model_adv.evaluate(ds_test_images, ds_test_labels)"
   ]
  },
  {
   "cell_type": "code",
   "execution_count": 48,
   "metadata": {},
   "outputs": [
    {
     "name": "stdout",
     "output_type": "stream",
     "text": [
      "313/313 [==============================] - 2s 5ms/step - loss: 0.0471 - sparse_categorical_accuracy: 0.9850\n"
     ]
    },
    {
     "data": {
      "text/plain": [
       "[0.04714849591255188, 0.9850000143051147]"
      ]
     },
     "execution_count": 48,
     "metadata": {},
     "output_type": "execute_result"
    }
   ],
   "source": [
    "model.evaluate(ds_test_images, ds_test_labels)"
   ]
  }
 ],
 "metadata": {
  "interpreter": {
   "hash": "4d32610e65d0ba547d20b5ddccd11b31c7d91644470808fb362c82b58c120951"
  },
  "kernelspec": {
   "display_name": "Python 3.9.0 64-bit",
   "language": "python",
   "name": "python3"
  },
  "language_info": {
   "codemirror_mode": {
    "name": "ipython",
    "version": 3
   },
   "file_extension": ".py",
   "mimetype": "text/x-python",
   "name": "python",
   "nbconvert_exporter": "python",
   "pygments_lexer": "ipython3",
   "version": "3.9.0"
  },
  "orig_nbformat": 4
 },
 "nbformat": 4,
 "nbformat_minor": 2
}
